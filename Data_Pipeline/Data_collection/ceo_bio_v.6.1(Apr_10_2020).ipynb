{
 "cells": [
  {
   "cell_type": "code",
   "execution_count": 1,
   "metadata": {},
   "outputs": [],
   "source": [
    "import re\n",
    "import pandas as pd\n",
    "import numpy as np\n",
    "import dataframe\n",
    "from bs4 import BeautifulSoup\n",
    "import socket \n",
    "import time\n",
    "import requests\n",
    "from selenium import webdriver\n",
    "from urllib.parse import quote_plus\n",
    "from selenium.webdriver.common.by import By\n",
    "from selenium.webdriver.common.keys import Keys\n",
    "from selenium.webdriver.support.ui import WebDriverWait\n",
    "from selenium.webdriver.support import expected_conditions as EC\n",
    "from selenium.common.exceptions import TimeoutException\n",
    "\n",
    "import urllib.request\n",
    "import urllib.parse"
   ]
  },
  {
   "cell_type": "code",
   "execution_count": 2,
   "metadata": {},
   "outputs": [],
   "source": [
    "ceo_df = pd.read_csv(r'C:\\Users\\Jeeho\\Documents\\Python Scripts\\Capstone project\\Web_Scrap\\fg500_CEOs_v4_all(Apr_10_2020).csv')"
   ]
  },
  {
   "cell_type": "code",
   "execution_count": 3,
   "metadata": {},
   "outputs": [],
   "source": [
    "c_sample = ceo_df['CEO']"
   ]
  },
  {
   "cell_type": "code",
   "execution_count": 4,
   "metadata": {},
   "outputs": [
    {
     "name": "stdout",
     "output_type": "stream",
     "text": [
      "                                  ceo  \\\n",
      "0                       Doug McMillon   \n",
      "1                        Dai Houliang   \n",
      "2                     Ben van Beurden   \n",
      "3                                       \n",
      "4                                       \n",
      "5                      Amin H. Nasser   \n",
      "6                          Bob Dudley   \n",
      "7                        Darren Woods   \n",
      "8                       Herbert Diess   \n",
      "9                         Akio Toyoda   \n",
      "10                           Tim Cook   \n",
      "11                     Warren Buffett   \n",
      "12                         Jeff Bezos   \n",
      "13                                      \n",
      "14                                      \n",
      "15                    Ivan Glasenberg   \n",
      "16                     Brian S. Tyler   \n",
      "17                      Ola Källenius   \n",
      "18                     Larry J. Merlo   \n",
      "19                   Patrick Pouyanné   \n",
      "20                                      \n",
      "21                        Jeremy Weir   \n",
      "22                          Terry Gou   \n",
      "23                        John Elkann   \n",
      "24              Randall L. Stephenson   \n",
      "25                                      \n",
      "26                   Steven H. Collis   \n",
      "27                         Mike Wirth   \n",
      "28                         Ma Mingzhe   \n",
      "29                        Jim Hackett   \n",
      "..                                ...   \n",
      "469                   Richard M. Tsai   \n",
      "470                   Miguel Patricio   \n",
      "471                                     \n",
      "472                  Revathi Advaithi   \n",
      "473                       Zhang Yalin   \n",
      "474                                     \n",
      "475                    Jörn H. Werner   \n",
      "476                  Florent Menrgaux   \n",
      "477               Philip W. Chronican   \n",
      "478                   Dirk Van de Put   \n",
      "479                    Kasper Rørsted   \n",
      "480                     Li Hongshuang   \n",
      "481                     Wiebe Draijer   \n",
      "482                                     \n",
      "483                       Xu Xianping   \n",
      "484                  Andrew J. Cecere   \n",
      "485                  Jeffrey Gennette   \n",
      "486      Miguel Eduardo Padilla Silva   \n",
      "487                     Todd J. Vasos   \n",
      "488                         H.C. Shin   \n",
      "489                Gerald W. Schwartz   \n",
      "490                     Bao Lang Chen   \n",
      "491               Philippe Petitcolin   \n",
      "492              Willem A.J. van Duin   \n",
      "493                   Rajesh J. Mehta   \n",
      "494                  Leon J. Topalian   \n",
      "495                      Darryl White   \n",
      "496                                     \n",
      "497  Frederico Pinheiro Fleury Curado   \n",
      "498                     Benoît Potier   \n",
      "\n",
      "                                                 value  \n",
      "0    Born: October 17, 1966 (age 53 years), Memphis...  \n",
      "1                                                 Null  \n",
      "2    Born: April 23, 1958 (age 61 years), Netherlan...  \n",
      "3                                                       \n",
      "4                                                       \n",
      "5    Born: 1960 (age 60 years)', 'Nationality: Saud...  \n",
      "6    Born: September 14, 1955 (age 64 years), Queen...  \n",
      "7    Born: Wichita, KS', 'Nationality: American', '...  \n",
      "8    Born: October 24, 1958 (age 61 years), Munich,...  \n",
      "9    Born: May 3, 1956 (age 63 years), Nagoya, Aich...  \n",
      "10   Born: November 1, 1960 (age 59 years), Mobile,...  \n",
      "11   Born: August 30, 1930 (age 89 years), Omaha, N...  \n",
      "12   Born: January 12, 1964 (age 56 years), Albuque...  \n",
      "13                                                      \n",
      "14                                                      \n",
      "15   Born: January 1957 (age 63 years), Johannesbur...  \n",
      "16                                                Null  \n",
      "17   Born: June 11, 1969 (age 50 years), Västervik,...  \n",
      "18   Born: 1956 (age 64 years), Pittsburgh, PA', 'N...  \n",
      "19   Born: June 24, 1963 (age 56 years), Le Petit-Q...  \n",
      "20                                                      \n",
      "21   Born: 1964 (age 56 years), Melbourne, Australi...  \n",
      "22   Born: October 18, 1950 (age 69 years), Banqiao...  \n",
      "23   Born: April 1, 1976 (age 44 years), New York, ...  \n",
      "24   Born: April 22, 1960 (age 59 years), Oklahoma ...  \n",
      "25                                                      \n",
      "26   Born: 1961 (age 59 years), South Africa', 'Edu...  \n",
      "27   Born: 1960 (age 60 years)', 'Education: Univer...  \n",
      "28   Born: December 1955 (age 64 years), China', 'E...  \n",
      "29   Born: April 22, 1955 (age 64 years), Columbus,...  \n",
      "..                                                 ...  \n",
      "469                                               Null  \n",
      "470  Nationality: Portuguese', 'Predecessor: Bernar...  \n",
      "471                                                     \n",
      "472                                               Null  \n",
      "473  Born: April 19, 1981, Dalian, China', 'Died: F...  \n",
      "474                                                     \n",
      "475                                               Null  \n",
      "476                                               Null  \n",
      "477                                               Null  \n",
      "478  Born: 1959 (age 61 years), Mechelen, Belgium',...  \n",
      "479  Born: February 24, 1962 (age 58 years), Aarhus...  \n",
      "480                                               Null  \n",
      "481  Born: August 27, 1965 (age 54 years), Enschede...  \n",
      "482                                                     \n",
      "483  Born: October 1954 (age 65 years), Longhui Cou...  \n",
      "484                                               Null  \n",
      "485  \"Movies: The 92nd Annual Macy's Thanksgiving D...  \n",
      "486                                               Null  \n",
      "487                                               Null  \n",
      "488                                               Null  \n",
      "489  Born: November 24, 1941 (age 78 years), Winnip...  \n",
      "490                                               Null  \n",
      "491  Born: September 28, 1952 (age 67 years), Banno...  \n",
      "492                                               Null  \n",
      "493                                               Null  \n",
      "494                                               Null  \n",
      "495                    Education: Ivey Business School  \n",
      "496                                                     \n",
      "497                                               Null  \n",
      "498  Born: 1957 (age 63 years), Mulhouse, France', ...  \n",
      "\n",
      "[499 rows x 2 columns]\n"
     ]
    }
   ],
   "source": [
    "browser = webdriver.Chrome(r\"C:\\Users\\Jeeho\\AppData\\Local\\Programs\\Python\\Python36\\chromedriver.exe\")\n",
    "\n",
    "\n",
    "ceo_list = c_sample\n",
    "values =[]\n",
    "df = pd.DataFrame(columns = ['ceo'])\n",
    "\n",
    "for ceo in ceo_list:\n",
    "    baseUrl = 'https://www.google.com/search?q='\n",
    "    browser.get(baseUrl + ceo)\n",
    "    table = browser.find_elements_by_css_selector('div.ifM9O') \n",
    "\n",
    "    for row in table:\n",
    "        ceo = str(([c.text for c in row.find_elements_by_css_selector('div.kno-ecr-pt.PZPZlf.gsmt.i8lZMc')])).strip('[]').strip(\"''\")\n",
    "    for row in table:\n",
    "        value = str(([c.text for c in row.find_elements_by_css_selector('div.Z1hOCe')])).strip('[]').strip(\"''\")\n",
    "    if not table:\n",
    "        value = 'Null'\n",
    "    \n",
    "    values.append(value)\n",
    "    \n",
    "    s = pd.Series(ceo,index=df.columns)\n",
    "    vs = pd.Series(values) \n",
    "\n",
    "    df = df.append(s,ignore_index=True)\n",
    "\n",
    "    time.sleep(2) # To make the scraping slower\n",
    "    \n",
    "    \n",
    "df['value'] = vs  \n",
    "print(df)\n",
    "\n",
    "browser.close()"
   ]
  },
  {
   "cell_type": "code",
   "execution_count": 5,
   "metadata": {},
   "outputs": [],
   "source": [
    "#Make a copy of the original scraped dataset\n",
    "df1 = df"
   ]
  },
  {
   "cell_type": "code",
   "execution_count": 6,
   "metadata": {},
   "outputs": [],
   "source": [
    "#reindex the data\n",
    "re_index = pd.Series(range(1,500))  \n",
    "df1 = df1.set_index([re_index])"
   ]
  },
  {
   "cell_type": "markdown",
   "metadata": {},
   "source": [
    "Rename the unnamed column as index"
   ]
  },
  {
   "cell_type": "code",
   "execution_count": 8,
   "metadata": {},
   "outputs": [],
   "source": [
    "#ceo list from 1-266\n",
    "df_1 = df1.iloc[0:266]\n",
    "\n",
    "#ceo list from 267 to 500\n",
    "df_2 = df1.iloc[266:499]\n",
    "\n",
    "#reindex the df_2\n",
    "re_index2 = pd.Series(range(268,501))  \n",
    "df_2 = df_2.set_index([re_index2])\n",
    "\n",
    "#Merge the reindexed lists\n",
    "df1=df_1.append(df_2, ignore_index=False)\n"
   ]
  },
  {
   "cell_type": "code",
   "execution_count": 10,
   "metadata": {},
   "outputs": [],
   "source": [
    "# convert the index to a column and name as company_rank \n",
    "df1['index1'] = df1.index\n",
    "\n",
    "df1 = df1.rename(columns={'index1': 'company_rank'})"
   ]
  },
  {
   "cell_type": "code",
   "execution_count": 12,
   "metadata": {},
   "outputs": [],
   "source": [
    "#reindex the data as starting from 1 to 499\n",
    "re_index = pd.Series(range(1,500))  \n",
    "df1 = df1.set_index([re_index])"
   ]
  },
  {
   "cell_type": "markdown",
   "metadata": {},
   "source": [
    "Clear rows. Select the rows having values only"
   ]
  },
  {
   "cell_type": "code",
   "execution_count": 20,
   "metadata": {
    "scrolled": true
   },
   "outputs": [],
   "source": [
    "#Select only the rows with values to proceed RegEx later\n",
    "# exclude the rows with ceo value having ''\n",
    "df_n = df1[df1['ceo'] != '']\n",
    "\n",
    "#exlucde the rows if the value of 'value' column is null\n",
    "df_nv = df_n[(df_n['value'] != 'Null')]"
   ]
  },
  {
   "cell_type": "markdown",
   "metadata": {},
   "source": [
    "Splite the 'value' column using regex"
   ]
  },
  {
   "cell_type": "markdown",
   "metadata": {},
   "source": [
    "Succeed to split the values. However, only some of the should be selected: Born, Nationality, and Education"
   ]
  },
  {
   "cell_type": "code",
   "execution_count": 22,
   "metadata": {
    "scrolled": true
   },
   "outputs": [
    {
     "name": "stderr",
     "output_type": "stream",
     "text": [
      "C:\\Users\\Jeeho\\Anaconda3\\lib\\site-packages\\ipykernel_launcher.py:2: SettingWithCopyWarning: \n",
      "A value is trying to be set on a copy of a slice from a DataFrame.\n",
      "Try using .loc[row_indexer,col_indexer] = value instead\n",
      "\n",
      "See the caveats in the documentation: http://pandas.pydata.org/pandas-docs/stable/indexing.html#indexing-view-versus-copy\n",
      "  \n",
      "C:\\Users\\Jeeho\\Anaconda3\\lib\\site-packages\\ipykernel_launcher.py:5: SettingWithCopyWarning: \n",
      "A value is trying to be set on a copy of a slice from a DataFrame.\n",
      "Try using .loc[row_indexer,col_indexer] = value instead\n",
      "\n",
      "See the caveats in the documentation: http://pandas.pydata.org/pandas-docs/stable/indexing.html#indexing-view-versus-copy\n",
      "  \"\"\"\n",
      "C:\\Users\\Jeeho\\Anaconda3\\lib\\site-packages\\ipykernel_launcher.py:13: SettingWithCopyWarning: \n",
      "A value is trying to be set on a copy of a slice from a DataFrame.\n",
      "Try using .loc[row_indexer,col_indexer] = value instead\n",
      "\n",
      "See the caveats in the documentation: http://pandas.pydata.org/pandas-docs/stable/indexing.html#indexing-view-versus-copy\n",
      "  del sys.path[0]\n"
     ]
    }
   ],
   "source": [
    "# For Born\n",
    "df_nv['Born'] = df_nv['value'].str.extract(r\"Born: (.+?)\\'\\,\" )\n",
    "\n",
    "# For Nationality \n",
    "df_nv['Nationality'] = df_nv['value'].str.extract(r\"Nationality: (.+?)\\'\\,\" )\n",
    "\n",
    "\n",
    "# For Education\n",
    "## Select the strings end with \"', '\" and the strings end with nothing\n",
    "Education = df_nv['value'].str.extract(r\"Education: (.+?)\\'\\,\\s\\'|Education: (.+)?|Alma mater: (.+?)\\'\\,\\s\\'\")\n",
    "\n",
    "## merge the extracted two columes\n",
    "df_nv['Education'] = pd.concat([Education[0].dropna(), Education[1].dropna(), Education[2].dropna()]).reindex_like(Education)\n",
    "\n",
    "#See the full contents of the rows of value\n",
    "pd.set_option('display.max_colwidth', -1)\n"
   ]
  },
  {
   "cell_type": "markdown",
   "metadata": {},
   "source": [
    "Extract only Birth of Year only as BoY"
   ]
  },
  {
   "cell_type": "code",
   "execution_count": 23,
   "metadata": {},
   "outputs": [
    {
     "name": "stderr",
     "output_type": "stream",
     "text": [
      "C:\\Users\\Jeeho\\Anaconda3\\lib\\site-packages\\ipykernel_launcher.py:1: SettingWithCopyWarning: \n",
      "A value is trying to be set on a copy of a slice from a DataFrame.\n",
      "Try using .loc[row_indexer,col_indexer] = value instead\n",
      "\n",
      "See the caveats in the documentation: http://pandas.pydata.org/pandas-docs/stable/indexing.html#indexing-view-versus-copy\n",
      "  \"\"\"Entry point for launching an IPython kernel.\n"
     ]
    }
   ],
   "source": [
    "df_nv['BoY'] = df_nv['Born'].str.extract(pat = \"([0-9]{4})\" )"
   ]
  },
  {
   "cell_type": "markdown",
   "metadata": {},
   "source": [
    "Extract Nationality strings from Born based on 1) the postal abbreviations of the US and 2) the country names"
   ]
  },
  {
   "cell_type": "code",
   "execution_count": 24,
   "metadata": {},
   "outputs": [],
   "source": [
    "# Create a list of the abbr\n",
    "\n",
    "us_postal_abbr = {'AL', 'AK', 'AZ', 'AR', 'CA', 'CO', 'CT', 'DE', 'FL', 'GA', \n",
    "                  'HI', 'ID', 'IL', 'IN', 'IA', 'KS', 'KY', 'LA', 'ME', 'MD', \n",
    "                  'MA', 'MI', 'MN', 'MS', 'MO', 'MT', 'NE', 'NV', 'NH', 'NJ', \n",
    "                  'NM', 'NY', 'NC', 'ND', 'OH', 'OK', 'OR', 'PA', 'RI', 'SC', \n",
    "                  'SD', 'TN', 'TX', 'UT', 'VT', 'VA', 'WA', 'WV', 'WY'}"
   ]
  },
  {
   "cell_type": "markdown",
   "metadata": {},
   "source": [
    "reorder the index to run the for loop"
   ]
  },
  {
   "cell_type": "code",
   "execution_count": 25,
   "metadata": {},
   "outputs": [],
   "source": [
    "df_nv_index = pd.Series(range(len(df_nv))) "
   ]
  },
  {
   "cell_type": "code",
   "execution_count": 26,
   "metadata": {},
   "outputs": [],
   "source": [
    "df_nv = df_nv.set_index([df_nv_index])"
   ]
  },
  {
   "cell_type": "code",
   "execution_count": 27,
   "metadata": {
    "scrolled": true
   },
   "outputs": [],
   "source": [
    "# Create a column for the extracted us abbreviation code \n",
    "df_nv['us_abbr'] = df_nv['Born'].str.extract(pat = \"([A-Z]{2})\")\n",
    "\n",
    "# Insert value 'American' in the 'Nationality' column if where the us_abbr matchs with the list of abbr\n",
    "df_nv.loc[df_nv['us_abbr'].isin(us_postal_abbr), 'Nationality'] = 'American'"
   ]
  },
  {
   "cell_type": "markdown",
   "metadata": {},
   "source": [
    "For nationalities"
   ]
  },
  {
   "cell_type": "code",
   "execution_count": 28,
   "metadata": {},
   "outputs": [],
   "source": [
    "pd.set_option('display.max_rows', None)"
   ]
  },
  {
   "cell_type": "markdown",
   "metadata": {},
   "source": [
    "Catch the missing countries among the values"
   ]
  },
  {
   "cell_type": "code",
   "execution_count": 29,
   "metadata": {
    "scrolled": true
   },
   "outputs": [],
   "source": [
    "#Extract the United States and United Kingdom and the other country names\n",
    "bn = df_nv['Born'].str.extract(\".*?([A-Za-z]{6}\\s[A-Za-z]{6,7})$|.*?([A-Za-z]{5,11})$\")\n",
    "\n",
    "## merge the extracted two columes\n",
    "df_nv['born_country'] = pd.concat([bn[0].dropna(), bn[1].dropna()]).reindex_like(bn)\n",
    "\n",
    "#Replacing the NaN values of Nationality column with newly extracted values \n",
    "df_nv['Nationality'].fillna(df_nv['born_country'], inplace=True)"
   ]
  },
  {
   "cell_type": "code",
   "execution_count": 30,
   "metadata": {},
   "outputs": [],
   "source": [
    "#drop value, us_abbr, and born_coutry columns\n",
    "df_nv = df_nv.drop(['value', 'us_abbr', 'born_country'], axis = 1)\n"
   ]
  },
  {
   "cell_type": "code",
   "execution_count": 32,
   "metadata": {},
   "outputs": [],
   "source": [
    "#reindex the data as starting from 1\n",
    "re_index_nv = pd.Series(range(1,245))  \n",
    "df_nv = df_nv.set_index([re_index_nv])"
   ]
  },
  {
   "cell_type": "code",
   "execution_count": 34,
   "metadata": {},
   "outputs": [],
   "source": [
    "df_nv.to_csv(r'D:\\Yeshiva_Univ\\Courses\\Capstone_project\\CEOs_Culture_project\\Data\\ceo_information\\CEOs_info_v6.1(Apr_10_2020).csv')"
   ]
  }
 ],
 "metadata": {
  "kernelspec": {
   "display_name": "Python 3",
   "language": "python",
   "name": "python3"
  },
  "language_info": {
   "codemirror_mode": {
    "name": "ipython",
    "version": 3
   },
   "file_extension": ".py",
   "mimetype": "text/x-python",
   "name": "python",
   "nbconvert_exporter": "python",
   "pygments_lexer": "ipython3",
   "version": "3.6.5"
  }
 },
 "nbformat": 4,
 "nbformat_minor": 2
}
