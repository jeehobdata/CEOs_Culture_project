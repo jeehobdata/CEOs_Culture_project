{
 "cells": [
  {
   "cell_type": "markdown",
   "metadata": {},
   "source": [
    "## Web Scraping Forbes Global 500 Data "
   ]
  },
  {
   "cell_type": "code",
   "execution_count": 1,
   "metadata": {},
   "outputs": [],
   "source": [
    "import awscli\n",
    "import sys\n",
    "import selenium\n",
    "import unittest\n",
    "import boto3\n",
    "import pandas as pd\n",
    "import tabulate\n",
    "import time\n",
    "import requests\n",
    "import csv\n",
    "import dataframe\n",
    "from bs4 import BeautifulSoup\n",
    "from tabulate import tabulate\n",
    "from selenium import webdriver"
   ]
  },
  {
   "cell_type": "code",
   "execution_count": 2,
   "metadata": {},
   "outputs": [],
   "source": [
    "browser = webdriver.Chrome(r\"C:\\Users\\Jeeho\\AppData\\Local\\Programs\\Python\\Python36\\chromedriver.exe\")\n",
    "browser.get('https://fortune.com/global500/2019/search/')"
   ]
  },
  {
   "cell_type": "code",
   "execution_count": 3,
   "metadata": {},
   "outputs": [],
   "source": [
    "#Find EIN filed\n",
    "inputElement = browser.find_element_by_xpath(\"//*[@id='content']/div/div[2]/div/div[2]/div/div[2]/span[2]/select\")\n",
    "inputElement.send_keys('100 Rows')"
   ]
  },
  {
   "cell_type": "code",
   "execution_count": 4,
   "metadata": {},
   "outputs": [],
   "source": [
    "#identify the table to scrape\n",
    "table = browser.find_element_by_css_selector('div.rt-tbody')"
   ]
  },
  {
   "cell_type": "code",
   "execution_count": 5,
   "metadata": {},
   "outputs": [],
   "source": [
    "datetime = time.strftime(\"%Y%m%d-%H%M%S\")\n",
    "filedirectory = 'C:/Users/Jeeho/Documents/Python Scripts/Capstone project/Web_Scrap/'\n",
    "filename = 'fg500_'\n",
    "datetime = time.strftime(\"%Y%m%d%H%M%S\")\n",
    "file = \"%s%s%s.csv\"%(filedirectory,filename,datetime)"
   ]
  },
  {
   "cell_type": "code",
   "execution_count": 6,
   "metadata": {},
   "outputs": [
    {
     "name": "stdout",
     "output_type": "stream",
     "text": [
      "Scraping Page number 1\n",
      "Scraping Page number 2\n",
      "Scraping Page number 3\n",
      "Scraping Page number 4\n",
      "Scraping Page number 5\n",
      "    rank                   company     revenues revenue % change profits($M)  \\\n",
      "0      1                   Walmart  $514,405.00             2.8%   $6,670.00   \n",
      "1      2             Sinopec Group  $414,649.90            26.8%   $5,845.00   \n",
      "2      3         Royal Dutch Shell  $396,556.00            27.2%  $23,352.00   \n",
      "3      4  China National Petroleum  $392,976.60            20.5%   $2,270.50   \n",
      "4      5                State Grid  $387,056.00            10.9%   $8,174.80   \n",
      "..   ...                       ...          ...              ...         ...   \n",
      "495  496                     Nucor   $25,067.30            23.8%   $2,360.80   \n",
      "496  497          Bank of Montreal   $25,002.70            16.5%   $4,235.10   \n",
      "497  498   Taikang Insurance Group   $24,931.70             3.6%   $1,794.60   \n",
      "498  499         Ultrapar Holdings   $24,816.00              -1%      $314.8   \n",
      "499  500               Air Liquide   $24,796.60             7.1%   $2,494.20   \n",
      "\n",
      "      assets($M) profits % change  employees change in rank 500  \\\n",
      "0    $219,295.00           -32.4%  2,200,000                  -   \n",
      "1    $329,186.30           280.1%    619,151                  1   \n",
      "2    $399,194.00            79.9%     81,000                  2   \n",
      "3    $601,899.90                -  1,382,401                  -   \n",
      "4    $572,309.50           -14.3%    917,717                 -3   \n",
      "..           ...              ...        ...                ...   \n",
      "495   $17,920.60              79%     26,300                  -   \n",
      "496  $589,481.40             3.6%     45,454                  -   \n",
      "497  $117,398.30             6.6%     57,406                 -9   \n",
      "498    $7,870.20           -36.2%     17,034                -29   \n",
      "499   $47,983.80             0.6%     66,000                  -   \n",
      "\n",
      "    country/territory  \n",
      "0                U.S.  \n",
      "1               China  \n",
      "2         Netherlands  \n",
      "3               China  \n",
      "4               China  \n",
      "..                ...  \n",
      "495              U.S.  \n",
      "496            Canada  \n",
      "497             China  \n",
      "498            Brazil  \n",
      "499            France  \n",
      "\n",
      "[500 rows x 10 columns]\n"
     ]
    }
   ],
   "source": [
    "#create empty dataframe Test 2 : Included For Loop for next pages \n",
    "data =[]\n",
    "\n",
    "#Use For Loop for Index\n",
    "\n",
    "index = 1\n",
    "while True:\n",
    "    if index > 5:\n",
    "        break\n",
    "    try:\n",
    "        print(\"Scraping Page number \" + str(index))\n",
    "        index = index + 1\n",
    "        for row in table.find_elements_by_css_selector('div.rt-tr'):\n",
    "            cols = data.append([cell.text for cell in row.find_elements_by_css_selector('div.rt-td.searchResults__cell--2Y7Ce')])\n",
    "\n",
    "        time.sleep(3)\n",
    "        next_button = browser.find_element_by_css_selector('div.-next')\n",
    "        next_button.click()\n",
    "    except Exception as e:\n",
    "        print(e)\n",
    "        break\n",
    "\n",
    "\n",
    "data1 = pd.DataFrame(data, columns = ['rank','company','revenues','revenue % change', 'profits($M)','assets($M)','profits % change','employees','change in rank 500','country/territory'])\n",
    "\n",
    "print(data1)"
   ]
  },
  {
   "cell_type": "code",
   "execution_count": 7,
   "metadata": {},
   "outputs": [],
   "source": [
    "data1.to_csv(file, header=True, line_terminator='\\n')"
   ]
  }
 ],
 "metadata": {
  "kernelspec": {
   "display_name": "Python 3",
   "language": "python",
   "name": "python3"
  },
  "language_info": {
   "codemirror_mode": {
    "name": "ipython",
    "version": 3
   },
   "file_extension": ".py",
   "mimetype": "text/x-python",
   "name": "python",
   "nbconvert_exporter": "python",
   "pygments_lexer": "ipython3",
   "version": "3.6.9"
  }
 },
 "nbformat": 4,
 "nbformat_minor": 2
}
