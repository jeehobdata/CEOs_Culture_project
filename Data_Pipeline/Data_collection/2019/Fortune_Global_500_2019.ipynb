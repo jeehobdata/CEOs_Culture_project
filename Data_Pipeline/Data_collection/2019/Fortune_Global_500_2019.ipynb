{
 "cells": [
  {
   "cell_type": "markdown",
   "metadata": {},
   "source": [
    "## Web Scraping Forbes Global 500 Data "
   ]
  },
  {
   "cell_type": "code",
   "execution_count": null,
   "metadata": {},
   "outputs": [],
   "source": [
    "import awscli\n",
    "import sys\n",
    "import selenium\n",
    "import unittest\n",
    "import boto3\n",
    "import pandas as pd\n",
    "import tabulate\n",
    "import time\n",
    "import requests\n",
    "import csv\n",
    "import dataframe\n",
    "from bs4 import BeautifulSoup\n",
    "from tabulate import tabulate\n",
    "from selenium import webdriver"
   ]
  },
  {
   "cell_type": "code",
   "execution_count": null,
   "metadata": {},
   "outputs": [],
   "source": [
    "browser = webdriver.Chrome(r\"C:\\Users\\Jeeho\\AppData\\Local\\Programs\\Python\\Python36\\chromedriver.exe\")\n",
    "browser.get('https://fortune.com/global500/2019/search/')"
   ]
  },
  {
   "cell_type": "code",
   "execution_count": null,
   "metadata": {},
   "outputs": [],
   "source": [
    "#Find EIN filed\n",
    "inputElement = browser.find_element_by_xpath(\"//*[@id='content']/div/div[2]/div/div[2]/div/div[2]/span[2]/select\")\n",
    "inputElement.send_keys('100 Rows')"
   ]
  },
  {
   "cell_type": "code",
   "execution_count": null,
   "metadata": {},
   "outputs": [],
   "source": [
    "#identify the table to scrape\n",
    "table = browser.find_element_by_css_selector('div.rt-tbody')"
   ]
  },
  {
   "cell_type": "code",
   "execution_count": null,
   "metadata": {},
   "outputs": [],
   "source": [
    "datetime = time.strftime(\"%Y%m%d-%H%M%S\")\n",
    "filedirectory = 'C:/Users/Jeeho/Documents/Python Scripts/Capstone project/Web_Scrap/'\n",
    "filename = 'fg500_2019_'\n",
    "datetime = time.strftime(\"%Y%m%d%H%M%S\")\n",
    "file = \"%s%s%s.csv\"%(filedirectory,filename,datetime)"
   ]
  },
  {
   "cell_type": "code",
   "execution_count": null,
   "metadata": {},
   "outputs": [],
   "source": [
    "#create empty dataframe Test 2 : Included For Loop for next pages \n",
    "data =[]\n",
    "\n",
    "#Use For Loop for Index\n",
    "\n",
    "index = 1\n",
    "while True:\n",
    "    if index > 5:\n",
    "        break\n",
    "    try:\n",
    "        print(\"Scraping Page number \" + str(index))\n",
    "        index = index + 1\n",
    "        for row in table.find_elements_by_css_selector('div.rt-tr'):\n",
    "            cols = data.append([cell.text for cell in row.find_elements_by_css_selector('div.rt-td.searchResults__cell--2Y7Ce')])\n",
    "\n",
    "        time.sleep(3)\n",
    "        next_button = browser.find_element_by_css_selector('div.-next')\n",
    "        next_button.click()\n",
    "    except Exception as e:\n",
    "        print(e)\n",
    "        break\n",
    "\n",
    "\n",
    "data1 = pd.DataFrame(data, columns = ['rank','company','revenues','revenue % change', 'profits($M)','assets($M)','profits % change','employees','change in rank 500','country/territory'])\n",
    "\n",
    "\n",
    "data1['year']=2019\n",
    "\n",
    "print(data1)\n",
    "\n",
    "browser.quit()"
   ]
  },
  {
   "cell_type": "code",
   "execution_count": null,
   "metadata": {},
   "outputs": [],
   "source": [
    "data1.to_csv(file, header=True, line_terminator='\\n')"
   ]
  },
  {
   "cell_type": "code",
   "execution_count": null,
   "metadata": {},
   "outputs": [],
   "source": [
    "from botocore.client import Config\n",
    "from io import StringIO\n",
    "\n",
    "ACCESS_KEY_ID = 'your_access_key_id'\n",
    "ACCESS_SECRET_KEY = 'your_access_secret_key'\n",
    "BUCKET_NAME = 'ceo-culture-sagemaker'\n",
    "\n",
    "csv_buffer =StringIO()\n",
    "data1.to_csv(csv_buffer)\n",
    "\n",
    "s3 = boto3.resource(\n",
    "        's3',\n",
    "        aws_access_key_id = ACCESS_KEY_ID,\n",
    "        aws_secret_access_key=ACCESS_SECRET_KEY,\n",
    "        config=Config(signature_version='s3v4')\n",
    "        )\n",
    "s3.Bucket(BUCKET_NAME).put_object(Key='fg500_2019_20200219001549.csv', Body = csv_buffer.getvalue())\n",
    "\n",
    "print(\"Uploaded\")"
   ]
  }
 ],
 "metadata": {
  "kernelspec": {
   "display_name": "Python 3",
   "language": "python",
   "name": "python3"
  },
  "language_info": {
   "codemirror_mode": {
    "name": "ipython",
    "version": 3
   },
   "file_extension": ".py",
   "mimetype": "text/x-python",
   "name": "python",
   "nbconvert_exporter": "python",
   "pygments_lexer": "ipython3",
   "version": "3.6.5"
  }
 },
 "nbformat": 4,
 "nbformat_minor": 2
}
