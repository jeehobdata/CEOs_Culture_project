{
 "cells": [
  {
   "cell_type": "code",
   "execution_count": null,
   "metadata": {},
   "outputs": [],
   "source": [
    "import re\n",
    "import pandas as pd\n",
    "import numpy as np\n",
    "import dataframe\n",
    "from bs4 import BeautifulSoup\n",
    "import socket \n",
    "import time\n",
    "import requests\n",
    "from selenium import webdriver\n",
    "from urllib.parse import quote_plus\n",
    "from selenium.webdriver.common.by import By\n",
    "from selenium.webdriver.common.keys import Keys\n",
    "from selenium.webdriver.support.ui import WebDriverWait\n",
    "from selenium.webdriver.support import expected_conditions as EC\n",
    "from selenium.common.exceptions import TimeoutException\n",
    "import urllib.request\n",
    "import urllib.parse"
   ]
  },
  {
   "cell_type": "code",
   "execution_count": null,
   "metadata": {},
   "outputs": [],
   "source": [
    "ceo_df = pd.read_csv(r'C:\\Users\\...\\fg500_CEOs_2015_v1(May_5_2020).csv')"
   ]
  },
  {
   "cell_type": "code",
   "execution_count": null,
   "metadata": {},
   "outputs": [],
   "source": [
    "c_sample = ceo_df['CEO']"
   ]
  },
  {
   "cell_type": "code",
   "execution_count": null,
   "metadata": {
    "scrolled": true
   },
   "outputs": [],
   "source": [
    "browser = webdriver.Chrome(r\"C:\\Users\\...\\chromedriver.exe\")\n",
    "\n",
    "\n",
    "ceo_list = c_sample\n",
    "values =[]\n",
    "df = pd.DataFrame(columns = ['ceo'])\n",
    "\n",
    "for ceo in ceo_list:\n",
    "    baseUrl = 'https://www.google.com/search?q='\n",
    "    browser.get(baseUrl + ceo)\n",
    "    table = browser.find_elements_by_css_selector('div.ifM9O') \n",
    "\n",
    "    for row in table:\n",
    "        ceo = str(([c.text for c in row.find_elements_by_css_selector('div.kno-ecr-pt.PZPZlf.gsmt.i8lZMc')])).strip('[]').strip(\"''\")\n",
    "    for row in table:\n",
    "        value = str(([c.text for c in row.find_elements_by_css_selector('div.Z1hOCe')])).strip('[]').strip(\"''\")\n",
    "    if not table:\n",
    "        value = 'Null'\n",
    "    \n",
    "    values.append(value)\n",
    "    \n",
    "    s = pd.Series(ceo,index=df.columns)\n",
    "    vs = pd.Series(values) \n",
    "\n",
    "    df = df.append(s,ignore_index=True)\n",
    "\n",
    "    time.sleep(2) # To make the scraping slower\n",
    "    \n",
    "    \n",
    "df['value'] = vs  \n",
    "df['ceo_year']=2015\n",
    "print(df)\n",
    "\n",
    "browser.close()"
   ]
  },
  {
   "cell_type": "code",
   "execution_count": null,
   "metadata": {},
   "outputs": [],
   "source": [
    "pd.set_option('display.max_rows', None)"
   ]
  },
  {
   "cell_type": "code",
   "execution_count": null,
   "metadata": {},
   "outputs": [],
   "source": [
    "#Make a copy of the original scraped dataset\n",
    "df1 = df"
   ]
  },
  {
   "cell_type": "code",
   "execution_count": null,
   "metadata": {},
   "outputs": [],
   "source": [
    "#reindex the data\n",
    "re_index = pd.Series(range(1,501))  \n",
    "df1 = df1.set_index([re_index])"
   ]
  },
  {
   "cell_type": "markdown",
   "metadata": {},
   "source": [
    "Rename the unnamed column as index"
   ]
  },
  {
   "cell_type": "code",
   "execution_count": null,
   "metadata": {},
   "outputs": [],
   "source": [
    "# convert the index to a column and name as company_rank \n",
    "df1['index1'] = df1.index\n",
    "\n",
    "df1 = df1.rename(columns={'index1': 'company_rank'})"
   ]
  },
  {
   "cell_type": "code",
   "execution_count": null,
   "metadata": {},
   "outputs": [],
   "source": [
    "#reindex the data as starting from 1 to 500\n",
    "re_index = pd.Series(range(1,501))  \n",
    "df1 = df1.set_index([re_index])"
   ]
  },
  {
   "cell_type": "markdown",
   "metadata": {},
   "source": [
    "Clear rows. Select the rows having values only"
   ]
  },
  {
   "cell_type": "code",
   "execution_count": null,
   "metadata": {
    "scrolled": true
   },
   "outputs": [],
   "source": [
    "#Select only the rows with values to proceed RegEx later\n",
    "# exclude the rows with ceo value having ''\n",
    "df_n = df1[df1['ceo'] != '']\n",
    "\n",
    "#exlucde the rows if the value of 'value' column is null\n",
    "df_nv = df_n[(df_n['value'] != 'Null')]"
   ]
  },
  {
   "cell_type": "code",
   "execution_count": null,
   "metadata": {},
   "outputs": [],
   "source": [
    "# Exclude the rows if the value of 'company_rank' is null\n",
    "df_nv = df_nv[(df_nv['company_rank'].notnull())]"
   ]
  },
  {
   "cell_type": "code",
   "execution_count": null,
   "metadata": {
    "scrolled": true
   },
   "outputs": [],
   "source": [
    "# For Born\n",
    "df_nv['Born'] = df_nv['value'].str.extract(r\"Born: (.+?)\\'\\,\" )\n",
    "\n",
    "# For Nationality \n",
    "df_nv['Nationality'] = df_nv['value'].str.extract(r\"Nationality: (.+?)\\'\\,\" )\n",
    "\n",
    "\n",
    "# For Education\n",
    "## Select the strings end with \"', '\" and the strings end with nothing\n",
    "Education = df_nv['value'].str.extract(r\"Education: (.+?)\\'\\,\\s\\'|Education: (.+)?|Alma mater: (.+?)\\'\\,\\s\\'\")\n",
    "\n",
    "## merge the extracted two columes\n",
    "df_nv['Education'] = pd.concat([Education[0].dropna(), Education[1].dropna(), Education[2].dropna()]).reindex_like(Education)\n",
    "\n",
    "#See the full contents of the rows of value\n",
    "pd.set_option('display.max_colwidth', -1)\n"
   ]
  },
  {
   "cell_type": "markdown",
   "metadata": {},
   "source": [
    "Extract only Birth of Year only as BoY"
   ]
  },
  {
   "cell_type": "code",
   "execution_count": null,
   "metadata": {},
   "outputs": [],
   "source": [
    "df_nv['BoY'] = df_nv['Born'].str.extract(pat = \"([0-9]{4})\" )"
   ]
  },
  {
   "cell_type": "markdown",
   "metadata": {},
   "source": [
    "Extract Nationality strings from Born based on 1) the postal abbreviations of the US and 2) the country names"
   ]
  },
  {
   "cell_type": "code",
   "execution_count": null,
   "metadata": {},
   "outputs": [],
   "source": [
    "# Create a list of the abbr\n",
    "\n",
    "us_postal_abbr = {'AL', 'AK', 'AZ', 'AR', 'CA', 'CO', 'CT', 'DE', 'FL', 'GA', \n",
    "                  'HI', 'ID', 'IL', 'IN', 'IA', 'KS', 'KY', 'LA', 'ME', 'MD', \n",
    "                  'MA', 'MI', 'MN', 'MS', 'MO', 'MT', 'NE', 'NV', 'NH', 'NJ', \n",
    "                  'NM', 'NY', 'NC', 'ND', 'OH', 'OK', 'OR', 'PA', 'RI', 'SC', \n",
    "                  'SD', 'TN', 'TX', 'UT', 'VT', 'VA', 'WA', 'WV', 'WY'}"
   ]
  },
  {
   "cell_type": "code",
   "execution_count": null,
   "metadata": {
    "scrolled": true
   },
   "outputs": [],
   "source": [
    "# Create a column for the extracted us abbreviation code \n",
    "df_nv['us_abbr'] = df_nv['Born'].str.extract(pat = \"([A-Z]{2})\")\n",
    "\n",
    "# Insert value 'American' in the 'Nationality' column if where the us_abbr matchs with the list of abbr\n",
    "df_nv.loc[df_nv['us_abbr'].isin(us_postal_abbr), 'Nationality'] = 'American'"
   ]
  },
  {
   "cell_type": "markdown",
   "metadata": {},
   "source": [
    "For nationalities"
   ]
  },
  {
   "cell_type": "markdown",
   "metadata": {},
   "source": [
    "Catch the missing countries among the values"
   ]
  },
  {
   "cell_type": "code",
   "execution_count": null,
   "metadata": {
    "scrolled": true
   },
   "outputs": [],
   "source": [
    "#Extract the United States and United Kingdom and the other country names\n",
    "bn = df_nv['Born'].str.extract(\".*?([A-Za-z]{6}\\s[A-Za-z]{6,7})$|.*?([A-Za-z]{5,11})$\")\n",
    "\n",
    "## merge the extracted two columes\n",
    "df_nv['born_country'] = pd.concat([bn[0].dropna(), bn[1].dropna()]).reindex_like(bn)\n",
    "\n",
    "#Replacing the NaN values of Nationality column with newly extracted values \n",
    "df_nv['Nationality'].fillna(df_nv['born_country'], inplace=True)"
   ]
  },
  {
   "cell_type": "code",
   "execution_count": null,
   "metadata": {},
   "outputs": [],
   "source": [
    "#drop value, us_abbr, and born_coutry columns\n",
    "df_nv = df_nv.drop(['value', 'us_abbr', 'born_country'], axis = 1)"
   ]
  },
  {
   "cell_type": "code",
   "execution_count": null,
   "metadata": {
    "scrolled": true
   },
   "outputs": [],
   "source": [
    "df_nv1 = df_nv"
   ]
  },
  {
   "cell_type": "code",
   "execution_count": null,
   "metadata": {},
   "outputs": [],
   "source": [
    "# change nationality values into country values\n",
    "\n",
    "# Nationality list\n",
    "nat = ['Afghan', 'Albanian', 'Algerian', 'American', 'Andorran', 'Angolan', 'Anguillan', 'Argentine', 'Armenian', \n",
    "       'Australian', 'Austrian', 'Azerbaijani', 'Bahamian', 'Bahraini', 'Bangladeshi', 'Barbadian', 'Belarusian',\n",
    "       'Belgian', 'Belizean', 'Beninese', 'Bermudian', 'Bhutanese', 'Bolivian', 'Botswanan', 'Brazilian', 'British',\n",
    "       'British Virgin Islander', 'Bruneian', 'Bulgarian', 'Burkinan', 'Burmese', 'Burundian', 'Cambodian', 'Cameroonian',\n",
    "       'Canadian', 'Cape Verdean', 'Cayman Islander', 'Central African', 'Chadian', 'Chilean', 'Chinese', \n",
    "       'Citizen of Antigua and Barbuda', 'Citizen of Bosnia and Herzegovina', 'Citizen of Guinea-Bissau', \n",
    "       'Citizen of Kiribati', 'Citizen of Seychelles', 'Citizen of the Dominican Republic', 'Citizen of Vanuatu ', \n",
    "       'Colombian', 'Comoran','Congolese (Congo)', 'Congolese (DRC)', 'Cook Islander', 'Costa Rican', 'Croatian', 'Cuban',\n",
    "       'Cymraes', 'Cymro', 'Cypriot', 'Czech', 'Danish', 'Djiboutian', 'Dominican', 'Dutch', 'East Timorese', 'Ecuadorean',\n",
    "       'Egyptian', 'Emirati', 'English', 'Equatorial Guinean', 'Eritrean', 'Estonian', 'Ethiopian', 'Faroese', 'Fijian',\n",
    "       'Filipino', 'Finnish', 'French', 'Gabonese', 'Gambian', 'Georgian', 'German', 'Ghanaian', 'Gibraltarian', 'Greek',\n",
    "       'Greenlandic', 'Grenadian', 'Guamanian', 'Guatemalan', 'Guinean', 'Guyanese', 'Haitian', 'Honduran', 'Hong Konger',\n",
    "       'Hungarian', 'Icelandic', 'Indian', 'Indonesian', 'Iranian', 'Iraqi', 'Irish', 'Israeli', 'Italian', 'Ivorian', \n",
    "       'Jamaican', 'Japanese', 'Jordanian', 'Kazakh', 'Kenyan', 'Kittitian', 'Kosovan', 'Kuwaiti', 'Kyrgyz', 'Lao', 'Latvian',\n",
    "       'Lebanese', 'Liberian', 'Libyan', 'Liechtenstein citizen', 'Lithuanian', 'Luxembourger', 'Macanese', 'Macedonian',\n",
    "       'Malagasy', 'Malawian', 'Malaysian', 'Maldivian', 'Malian', 'Maltese', 'Marshallese', 'Martiniquais', 'Mauritanian',\n",
    "       'Mauritian', 'Mexican', 'Micronesian', 'Moldovan', 'Monegasque', 'Mongolian', 'Montenegrin', 'Montserratian',\n",
    "       'Moroccan', 'Mosotho', 'Mozambican', 'Namibian', 'Nauruan', 'Nepalese', 'New Zealander', 'Nicaraguan', 'Nigerian',\n",
    "       'Nigerien', 'Niuean', 'North Korean', 'Northern Irish', 'Norwegian', 'Omani', 'Pakistani', 'Palauan', 'Palestinian',\n",
    "       'Panamanian', 'Papua New Guinean', 'Paraguayan', 'Peruvian', 'Pitcairn Islander', 'Polish', 'Portuguese', 'Prydeinig',\n",
    "       'Puerto Rican', 'Qatari', 'Romanian', 'Russian', 'Rwandan', 'Salvadorean', 'Sammarinese', 'Samoan', 'Sao Tomean',\n",
    "       'Saudi Arabian', 'Scottish', 'Senegalese', 'Serbian', 'Sierra Leonean', 'Singaporean', 'Slovak', 'Slovenian',\n",
    "       'Solomon Islander', 'Somali', 'South African', 'South Korean', 'South Sudanese', 'Spanish', 'Sri Lankan',\n",
    "       'St Helenian', 'St Lucian', 'Stateless', 'Sudanese', 'Surinamese', 'Swazi', 'Swedish', 'Swiss', 'Syrian', 'Taiwanese',\n",
    "       'Tajik', 'Tanzanian', 'Thai', 'Togolese', 'Tongan', 'Trinidadian', 'Tristanian', 'Tunisian', 'Turkish', 'Turkmen',\n",
    "       'Turks and Caicos Islander', 'Tuvaluan', 'Ugandan', 'Ukrainian', 'Uruguayan', 'Uzbek', 'Vatican citizen', 'Venezuelan',\n",
    "       'Vietnamese', 'Vincentian', 'Wallisian', 'Welsh', 'Yemeni', 'Zambian', 'Zimbabwean']"
   ]
  },
  {
   "cell_type": "code",
   "execution_count": null,
   "metadata": {},
   "outputs": [],
   "source": [
    "# create a value column \"Check\" showing Y if the value in country column is in the list of nationalities\n",
    "df_nv1.loc[df_nv1['Nationality'].isin(nat), 'Check'] = 'Y'"
   ]
  },
  {
   "cell_type": "code",
   "execution_count": null,
   "metadata": {},
   "outputs": [],
   "source": [
    "''' a list of Nationality and other different country names among the Country values and correction\n",
    "American = United States\n",
    "Argentine = Argentina\n",
    "Austrian = Austria\n",
    "Brazilian = Brazil\n",
    "British = United Kingdom\n",
    "Canadian = Canada\n",
    "Canada (English-speaking) = Canada\n",
    "Canada French = Canada\n",
    "Chinese = China\n",
    "Danish = Denmark\n",
    "French = France\n",
    "German = Germany\n",
    "Germany (EAST) = Germany\n",
    "Germany (WEST) = Germany\n",
    "Germany East = Germany\n",
    "Indian = India\n",
    "Japanese = Japan\n",
    "Portuguese = Portugal\n",
    "Singaporean = Singapore\n",
    "Swedish = Sweden\n",
    "Swiss = Switzerland\n",
    "U.S. = United States\n",
    "USA = United States\n",
    "American, Indian = Indian\n",
    "Korea = South Korea\n",
    "Russian, German = Russia\n",
    "French, Moroccan = Morocco\n",
    "'''\n",
    "\n",
    "a = ['American', 'Argentine', 'Austrian', 'Brazilian', 'British', 'Canadian', 'Canada (English-speaking)', 'Canada French', \n",
    "     'Chinese', 'Danish', 'French', 'German', 'Germany (EAST)', 'Germany (WEST)', 'Germany East', 'Indian', 'Japanese', \n",
    "     'Portuguese', 'Singaporean', 'Swedish', 'Swiss', 'U.S.', 'USA', \"American, Indian\", 'Korea', \"Russian, German\", \"French, Moroccan\"]\n",
    "b = ['United States', 'Argentina', 'Austria', 'Brazil', 'United Kingdom', 'Canada', 'Canada', 'Canada', 'China', 'Denmark', \n",
    "     'France', 'Germany', 'Germany', 'Germany', 'Germany', 'India', 'Japan', 'Portugal', 'Singapore', 'Sweden', 'Switzerland',\n",
    "     'United States', 'United States', 'India', 'South Korea', 'Russia', 'Morocco']"
   ]
  },
  {
   "cell_type": "code",
   "execution_count": null,
   "metadata": {},
   "outputs": [],
   "source": [
    "# Create a dataframe of the identified nationalities and thier matching countries\n",
    "nat_correct = pd.DataFrame(columns = ('nat','correct'))\n",
    "\n",
    "# Insert the list of nationalites and country names\n",
    "nat_correct['nat'] = a\n",
    "nat_correct['correct'] = b "
   ]
  },
  {
   "cell_type": "code",
   "execution_count": null,
   "metadata": {},
   "outputs": [],
   "source": [
    "#Match the identified country names with nationalities in the country_v1 dataframe\n",
    "df_nv1= nat_correct.set_index(['nat'])\\\n",
    "         .combine_first(df_nv1.set_index(['Nationality']))\\\n",
    "         .reset_index()\n",
    "#Drop Nationality and correction columns\n"
   ]
  },
  {
   "cell_type": "code",
   "execution_count": null,
   "metadata": {},
   "outputs": [],
   "source": [
    "df_nv1['Nationality'] = np.where(df_nv1['correct'].notnull(), df_nv1['correct'], df_nv1['index'])\n",
    "\n",
    "#Drop index, correct, and Check columns\n",
    "df_nv1 = df_nv1.drop(['index', 'correct', 'Check'], axis = 1)"
   ]
  },
  {
   "cell_type": "code",
   "execution_count": null,
   "metadata": {},
   "outputs": [],
   "source": [
    "df_nv1 = df_nv1[(df_nv1['company_rank'].notnull())]"
   ]
  },
  {
   "cell_type": "code",
   "execution_count": null,
   "metadata": {},
   "outputs": [],
   "source": [
    "df_nv1.sort_values(by='company_rank',inplace = True)"
   ]
  },
  {
   "cell_type": "code",
   "execution_count": null,
   "metadata": {},
   "outputs": [],
   "source": [
    "df_nv1['company_rank'] = df_nv1.company_rank.astype(int)"
   ]
  },
  {
   "cell_type": "code",
   "execution_count": null,
   "metadata": {},
   "outputs": [],
   "source": [
    "df_nv2 = df_nv1.reset_index(drop=True)"
   ]
  },
  {
   "cell_type": "code",
   "execution_count": null,
   "metadata": {},
   "outputs": [],
   "source": [
    "#reindex the data as starting from 1\n",
    "re_index_nv2 = pd.Series(range(1,308)) #<---- Edit the range for each year \n",
    "df_nv2 = df_nv2.set_index([re_index_nv2]) "
   ]
  },
  {
   "cell_type": "code",
   "execution_count": null,
   "metadata": {},
   "outputs": [],
   "source": [
    "df_nv2=df_nv2[[\"ceo\", \"company_rank\", \"Born\", \"Nationality\", \"Education\", \"BoY\", \"ceo_year\"]]"
   ]
  },
  {
   "cell_type": "code",
   "execution_count": null,
   "metadata": {},
   "outputs": [],
   "source": [
    "df_nv2.to_csv(r'D:\\...\\CEOs_info_2015_v1(May_5_2020).csv')"
   ]
  }
 ],
 "metadata": {
  "kernelspec": {
   "display_name": "Python 3",
   "language": "python",
   "name": "python3"
  },
  "language_info": {
   "codemirror_mode": {
    "name": "ipython",
    "version": 3
   },
   "file_extension": ".py",
   "mimetype": "text/x-python",
   "name": "python",
   "nbconvert_exporter": "python",
   "pygments_lexer": "ipython3",
   "version": "3.6.5"
  }
 },
 "nbformat": 4,
 "nbformat_minor": 2
}
