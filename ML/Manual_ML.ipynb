{
 "cells": [
  {
   "cell_type": "code",
   "execution_count": 1,
   "metadata": {},
   "outputs": [],
   "source": [
    "import numpy as np\n",
    "import pandas as pd\n",
    "import matplotlib\n",
    "import matplotlib.pyplot as plt\n",
    "import seaborn as sns\n",
    "%matplotlib inline\n",
    "import sklearn"
   ]
  },
  {
   "cell_type": "markdown",
   "metadata": {},
   "source": [
    "## 1. Get the Data"
   ]
  },
  {
   "cell_type": "code",
   "execution_count": 2,
   "metadata": {},
   "outputs": [],
   "source": [
    "df = pd.read_csv(r'C:\\\\Users\\\\...\\\\full_data_set_v15(May7).csv', sep=';')"
   ]
  },
  {
   "cell_type": "code",
   "execution_count": 3,
   "metadata": {},
   "outputs": [],
   "source": [
    "#See the full contents of the rows of value\n",
    "pd.set_option('display.max_colwidth', -1)\n",
    "pd.set_option('display.max_columns', None)\n",
    "pd.set_option('display.max_rows', None)"
   ]
  },
  {
   "cell_type": "markdown",
   "metadata": {},
   "source": [
    "## 2. Prepare Data"
   ]
  },
  {
   "cell_type": "markdown",
   "metadata": {},
   "source": [
    "### 2.1 Data Cleaning"
   ]
  },
  {
   "cell_type": "code",
   "execution_count": 4,
   "metadata": {},
   "outputs": [],
   "source": [
    "# Replace '\\N' values with null value\n",
    "df = df.replace(r'\\N', np.nan)"
   ]
  },
  {
   "cell_type": "code",
   "execution_count": 5,
   "metadata": {},
   "outputs": [],
   "source": [
    "df = df.replace(r'-', np.nan)"
   ]
  },
  {
   "cell_type": "code",
   "execution_count": 6,
   "metadata": {},
   "outputs": [],
   "source": [
    "# Remove \"$\" sign\n",
    "df= df.replace(r'\\$','', regex=True) "
   ]
  },
  {
   "cell_type": "code",
   "execution_count": 7,
   "metadata": {},
   "outputs": [],
   "source": [
    "# Remove \"%\" Sign\n",
    "df= df.replace(r'\\%','', regex=True) "
   ]
  },
  {
   "cell_type": "code",
   "execution_count": 8,
   "metadata": {},
   "outputs": [],
   "source": [
    "# Remove \",\" Sign\n",
    "df= df.replace(r'\\,','', regex=True)"
   ]
  },
  {
   "cell_type": "code",
   "execution_count": 9,
   "metadata": {},
   "outputs": [],
   "source": [
    "# Remove Object \"#NULL!\" \n",
    "df= df.replace('#NULL!', np.nan)"
   ]
  },
  {
   "cell_type": "code",
   "execution_count": 10,
   "metadata": {},
   "outputs": [],
   "source": [
    "# Remove \\r in BoY, Country  Cluster, ivr\n",
    "df= df.replace(r'\\r','', regex=True) "
   ]
  },
  {
   "cell_type": "code",
   "execution_count": 11,
   "metadata": {},
   "outputs": [],
   "source": [
    "# Remove \\r in BoY, Country  Cluster, ivr\n",
    "df= df.replace(r'NaN',np.nan) "
   ]
  },
  {
   "cell_type": "code",
   "execution_count": 12,
   "metadata": {},
   "outputs": [
    {
     "data": {
      "text/html": [
       "<div>\n",
       "<style scoped>\n",
       "    .dataframe tbody tr th:only-of-type {\n",
       "        vertical-align: middle;\n",
       "    }\n",
       "\n",
       "    .dataframe tbody tr th {\n",
       "        vertical-align: top;\n",
       "    }\n",
       "\n",
       "    .dataframe thead th {\n",
       "        text-align: right;\n",
       "    }\n",
       "</style>\n",
       "<table border=\"1\" class=\"dataframe\">\n",
       "  <thead>\n",
       "    <tr style=\"text-align: right;\">\n",
       "      <th></th>\n",
       "      <th>company_info_id</th>\n",
       "      <th>rank</th>\n",
       "      <th>company</th>\n",
       "      <th>year</th>\n",
       "      <th>employees</th>\n",
       "      <th>sector</th>\n",
       "      <th>industry</th>\n",
       "      <th>HQ Location</th>\n",
       "      <th>Website</th>\n",
       "      <th>Years on Global 500 List</th>\n",
       "      <th>revenues_$m</th>\n",
       "      <th>profit_$m</th>\n",
       "      <th>assets_$m</th>\n",
       "      <th>total_stockholder_equity_$m</th>\n",
       "      <th>profit_as_%_of_revenues</th>\n",
       "      <th>profits_as_%_of_assets</th>\n",
       "      <th>profits_as_%_of_stockholder_equity</th>\n",
       "      <th>ceo</th>\n",
       "      <th>Born</th>\n",
       "      <th>BoY</th>\n",
       "      <th>education</th>\n",
       "      <th>country</th>\n",
       "      <th>g_leadership_id</th>\n",
       "      <th>Country Name</th>\n",
       "      <th>Performance Oriented</th>\n",
       "      <th>Autocratic</th>\n",
       "      <th>Modesty</th>\n",
       "      <th>Charismatic 3: Self-sacrifice</th>\n",
       "      <th>Team 1: Collaborative Team Orientation</th>\n",
       "      <th>Decisive</th>\n",
       "      <th>Diplomatic</th>\n",
       "      <th>Face-saver</th>\n",
       "      <th>Charismatic 1: Visionary</th>\n",
       "      <th>Humane-oriented</th>\n",
       "      <th>Integrity</th>\n",
       "      <th>Bureaucratic, Originally Labeled ??Procedural??</th>\n",
       "      <th>Administratively Competent</th>\n",
       "      <th>Self-centred</th>\n",
       "      <th>Autonomous</th>\n",
       "      <th>Status Conscious</th>\n",
       "      <th>Charismatic 2: Inspirational</th>\n",
       "      <th>Malevolent</th>\n",
       "      <th>Team 2: Team Integrator</th>\n",
       "      <th>Internally Competitive, Originally Labeled ??Conflict Inducer??</th>\n",
       "      <th>Participative</th>\n",
       "      <th>Charismatic/Value-based Global Leadership Dimension</th>\n",
       "      <th>Team-Oriented Global Leadership Dimension</th>\n",
       "      <th>Self-Protective Global Leadership Dimension</th>\n",
       "      <th>Participative Global Leadership Dimension</th>\n",
       "      <th>Humane-Oriented Global Leadership Dimension</th>\n",
       "      <th>Autonomous Global Leadership Dimension</th>\n",
       "      <th>Country Cluster</th>\n",
       "      <th>g_societal_culture_id</th>\n",
       "      <th>Country Name.1</th>\n",
       "      <th>Uncertainty Avoidance Societal Practices</th>\n",
       "      <th>Future Orientation Societal Practices</th>\n",
       "      <th>Power Distance Societal Practices</th>\n",
       "      <th>Collectivism I Societal Practices (Institutional Collectivism)</th>\n",
       "      <th>Humane Orientation Societal Practices</th>\n",
       "      <th>Performance Orientation Societal Practices</th>\n",
       "      <th>Collectivism II Societal Practices (In-group Collectivism)</th>\n",
       "      <th>Gender Egalitarianism Societal Practices</th>\n",
       "      <th>Assertiveness Societal Practices</th>\n",
       "      <th>Uncertainty Avoidance Societal Values</th>\n",
       "      <th>Future Orientation Societal Values</th>\n",
       "      <th>Power Distance Societal Values</th>\n",
       "      <th>Collectivism I Societal Values (Institutional Collectivism)</th>\n",
       "      <th>Human Orientation Societal Values</th>\n",
       "      <th>Performance Orientation Societal Values</th>\n",
       "      <th>Collectivism II Societal Values (In-group Collectivism)</th>\n",
       "      <th>Gender Egalitarianism Societal Values</th>\n",
       "      <th>Assertiveness Societal Values</th>\n",
       "      <th>Country Cluster.1</th>\n",
       "      <th>hofstede_id</th>\n",
       "      <th>ctr</th>\n",
       "      <th>country.1</th>\n",
       "      <th>pdi</th>\n",
       "      <th>idv</th>\n",
       "      <th>mas</th>\n",
       "      <th>uai</th>\n",
       "      <th>ltowvs</th>\n",
       "      <th>ivr</th>\n",
       "    </tr>\n",
       "  </thead>\n",
       "  <tbody>\n",
       "    <tr>\n",
       "      <th>0</th>\n",
       "      <td>1</td>\n",
       "      <td>1.0</td>\n",
       "      <td>Walmart</td>\n",
       "      <td>2019</td>\n",
       "      <td>2200000</td>\n",
       "      <td>Retailing</td>\n",
       "      <td>General Merchandisers</td>\n",
       "      <td>Bentonville Ark.</td>\n",
       "      <td>https://www.walmart.com</td>\n",
       "      <td>25</td>\n",
       "      <td>514405.00</td>\n",
       "      <td>6670.00</td>\n",
       "      <td>219295.00</td>\n",
       "      <td>72496.00</td>\n",
       "      <td>1.3</td>\n",
       "      <td>3</td>\n",
       "      <td>9.2</td>\n",
       "      <td>Doug McMillon</td>\n",
       "      <td>October 17 1966 (age 53 years) Memphis TN</td>\n",
       "      <td>1966.0</td>\n",
       "      <td>Bentonville High School Sam M. Walton College of Business The University of Tulsa University of Arkansas</td>\n",
       "      <td>United States</td>\n",
       "      <td>99</td>\n",
       "      <td>United States</td>\n",
       "      <td>6.46</td>\n",
       "      <td>2.03</td>\n",
       "      <td>5.24</td>\n",
       "      <td>5.16</td>\n",
       "      <td>5.38</td>\n",
       "      <td>5.96</td>\n",
       "      <td>5.46</td>\n",
       "      <td>2.66</td>\n",
       "      <td>6.28</td>\n",
       "      <td>5.19</td>\n",
       "      <td>6.51</td>\n",
       "      <td>3.90</td>\n",
       "      <td>5.63</td>\n",
       "      <td>1.97</td>\n",
       "      <td>3.75</td>\n",
       "      <td>3.60</td>\n",
       "      <td>6.35</td>\n",
       "      <td>1.55</td>\n",
       "      <td>6.03</td>\n",
       "      <td>3.53</td>\n",
       "      <td>5.90</td>\n",
       "      <td>6.12</td>\n",
       "      <td>5.80</td>\n",
       "      <td>3.15</td>\n",
       "      <td>5.93</td>\n",
       "      <td>5.21</td>\n",
       "      <td>3.75</td>\n",
       "      <td>Anglo</td>\n",
       "      <td>99</td>\n",
       "      <td>United States</td>\n",
       "      <td>4.15</td>\n",
       "      <td>4.15</td>\n",
       "      <td>4.88</td>\n",
       "      <td>4.20</td>\n",
       "      <td>4.17</td>\n",
       "      <td>4.49</td>\n",
       "      <td>4.25</td>\n",
       "      <td>3.34</td>\n",
       "      <td>4.55</td>\n",
       "      <td>4.00</td>\n",
       "      <td>5.31</td>\n",
       "      <td>2.85</td>\n",
       "      <td>4.17</td>\n",
       "      <td>5.53</td>\n",
       "      <td>6.14</td>\n",
       "      <td>5.77</td>\n",
       "      <td>5.06</td>\n",
       "      <td>4.32</td>\n",
       "      <td>Anglo</td>\n",
       "      <td>97</td>\n",
       "      <td>USA</td>\n",
       "      <td>United States</td>\n",
       "      <td>40</td>\n",
       "      <td>91</td>\n",
       "      <td>62</td>\n",
       "      <td>46</td>\n",
       "      <td>26</td>\n",
       "      <td>68</td>\n",
       "    </tr>\n",
       "    <tr>\n",
       "      <th>1</th>\n",
       "      <td>2</td>\n",
       "      <td>2.0</td>\n",
       "      <td>Sinopec Group</td>\n",
       "      <td>2019</td>\n",
       "      <td>619151</td>\n",
       "      <td>Energy</td>\n",
       "      <td>Petroleum Refining</td>\n",
       "      <td>Beijing</td>\n",
       "      <td>https://www.sinopec.com</td>\n",
       "      <td>21</td>\n",
       "      <td>414649.90</td>\n",
       "      <td>5845.00</td>\n",
       "      <td>329186.30</td>\n",
       "      <td>105181.50</td>\n",
       "      <td>1.4</td>\n",
       "      <td>1.8</td>\n",
       "      <td>5.6</td>\n",
       "      <td>NaN</td>\n",
       "      <td>NaN</td>\n",
       "      <td>NaN</td>\n",
       "      <td>NaN</td>\n",
       "      <td>NaN</td>\n",
       "      <td>NaN</td>\n",
       "      <td>NaN</td>\n",
       "      <td>NaN</td>\n",
       "      <td>NaN</td>\n",
       "      <td>NaN</td>\n",
       "      <td>NaN</td>\n",
       "      <td>NaN</td>\n",
       "      <td>NaN</td>\n",
       "      <td>NaN</td>\n",
       "      <td>NaN</td>\n",
       "      <td>NaN</td>\n",
       "      <td>NaN</td>\n",
       "      <td>NaN</td>\n",
       "      <td>NaN</td>\n",
       "      <td>NaN</td>\n",
       "      <td>NaN</td>\n",
       "      <td>NaN</td>\n",
       "      <td>NaN</td>\n",
       "      <td>NaN</td>\n",
       "      <td>NaN</td>\n",
       "      <td>NaN</td>\n",
       "      <td>NaN</td>\n",
       "      <td>NaN</td>\n",
       "      <td>NaN</td>\n",
       "      <td>NaN</td>\n",
       "      <td>NaN</td>\n",
       "      <td>NaN</td>\n",
       "      <td>NaN</td>\n",
       "      <td>NaN</td>\n",
       "      <td>NaN</td>\n",
       "      <td>NaN</td>\n",
       "      <td>NaN</td>\n",
       "      <td>NaN</td>\n",
       "      <td>NaN</td>\n",
       "      <td>NaN</td>\n",
       "      <td>NaN</td>\n",
       "      <td>NaN</td>\n",
       "      <td>NaN</td>\n",
       "      <td>NaN</td>\n",
       "      <td>NaN</td>\n",
       "      <td>NaN</td>\n",
       "      <td>NaN</td>\n",
       "      <td>NaN</td>\n",
       "      <td>NaN</td>\n",
       "      <td>NaN</td>\n",
       "      <td>NaN</td>\n",
       "      <td>NaN</td>\n",
       "      <td>NaN</td>\n",
       "      <td>NaN</td>\n",
       "      <td>NaN</td>\n",
       "      <td>NaN</td>\n",
       "      <td>NaN</td>\n",
       "      <td>NaN</td>\n",
       "      <td>NaN</td>\n",
       "      <td>NaN</td>\n",
       "      <td>NaN</td>\n",
       "      <td>NaN</td>\n",
       "      <td>NaN</td>\n",
       "      <td>NaN</td>\n",
       "      <td>NaN</td>\n",
       "    </tr>\n",
       "    <tr>\n",
       "      <th>2</th>\n",
       "      <td>3</td>\n",
       "      <td>3.0</td>\n",
       "      <td>Royal Dutch Shell</td>\n",
       "      <td>2019</td>\n",
       "      <td>81000</td>\n",
       "      <td>Energy</td>\n",
       "      <td>Petroleum Refining</td>\n",
       "      <td>The Hague</td>\n",
       "      <td>https://www.shell.com</td>\n",
       "      <td>25</td>\n",
       "      <td>396556.00</td>\n",
       "      <td>23352.00</td>\n",
       "      <td>399194.00</td>\n",
       "      <td>198646.00</td>\n",
       "      <td>5.9</td>\n",
       "      <td>5.8</td>\n",
       "      <td>11.8</td>\n",
       "      <td>Ben van Beurden</td>\n",
       "      <td>April 23 1958 (age 62 years) Netherlands</td>\n",
       "      <td>1958.0</td>\n",
       "      <td>Delft University of Technology (1981–1983)</td>\n",
       "      <td>Netherlands</td>\n",
       "      <td>56</td>\n",
       "      <td>Netherlands</td>\n",
       "      <td>5.95</td>\n",
       "      <td>2.08</td>\n",
       "      <td>4.71</td>\n",
       "      <td>4.79</td>\n",
       "      <td>5.42</td>\n",
       "      <td>5.87</td>\n",
       "      <td>5.43</td>\n",
       "      <td>2.23</td>\n",
       "      <td>6.30</td>\n",
       "      <td>4.98</td>\n",
       "      <td>6.52</td>\n",
       "      <td>3.22</td>\n",
       "      <td>5.43</td>\n",
       "      <td>1.75</td>\n",
       "      <td>3.53</td>\n",
       "      <td>3.93</td>\n",
       "      <td>6.38</td>\n",
       "      <td>1.62</td>\n",
       "      <td>6.01</td>\n",
       "      <td>3.26</td>\n",
       "      <td>5.59</td>\n",
       "      <td>5.98</td>\n",
       "      <td>5.75</td>\n",
       "      <td>2.87</td>\n",
       "      <td>5.75</td>\n",
       "      <td>4.82</td>\n",
       "      <td>3.53</td>\n",
       "      <td>Germanic Europe</td>\n",
       "      <td>56</td>\n",
       "      <td>Netherlands</td>\n",
       "      <td>4.70</td>\n",
       "      <td>4.61</td>\n",
       "      <td>4.11</td>\n",
       "      <td>4.46</td>\n",
       "      <td>3.86</td>\n",
       "      <td>4.32</td>\n",
       "      <td>3.70</td>\n",
       "      <td>3.50</td>\n",
       "      <td>4.32</td>\n",
       "      <td>3.24</td>\n",
       "      <td>5.07</td>\n",
       "      <td>2.45</td>\n",
       "      <td>4.55</td>\n",
       "      <td>5.20</td>\n",
       "      <td>5.49</td>\n",
       "      <td>5.17</td>\n",
       "      <td>4.99</td>\n",
       "      <td>3.02</td>\n",
       "      <td>Germanic Europe</td>\n",
       "      <td>68</td>\n",
       "      <td>NET</td>\n",
       "      <td>Netherlands</td>\n",
       "      <td>38</td>\n",
       "      <td>80</td>\n",
       "      <td>14</td>\n",
       "      <td>53</td>\n",
       "      <td>67</td>\n",
       "      <td>68</td>\n",
       "    </tr>\n",
       "    <tr>\n",
       "      <th>3</th>\n",
       "      <td>4</td>\n",
       "      <td>4.0</td>\n",
       "      <td>China National Petroleum</td>\n",
       "      <td>2019</td>\n",
       "      <td>1382401</td>\n",
       "      <td>Energy</td>\n",
       "      <td>Petroleum Refining</td>\n",
       "      <td>Beijing</td>\n",
       "      <td>https://www.cnpc.com.cn</td>\n",
       "      <td>19</td>\n",
       "      <td>392976.60</td>\n",
       "      <td>2270.50</td>\n",
       "      <td>601899.90</td>\n",
       "      <td>291198.60</td>\n",
       "      <td>0.6</td>\n",
       "      <td>0.4</td>\n",
       "      <td>0.8</td>\n",
       "      <td>NaN</td>\n",
       "      <td>NaN</td>\n",
       "      <td>NaN</td>\n",
       "      <td>NaN</td>\n",
       "      <td>NaN</td>\n",
       "      <td>NaN</td>\n",
       "      <td>NaN</td>\n",
       "      <td>NaN</td>\n",
       "      <td>NaN</td>\n",
       "      <td>NaN</td>\n",
       "      <td>NaN</td>\n",
       "      <td>NaN</td>\n",
       "      <td>NaN</td>\n",
       "      <td>NaN</td>\n",
       "      <td>NaN</td>\n",
       "      <td>NaN</td>\n",
       "      <td>NaN</td>\n",
       "      <td>NaN</td>\n",
       "      <td>NaN</td>\n",
       "      <td>NaN</td>\n",
       "      <td>NaN</td>\n",
       "      <td>NaN</td>\n",
       "      <td>NaN</td>\n",
       "      <td>NaN</td>\n",
       "      <td>NaN</td>\n",
       "      <td>NaN</td>\n",
       "      <td>NaN</td>\n",
       "      <td>NaN</td>\n",
       "      <td>NaN</td>\n",
       "      <td>NaN</td>\n",
       "      <td>NaN</td>\n",
       "      <td>NaN</td>\n",
       "      <td>NaN</td>\n",
       "      <td>NaN</td>\n",
       "      <td>NaN</td>\n",
       "      <td>NaN</td>\n",
       "      <td>NaN</td>\n",
       "      <td>NaN</td>\n",
       "      <td>NaN</td>\n",
       "      <td>NaN</td>\n",
       "      <td>NaN</td>\n",
       "      <td>NaN</td>\n",
       "      <td>NaN</td>\n",
       "      <td>NaN</td>\n",
       "      <td>NaN</td>\n",
       "      <td>NaN</td>\n",
       "      <td>NaN</td>\n",
       "      <td>NaN</td>\n",
       "      <td>NaN</td>\n",
       "      <td>NaN</td>\n",
       "      <td>NaN</td>\n",
       "      <td>NaN</td>\n",
       "      <td>NaN</td>\n",
       "      <td>NaN</td>\n",
       "      <td>NaN</td>\n",
       "      <td>NaN</td>\n",
       "      <td>NaN</td>\n",
       "      <td>NaN</td>\n",
       "      <td>NaN</td>\n",
       "      <td>NaN</td>\n",
       "      <td>NaN</td>\n",
       "      <td>NaN</td>\n",
       "      <td>NaN</td>\n",
       "      <td>NaN</td>\n",
       "      <td>NaN</td>\n",
       "    </tr>\n",
       "    <tr>\n",
       "      <th>4</th>\n",
       "      <td>5</td>\n",
       "      <td>5.0</td>\n",
       "      <td>State Grid</td>\n",
       "      <td>2019</td>\n",
       "      <td>917717</td>\n",
       "      <td>Energy</td>\n",
       "      <td>Utilities</td>\n",
       "      <td>Beijing</td>\n",
       "      <td>https://www.sgcc.com.cn</td>\n",
       "      <td>19</td>\n",
       "      <td>387056.00</td>\n",
       "      <td>8174.80</td>\n",
       "      <td>572309.50</td>\n",
       "      <td>240041.50</td>\n",
       "      <td>2.1</td>\n",
       "      <td>1.4</td>\n",
       "      <td>3.4</td>\n",
       "      <td>NaN</td>\n",
       "      <td>NaN</td>\n",
       "      <td>NaN</td>\n",
       "      <td>NaN</td>\n",
       "      <td>NaN</td>\n",
       "      <td>NaN</td>\n",
       "      <td>NaN</td>\n",
       "      <td>NaN</td>\n",
       "      <td>NaN</td>\n",
       "      <td>NaN</td>\n",
       "      <td>NaN</td>\n",
       "      <td>NaN</td>\n",
       "      <td>NaN</td>\n",
       "      <td>NaN</td>\n",
       "      <td>NaN</td>\n",
       "      <td>NaN</td>\n",
       "      <td>NaN</td>\n",
       "      <td>NaN</td>\n",
       "      <td>NaN</td>\n",
       "      <td>NaN</td>\n",
       "      <td>NaN</td>\n",
       "      <td>NaN</td>\n",
       "      <td>NaN</td>\n",
       "      <td>NaN</td>\n",
       "      <td>NaN</td>\n",
       "      <td>NaN</td>\n",
       "      <td>NaN</td>\n",
       "      <td>NaN</td>\n",
       "      <td>NaN</td>\n",
       "      <td>NaN</td>\n",
       "      <td>NaN</td>\n",
       "      <td>NaN</td>\n",
       "      <td>NaN</td>\n",
       "      <td>NaN</td>\n",
       "      <td>NaN</td>\n",
       "      <td>NaN</td>\n",
       "      <td>NaN</td>\n",
       "      <td>NaN</td>\n",
       "      <td>NaN</td>\n",
       "      <td>NaN</td>\n",
       "      <td>NaN</td>\n",
       "      <td>NaN</td>\n",
       "      <td>NaN</td>\n",
       "      <td>NaN</td>\n",
       "      <td>NaN</td>\n",
       "      <td>NaN</td>\n",
       "      <td>NaN</td>\n",
       "      <td>NaN</td>\n",
       "      <td>NaN</td>\n",
       "      <td>NaN</td>\n",
       "      <td>NaN</td>\n",
       "      <td>NaN</td>\n",
       "      <td>NaN</td>\n",
       "      <td>NaN</td>\n",
       "      <td>NaN</td>\n",
       "      <td>NaN</td>\n",
       "      <td>NaN</td>\n",
       "      <td>NaN</td>\n",
       "      <td>NaN</td>\n",
       "      <td>NaN</td>\n",
       "      <td>NaN</td>\n",
       "      <td>NaN</td>\n",
       "      <td>NaN</td>\n",
       "      <td>NaN</td>\n",
       "      <td>NaN</td>\n",
       "    </tr>\n",
       "  </tbody>\n",
       "</table>\n",
       "</div>"
      ],
      "text/plain": [
       "   company_info_id  rank                   company  year employees     sector  \\\n",
       "0  1                1.0   Walmart                   2019  2200000   Retailing   \n",
       "1  2                2.0   Sinopec Group             2019  619151    Energy      \n",
       "2  3                3.0   Royal Dutch Shell         2019  81000     Energy      \n",
       "3  4                4.0   China National Petroleum  2019  1382401   Energy      \n",
       "4  5                5.0   State Grid                2019  917717    Energy      \n",
       "\n",
       "                industry       HQ Location                  Website  \\\n",
       "0  General Merchandisers  Bentonville Ark.  https://www.walmart.com   \n",
       "1  Petroleum Refining     Beijing           https://www.sinopec.com   \n",
       "2  Petroleum Refining     The Hague         https://www.shell.com     \n",
       "3  Petroleum Refining     Beijing           https://www.cnpc.com.cn   \n",
       "4  Utilities              Beijing           https://www.sgcc.com.cn   \n",
       "\n",
       "  Years on Global 500 List revenues_$m profit_$m  assets_$m  \\\n",
       "0  25                       514405.00   6670.00   219295.00   \n",
       "1  21                       414649.90   5845.00   329186.30   \n",
       "2  25                       396556.00   23352.00  399194.00   \n",
       "3  19                       392976.60   2270.50   601899.90   \n",
       "4  19                       387056.00   8174.80   572309.50   \n",
       "\n",
       "  total_stockholder_equity_$m profit_as_%_of_revenues profits_as_%_of_assets  \\\n",
       "0  72496.00                    1.3                     3                       \n",
       "1  105181.50                   1.4                     1.8                     \n",
       "2  198646.00                   5.9                     5.8                     \n",
       "3  291198.60                   0.6                     0.4                     \n",
       "4  240041.50                   2.1                     1.4                     \n",
       "\n",
       "  profits_as_%_of_stockholder_equity              ceo  \\\n",
       "0  9.2                                Doug McMillon     \n",
       "1  5.6                                NaN               \n",
       "2  11.8                               Ben van Beurden   \n",
       "3  0.8                                NaN               \n",
       "4  3.4                                NaN               \n",
       "\n",
       "                                        Born     BoY  \\\n",
       "0  October 17 1966 (age 53 years) Memphis TN  1966.0   \n",
       "1  NaN                                        NaN      \n",
       "2  April 23 1958 (age 62 years) Netherlands   1958.0   \n",
       "3  NaN                                        NaN      \n",
       "4  NaN                                        NaN      \n",
       "\n",
       "                                                                                                  education  \\\n",
       "0  Bentonville High School Sam M. Walton College of Business The University of Tulsa University of Arkansas   \n",
       "1  NaN                                                                                                        \n",
       "2  Delft University of Technology (1981–1983)                                                                 \n",
       "3  NaN                                                                                                        \n",
       "4  NaN                                                                                                        \n",
       "\n",
       "         country g_leadership_id   Country Name Performance Oriented  \\\n",
       "0  United States  99              United States  6.46                  \n",
       "1  NaN            NaN             NaN            NaN                   \n",
       "2  Netherlands    56              Netherlands    5.95                  \n",
       "3  NaN            NaN             NaN            NaN                   \n",
       "4  NaN            NaN             NaN            NaN                   \n",
       "\n",
       "  Autocratic Modesty Charismatic 3: Self-sacrifice  \\\n",
       "0  2.03       5.24    5.16                           \n",
       "1  NaN        NaN     NaN                            \n",
       "2  2.08       4.71    4.79                           \n",
       "3  NaN        NaN     NaN                            \n",
       "4  NaN        NaN     NaN                            \n",
       "\n",
       "  Team 1: Collaborative Team Orientation Decisive Diplomatic Face-saver  \\\n",
       "0  5.38                                   5.96     5.46       2.66        \n",
       "1  NaN                                    NaN      NaN        NaN         \n",
       "2  5.42                                   5.87     5.43       2.23        \n",
       "3  NaN                                    NaN      NaN        NaN         \n",
       "4  NaN                                    NaN      NaN        NaN         \n",
       "\n",
       "  Charismatic 1: Visionary Humane-oriented Integrity  \\\n",
       "0  6.28                     5.19            6.51       \n",
       "1  NaN                      NaN             NaN        \n",
       "2  6.30                     4.98            6.52       \n",
       "3  NaN                      NaN             NaN        \n",
       "4  NaN                      NaN             NaN        \n",
       "\n",
       "  Bureaucratic, Originally Labeled ??Procedural?? Administratively Competent  \\\n",
       "0  3.90                                            5.63                        \n",
       "1  NaN                                             NaN                         \n",
       "2  3.22                                            5.43                        \n",
       "3  NaN                                             NaN                         \n",
       "4  NaN                                             NaN                         \n",
       "\n",
       "  Self-centred Autonomous Status Conscious Charismatic 2: Inspirational  \\\n",
       "0  1.97         3.75       3.60             6.35                          \n",
       "1  NaN          NaN        NaN              NaN                           \n",
       "2  1.75         3.53       3.93             6.38                          \n",
       "3  NaN          NaN        NaN              NaN                           \n",
       "4  NaN          NaN        NaN              NaN                           \n",
       "\n",
       "  Malevolent Team 2: Team Integrator  \\\n",
       "0  1.55       6.03                     \n",
       "1  NaN        NaN                      \n",
       "2  1.62       6.01                     \n",
       "3  NaN        NaN                      \n",
       "4  NaN        NaN                      \n",
       "\n",
       "  Internally Competitive, Originally Labeled ??Conflict Inducer??  \\\n",
       "0  3.53                                                             \n",
       "1  NaN                                                              \n",
       "2  3.26                                                             \n",
       "3  NaN                                                              \n",
       "4  NaN                                                              \n",
       "\n",
       "  Participative Charismatic/Value-based Global Leadership Dimension  \\\n",
       "0  5.90          6.12                                                 \n",
       "1  NaN           NaN                                                  \n",
       "2  5.59          5.98                                                 \n",
       "3  NaN           NaN                                                  \n",
       "4  NaN           NaN                                                  \n",
       "\n",
       "  Team-Oriented Global Leadership Dimension  \\\n",
       "0  5.80                                       \n",
       "1  NaN                                        \n",
       "2  5.75                                       \n",
       "3  NaN                                        \n",
       "4  NaN                                        \n",
       "\n",
       "  Self-Protective Global Leadership Dimension  \\\n",
       "0  3.15                                         \n",
       "1  NaN                                          \n",
       "2  2.87                                         \n",
       "3  NaN                                          \n",
       "4  NaN                                          \n",
       "\n",
       "  Participative Global Leadership Dimension  \\\n",
       "0  5.93                                       \n",
       "1  NaN                                        \n",
       "2  5.75                                       \n",
       "3  NaN                                        \n",
       "4  NaN                                        \n",
       "\n",
       "  Humane-Oriented Global Leadership Dimension  \\\n",
       "0  5.21                                         \n",
       "1  NaN                                          \n",
       "2  4.82                                         \n",
       "3  NaN                                          \n",
       "4  NaN                                          \n",
       "\n",
       "  Autonomous Global Leadership Dimension  Country Cluster  \\\n",
       "0  3.75                                   Anglo             \n",
       "1  NaN                                    NaN               \n",
       "2  3.53                                   Germanic Europe   \n",
       "3  NaN                                    NaN               \n",
       "4  NaN                                    NaN               \n",
       "\n",
       "  g_societal_culture_id Country Name.1  \\\n",
       "0  99                    United States   \n",
       "1  NaN                   NaN             \n",
       "2  56                    Netherlands     \n",
       "3  NaN                   NaN             \n",
       "4  NaN                   NaN             \n",
       "\n",
       "  Uncertainty Avoidance Societal Practices  \\\n",
       "0  4.15                                      \n",
       "1  NaN                                       \n",
       "2  4.70                                      \n",
       "3  NaN                                       \n",
       "4  NaN                                       \n",
       "\n",
       "  Future Orientation Societal Practices Power Distance Societal Practices  \\\n",
       "0  4.15                                  4.88                               \n",
       "1  NaN                                   NaN                                \n",
       "2  4.61                                  4.11                               \n",
       "3  NaN                                   NaN                                \n",
       "4  NaN                                   NaN                                \n",
       "\n",
       "  Collectivism I Societal Practices (Institutional Collectivism)  \\\n",
       "0  4.20                                                            \n",
       "1  NaN                                                             \n",
       "2  4.46                                                            \n",
       "3  NaN                                                             \n",
       "4  NaN                                                             \n",
       "\n",
       "  Humane Orientation Societal Practices  \\\n",
       "0  4.17                                   \n",
       "1  NaN                                    \n",
       "2  3.86                                   \n",
       "3  NaN                                    \n",
       "4  NaN                                    \n",
       "\n",
       "  Performance Orientation Societal Practices  \\\n",
       "0  4.49                                        \n",
       "1  NaN                                         \n",
       "2  4.32                                        \n",
       "3  NaN                                         \n",
       "4  NaN                                         \n",
       "\n",
       "  Collectivism II Societal Practices (In-group Collectivism)  \\\n",
       "0  4.25                                                        \n",
       "1  NaN                                                         \n",
       "2  3.70                                                        \n",
       "3  NaN                                                         \n",
       "4  NaN                                                         \n",
       "\n",
       "  Gender Egalitarianism Societal Practices Assertiveness Societal Practices  \\\n",
       "0  3.34                                     4.55                              \n",
       "1  NaN                                      NaN                               \n",
       "2  3.50                                     4.32                              \n",
       "3  NaN                                      NaN                               \n",
       "4  NaN                                      NaN                               \n",
       "\n",
       "  Uncertainty Avoidance Societal Values Future Orientation Societal Values  \\\n",
       "0  4.00                                  5.31                                \n",
       "1  NaN                                   NaN                                 \n",
       "2  3.24                                  5.07                                \n",
       "3  NaN                                   NaN                                 \n",
       "4  NaN                                   NaN                                 \n",
       "\n",
       "  Power Distance Societal Values  \\\n",
       "0  2.85                            \n",
       "1  NaN                             \n",
       "2  2.45                            \n",
       "3  NaN                             \n",
       "4  NaN                             \n",
       "\n",
       "  Collectivism I Societal Values (Institutional Collectivism)  \\\n",
       "0  4.17                                                         \n",
       "1  NaN                                                          \n",
       "2  4.55                                                         \n",
       "3  NaN                                                          \n",
       "4  NaN                                                          \n",
       "\n",
       "  Human Orientation Societal Values Performance Orientation Societal Values  \\\n",
       "0  5.53                              6.14                                     \n",
       "1  NaN                               NaN                                      \n",
       "2  5.20                              5.49                                     \n",
       "3  NaN                               NaN                                      \n",
       "4  NaN                               NaN                                      \n",
       "\n",
       "  Collectivism II Societal Values (In-group Collectivism)  \\\n",
       "0  5.77                                                     \n",
       "1  NaN                                                      \n",
       "2  5.17                                                     \n",
       "3  NaN                                                      \n",
       "4  NaN                                                      \n",
       "\n",
       "  Gender Egalitarianism Societal Values Assertiveness Societal Values  \\\n",
       "0  5.06                                  4.32                           \n",
       "1  NaN                                   NaN                            \n",
       "2  4.99                                  3.02                           \n",
       "3  NaN                                   NaN                            \n",
       "4  NaN                                   NaN                            \n",
       "\n",
       "  Country Cluster.1 hofstede_id  ctr      country.1  pdi  idv  mas  uai  \\\n",
       "0  Anglo             97          USA  United States  40   91   62   46    \n",
       "1  NaN               NaN         NaN  NaN            NaN  NaN  NaN  NaN   \n",
       "2  Germanic Europe   68          NET  Netherlands    38   80   14   53    \n",
       "3  NaN               NaN         NaN  NaN            NaN  NaN  NaN  NaN   \n",
       "4  NaN               NaN         NaN  NaN            NaN  NaN  NaN  NaN   \n",
       "\n",
       "  ltowvs  ivr  \n",
       "0  26     68   \n",
       "1  NaN    NaN  \n",
       "2  67     68   \n",
       "3  NaN    NaN  \n",
       "4  NaN    NaN  "
      ]
     },
     "execution_count": 12,
     "metadata": {},
     "output_type": "execute_result"
    }
   ],
   "source": [
    "df.head()"
   ]
  },
  {
   "cell_type": "markdown",
   "metadata": {},
   "source": [
    "### 2.2. Exploratory Data Analysis"
   ]
  },
  {
   "cell_type": "code",
   "execution_count": 13,
   "metadata": {},
   "outputs": [
    {
     "data": {
      "text/html": [
       "<div>\n",
       "<style scoped>\n",
       "    .dataframe tbody tr th:only-of-type {\n",
       "        vertical-align: middle;\n",
       "    }\n",
       "\n",
       "    .dataframe tbody tr th {\n",
       "        vertical-align: top;\n",
       "    }\n",
       "\n",
       "    .dataframe thead th {\n",
       "        text-align: right;\n",
       "    }\n",
       "</style>\n",
       "<table border=\"1\" class=\"dataframe\">\n",
       "  <thead>\n",
       "    <tr style=\"text-align: right;\">\n",
       "      <th></th>\n",
       "      <th>company_info_id</th>\n",
       "      <th>rank</th>\n",
       "      <th>year</th>\n",
       "    </tr>\n",
       "  </thead>\n",
       "  <tbody>\n",
       "    <tr>\n",
       "      <th>count</th>\n",
       "      <td>2490.000000</td>\n",
       "      <td>2487.000000</td>\n",
       "      <td>2490.000000</td>\n",
       "    </tr>\n",
       "    <tr>\n",
       "      <th>mean</th>\n",
       "      <td>1245.500000</td>\n",
       "      <td>250.660233</td>\n",
       "      <td>2016.997590</td>\n",
       "    </tr>\n",
       "    <tr>\n",
       "      <th>std</th>\n",
       "      <td>718.945408</td>\n",
       "      <td>144.530627</td>\n",
       "      <td>1.415915</td>\n",
       "    </tr>\n",
       "    <tr>\n",
       "      <th>min</th>\n",
       "      <td>1.000000</td>\n",
       "      <td>1.000000</td>\n",
       "      <td>2015.000000</td>\n",
       "    </tr>\n",
       "    <tr>\n",
       "      <th>25%</th>\n",
       "      <td>623.250000</td>\n",
       "      <td>125.000000</td>\n",
       "      <td>2016.000000</td>\n",
       "    </tr>\n",
       "    <tr>\n",
       "      <th>50%</th>\n",
       "      <td>1245.500000</td>\n",
       "      <td>251.000000</td>\n",
       "      <td>2017.000000</td>\n",
       "    </tr>\n",
       "    <tr>\n",
       "      <th>75%</th>\n",
       "      <td>1867.750000</td>\n",
       "      <td>376.000000</td>\n",
       "      <td>2018.000000</td>\n",
       "    </tr>\n",
       "    <tr>\n",
       "      <th>max</th>\n",
       "      <td>2490.000000</td>\n",
       "      <td>500.000000</td>\n",
       "      <td>2019.000000</td>\n",
       "    </tr>\n",
       "  </tbody>\n",
       "</table>\n",
       "</div>"
      ],
      "text/plain": [
       "       company_info_id         rank         year\n",
       "count  2490.000000      2487.000000  2490.000000\n",
       "mean   1245.500000      250.660233   2016.997590\n",
       "std    718.945408       144.530627   1.415915   \n",
       "min    1.000000         1.000000     2015.000000\n",
       "25%    623.250000       125.000000   2016.000000\n",
       "50%    1245.500000      251.000000   2017.000000\n",
       "75%    1867.750000      376.000000   2018.000000\n",
       "max    2490.000000      500.000000   2019.000000"
      ]
     },
     "execution_count": 13,
     "metadata": {},
     "output_type": "execute_result"
    }
   ],
   "source": [
    "df.describe()"
   ]
  },
  {
   "cell_type": "code",
   "execution_count": 14,
   "metadata": {
    "scrolled": true
   },
   "outputs": [
    {
     "name": "stdout",
     "output_type": "stream",
     "text": [
      "<class 'pandas.core.frame.DataFrame'>\n",
      "RangeIndex: 2490 entries, 0 to 2489\n",
      "Data columns (total 82 columns):\n",
      "company_info_id                                                    2490 non-null int64\n",
      "rank                                                               2487 non-null float64\n",
      "company                                                            2488 non-null object\n",
      "year                                                               2490 non-null int64\n",
      "employees                                                          2486 non-null object\n",
      "sector                                                             2487 non-null object\n",
      "industry                                                           2487 non-null object\n",
      "HQ Location                                                        2482 non-null object\n",
      "Website                                                            2487 non-null object\n",
      "Years on Global 500 List                                           2487 non-null object\n",
      "revenues_$m                                                        2486 non-null object\n",
      "profit_$m                                                          2483 non-null object\n",
      "assets_$m                                                          2486 non-null object\n",
      "total_stockholder_equity_$m                                        2486 non-null object\n",
      "profit_as_%_of_revenues                                            2455 non-null object\n",
      "profits_as_%_of_assets                                             2447 non-null object\n",
      "profits_as_%_of_stockholder_equity                                 2429 non-null object\n",
      "ceo                                                                1438 non-null object\n",
      "Born                                                               1327 non-null object\n",
      "BoY                                                                1272 non-null object\n",
      "education                                                          1264 non-null object\n",
      "country                                                            1215 non-null object\n",
      "g_leadership_id                                                    1121 non-null object\n",
      "Country Name                                                       1121 non-null object\n",
      "Performance Oriented                                               1121 non-null object\n",
      "Autocratic                                                         1121 non-null object\n",
      "Modesty                                                            1121 non-null object\n",
      "Charismatic 3: Self-sacrifice                                      1121 non-null object\n",
      "Team 1: Collaborative Team Orientation                             1121 non-null object\n",
      "Decisive                                                           1121 non-null object\n",
      "Diplomatic                                                         1121 non-null object\n",
      "Face-saver                                                         1121 non-null object\n",
      "Charismatic 1: Visionary                                           1121 non-null object\n",
      "Humane-oriented                                                    1121 non-null object\n",
      "Integrity                                                          1121 non-null object\n",
      "Bureaucratic, Originally Labeled ??Procedural??                    1121 non-null object\n",
      "Administratively Competent                                         1121 non-null object\n",
      "Self-centred                                                       1121 non-null object\n",
      "Autonomous                                                         1121 non-null object\n",
      "Status Conscious                                                   1121 non-null object\n",
      "Charismatic 2: Inspirational                                       1121 non-null object\n",
      "Malevolent                                                         1121 non-null object\n",
      "Team 2: Team Integrator                                            1121 non-null object\n",
      "Internally Competitive, Originally Labeled ??Conflict Inducer??    1121 non-null object\n",
      "Participative                                                      1121 non-null object\n",
      "Charismatic/Value-based Global Leadership Dimension                1121 non-null object\n",
      "Team-Oriented Global Leadership Dimension                          1121 non-null object\n",
      "Self-Protective Global Leadership Dimension                        1121 non-null object\n",
      "Participative Global Leadership Dimension                          1121 non-null object\n",
      "Humane-Oriented Global Leadership Dimension                        1121 non-null object\n",
      "Autonomous Global Leadership Dimension                             1121 non-null object\n",
      "Country Cluster                                                    1121 non-null object\n",
      "g_societal_culture_id                                              1121 non-null object\n",
      "Country Name.1                                                     1121 non-null object\n",
      "Uncertainty Avoidance Societal Practices                           1121 non-null object\n",
      "Future Orientation Societal Practices                              1121 non-null object\n",
      "Power Distance Societal Practices                                  1121 non-null object\n",
      "Collectivism I Societal Practices (Institutional Collectivism)     1121 non-null object\n",
      "Humane Orientation Societal Practices                              1121 non-null object\n",
      "Performance Orientation Societal Practices                         1121 non-null object\n",
      "Collectivism II Societal Practices (In-group Collectivism)         1121 non-null object\n",
      "Gender Egalitarianism Societal Practices                           1121 non-null object\n",
      "Assertiveness Societal Practices                                   1121 non-null object\n",
      "Uncertainty Avoidance Societal Values                              1121 non-null object\n",
      "Future Orientation Societal Values                                 1121 non-null object\n",
      "Power Distance Societal Values                                     1121 non-null object\n",
      "Collectivism I Societal Values (Institutional Collectivism)        1121 non-null object\n",
      "Human Orientation Societal Values                                  1121 non-null object\n",
      "Performance Orientation Societal Values                            1121 non-null object\n",
      "Collectivism II Societal Values (In-group Collectivism)            1121 non-null object\n",
      "Gender Egalitarianism Societal Values                              1121 non-null object\n",
      "Assertiveness Societal Values                                      1121 non-null object\n",
      "Country Cluster.1                                                  1121 non-null object\n",
      "hofstede_id                                                        1144 non-null object\n",
      "ctr                                                                1144 non-null object\n",
      "country.1                                                          1144 non-null object\n",
      "pdi                                                                1144 non-null object\n",
      "idv                                                                1144 non-null object\n",
      "mas                                                                1144 non-null object\n",
      "uai                                                                1144 non-null object\n",
      "ltowvs                                                             1144 non-null object\n",
      "ivr                                                                1113 non-null object\n",
      "dtypes: float64(1), int64(2), object(79)\n",
      "memory usage: 1.6+ MB\n"
     ]
    }
   ],
   "source": [
    "df.info()"
   ]
  },
  {
   "cell_type": "markdown",
   "metadata": {},
   "source": [
    "The most numeric variables are in a format of object."
   ]
  },
  {
   "cell_type": "markdown",
   "metadata": {},
   "source": [
    "### 2.3 Feature selection"
   ]
  },
  {
   "cell_type": "code",
   "execution_count": 15,
   "metadata": {},
   "outputs": [],
   "source": [
    "# drop rows with no values in 'country'\n",
    "df = df[(df['ceo'].notnull())]"
   ]
  },
  {
   "cell_type": "code",
   "execution_count": 16,
   "metadata": {
    "scrolled": true
   },
   "outputs": [
    {
     "data": {
      "text/plain": [
       "1438"
      ]
     },
     "execution_count": 16,
     "metadata": {},
     "output_type": "execute_result"
    }
   ],
   "source": [
    "len(df['country'].notnull())"
   ]
  },
  {
   "cell_type": "code",
   "execution_count": 17,
   "metadata": {},
   "outputs": [],
   "source": [
    "# drop rows with no values in 'country' to make dummy variable \n",
    "df_ctry = df[(df['country'].notnull())] "
   ]
  },
  {
   "cell_type": "code",
   "execution_count": 18,
   "metadata": {},
   "outputs": [],
   "source": [
    "# Drop rows with no values for Globe project values\n",
    "df_c = df_ctry[(df_ctry['Country Cluster'].notnull())]"
   ]
  },
  {
   "cell_type": "code",
   "execution_count": 19,
   "metadata": {},
   "outputs": [
    {
     "name": "stderr",
     "output_type": "stream",
     "text": [
      "C:\\Users\\Jeeho\\Anaconda3\\lib\\site-packages\\ipykernel_launcher.py:2: UserWarning: Boolean Series key will be reindexed to match DataFrame index.\n",
      "  \n"
     ]
    }
   ],
   "source": [
    "# Drop rows with no values for 'profit_as_%_of_revenues'\n",
    "df_p = df_c[(df_ctry['profit_as_%_of_revenues'].notnull())]"
   ]
  },
  {
   "cell_type": "code",
   "execution_count": 20,
   "metadata": {},
   "outputs": [],
   "source": [
    "# Drop un necessary columns for ML process\n",
    "df_ml = df_p.drop(['company_info_id', 'Years on Global 500 List', 'Website','Country Name', 'g_societal_culture_id', 'g_leadership_id',\n",
    "           'Country Name.1', 'Country Cluster.1', 'hofstede_id', 'ctr', 'country.1','company', 'HQ Location', 'ceo', 'Born', 'education', 'rank',\n",
    "            'employees', 'revenues_$m', 'profit_$m', 'assets_$m', 'total_stockholder_equity_$m', 'profits_as_%_of_assets', 'profits_as_%_of_stockholder_equity'], axis = 1)"
   ]
  },
  {
   "cell_type": "code",
   "execution_count": 21,
   "metadata": {},
   "outputs": [],
   "source": [
    "# Drop rows if any of them have null cultural values\n",
    "df_ml = df_ml[(df_ml['Country Cluster'].notnull())]  #<--- To encode it as one of the categorical variaibles\n"
   ]
  },
  {
   "cell_type": "code",
   "execution_count": 22,
   "metadata": {},
   "outputs": [],
   "source": [
    "# Change the data types of numeric values\n",
    "\n",
    "cols = df_ml.columns.drop(['sector', 'industry', 'country', 'Country Cluster', 'year'])\n",
    "\n",
    "df_ml[cols] = df_ml[cols].apply(pd.to_numeric, errors='coerce')"
   ]
  },
  {
   "cell_type": "code",
   "execution_count": 23,
   "metadata": {
    "scrolled": true
   },
   "outputs": [
    {
     "data": {
      "text/plain": [
       "1112"
      ]
     },
     "execution_count": 23,
     "metadata": {},
     "output_type": "execute_result"
    }
   ],
   "source": [
    "len(df_ml)"
   ]
  },
  {
   "cell_type": "markdown",
   "metadata": {},
   "source": [
    "Check the distributions of the cleaned dataset."
   ]
  },
  {
   "cell_type": "code",
   "execution_count": 24,
   "metadata": {
    "scrolled": false
   },
   "outputs": [
    {
     "data": {
      "image/png": "[encoded data removed]",
      "text/plain": [
       "<Figure size 2304x1440 with 56 Axes>"
      ]
     },
     "metadata": {},
     "output_type": "display_data"
    }
   ],
   "source": [
    "df_ml.hist(bins=50, figsize=(32, 20))\n",
    "plt.show()"
   ]
  },
  {
   "cell_type": "markdown",
   "metadata": {},
   "source": [
    "### 2.4 Split Dataset"
   ]
  },
  {
   "cell_type": "code",
   "execution_count": 25,
   "metadata": {},
   "outputs": [],
   "source": [
    "#Split data set\n",
    "from sklearn.model_selection import train_test_split\n",
    "train_set, test_set = train_test_split(df_ml, test_size=0.1, random_state=42)"
   ]
  },
  {
   "cell_type": "code",
   "execution_count": 26,
   "metadata": {},
   "outputs": [],
   "source": [
    "#Drop Label(Target Variable) for training set\n",
    "df_ml_train = train_set.drop(\"profit_as_%_of_revenues\", axis=1) # drop labels for training set\n",
    "df_ml_labels = train_set[\"profit_as_%_of_revenues\"].copy()"
   ]
  },
  {
   "cell_type": "code",
   "execution_count": 27,
   "metadata": {},
   "outputs": [],
   "source": [
    "# Create numeric variables from the training sets\n",
    "df_ml_num = df_ml_train.drop(['sector', 'industry', 'country', 'Country Cluster', 'year'], axis = 1)"
   ]
  },
  {
   "cell_type": "code",
   "execution_count": 28,
   "metadata": {},
   "outputs": [],
   "source": [
    "# Cleaning numeric variables\n",
    "try:\n",
    "    from sklearn.impute import SimpleImputer # Scikit-Learn 0.20+\n",
    "except ImportError:\n",
    "    from sklearn.preprocessing import Imputer as SimpleImputer"
   ]
  },
  {
   "cell_type": "code",
   "execution_count": 29,
   "metadata": {},
   "outputs": [],
   "source": [
    "imputer = SimpleImputer(strategy=\"median\")  "
   ]
  },
  {
   "cell_type": "code",
   "execution_count": 30,
   "metadata": {},
   "outputs": [
    {
     "data": {
      "text/plain": [
       "SimpleImputer(add_indicator=False, copy=True, fill_value=None,\n",
       "              missing_values=nan, strategy='median', verbose=0)"
      ]
     },
     "execution_count": 30,
     "metadata": {},
     "output_type": "execute_result"
    }
   ],
   "source": [
    "imputer.fit(df_ml_num)"
   ]
  },
  {
   "cell_type": "code",
   "execution_count": 31,
   "metadata": {},
   "outputs": [],
   "source": [
    "X = imputer.transform(df_ml_num)"
   ]
  },
  {
   "cell_type": "code",
   "execution_count": 32,
   "metadata": {},
   "outputs": [],
   "source": [
    "df_ml_tr = pd.DataFrame(X, columns=df_ml_num.columns)"
   ]
  },
  {
   "cell_type": "code",
   "execution_count": 33,
   "metadata": {},
   "outputs": [],
   "source": [
    "#Get categorical values\n",
    "\n",
    "df_ml_cat = df_ml_train[['sector', 'industry', 'country', 'Country Cluster','year']]"
   ]
  },
  {
   "cell_type": "markdown",
   "metadata": {},
   "source": [
    "### 2.5 Feature Engineering\n",
    "- Categorical variables"
   ]
  },
  {
   "cell_type": "code",
   "execution_count": 34,
   "metadata": {},
   "outputs": [
    {
     "data": {
      "text/plain": [
       "array([[17., 54.,  1.,  1.,  3.],\n",
       "       [ 9., 48.,  9.,  7.,  2.],\n",
       "       [ 6.,  4., 10.,  5.,  0.],\n",
       "       ...,\n",
       "       [16., 44.,  6.,  2.,  0.],\n",
       "       [16., 44.,  9.,  7.,  0.],\n",
       "       [ 6.,  4., 21.,  5.,  1.]])"
      ]
     },
     "execution_count": 34,
     "metadata": {},
     "output_type": "execute_result"
    }
   ],
   "source": [
    "from sklearn.preprocessing import OrdinalEncoder\n",
    "\n",
    "cat_encoder = OrdinalEncoder()\n",
    "df_cat_1hot = cat_encoder.fit_transform(df_ml_cat)\n",
    "df_cat_1hot"
   ]
  },
  {
   "cell_type": "markdown",
   "metadata": {},
   "source": [
    "### 2.6 Feature Scaling \n",
    "\n",
    "-  Standardization (Included in 2.6)"
   ]
  },
  {
   "cell_type": "markdown",
   "metadata": {},
   "source": [
    "### 2.7 All in One Pipeline \n",
    "    i. Feature Scaling: Standardization (StandardScaler)\n",
    "    ii. 1)numeric pipeline=> 3) Full pipeline\n"
   ]
  },
  {
   "cell_type": "code",
   "execution_count": 35,
   "metadata": {},
   "outputs": [],
   "source": [
    "# Import the necessary modules for scaling\n",
    "from sklearn.preprocessing import StandardScaler\n",
    "from sklearn.pipeline import Pipeline"
   ]
  },
  {
   "cell_type": "code",
   "execution_count": 36,
   "metadata": {},
   "outputs": [],
   "source": [
    "#Pipeline for numeric features\n",
    "\n",
    "num_pipeline = Pipeline([\n",
    "                        ('imputer', SimpleImputer(strategy=\"median\")),\n",
    "                        ('std_scaler', StandardScaler())\n",
    "                        ])\n",
    "\n",
    "df_ml_num_tr = num_pipeline.fit_transform(df_ml_num)"
   ]
  },
  {
   "cell_type": "code",
   "execution_count": 37,
   "metadata": {},
   "outputs": [
    {
     "data": {
      "text/plain": [
       "array([[-0.06304633, -4.91324094,  3.33069042, ...,  0.28993285,\n",
       "        -0.16058067,  0.51006572],\n",
       "       [ 0.03946803, -1.18400515, -0.103734  , ...,  1.37919379,\n",
       "         0.44798681, -0.33760797],\n",
       "       [-1.08818994,  0.19064017, -0.84096647, ...,  0.38465119,\n",
       "         1.25941011, -0.80529001],\n",
       "       ...,\n",
       "       [-0.26807505,  0.62617136, -0.94885415, ..., -0.42045473,\n",
       "        -0.64743465,  0.83159713],\n",
       "       [-0.57561813, -1.18400515, -0.103734  , ...,  1.37919379,\n",
       "         0.44798681, -0.33760797],\n",
       "       [ 0.65455419, -0.02712543, -0.60720983, ..., -0.18365887,\n",
       "         0.61027147,  0.83159713]])"
      ]
     },
     "execution_count": 37,
     "metadata": {},
     "output_type": "execute_result"
    }
   ],
   "source": [
    "df_ml_num_tr"
   ]
  },
  {
   "cell_type": "code",
   "execution_count": 38,
   "metadata": {},
   "outputs": [],
   "source": [
    "# create pipeline for categorical features\n",
    "# Latest Version\n",
    "from sklearn.compose import ColumnTransformer\n",
    "\n",
    "num_attribs = list(df_ml_num)\n",
    "cat_attribs = ['sector', 'industry', 'country', 'Country Cluster', 'year']\n",
    "\n",
    "full_pipeline = ColumnTransformer([\n",
    "        (\"num\", num_pipeline, num_attribs),\n",
    "        (\"cat\", cat_encoder, cat_attribs),\n",
    "    ])\n",
    "\n",
    "df_ml_prepared = full_pipeline.fit_transform(df_ml_train)"
   ]
  },
  {
   "cell_type": "code",
   "execution_count": 39,
   "metadata": {},
   "outputs": [
    {
     "data": {
      "text/plain": [
       "array([[-0.06304633, -4.91324094,  3.33069042, ...,  1.        ,\n",
       "         1.        ,  3.        ],\n",
       "       [ 0.03946803, -1.18400515, -0.103734  , ...,  9.        ,\n",
       "         7.        ,  2.        ],\n",
       "       [-1.08818994,  0.19064017, -0.84096647, ..., 10.        ,\n",
       "         5.        ,  0.        ],\n",
       "       ...,\n",
       "       [-0.26807505,  0.62617136, -0.94885415, ...,  6.        ,\n",
       "         2.        ,  0.        ],\n",
       "       [-0.57561813, -1.18400515, -0.103734  , ...,  9.        ,\n",
       "         7.        ,  0.        ],\n",
       "       [ 0.65455419, -0.02712543, -0.60720983, ..., 21.        ,\n",
       "         5.        ,  1.        ]])"
      ]
     },
     "execution_count": 39,
     "metadata": {},
     "output_type": "execute_result"
    }
   ],
   "source": [
    "df_ml_prepared"
   ]
  },
  {
   "cell_type": "code",
   "execution_count": 40,
   "metadata": {},
   "outputs": [
    {
     "data": {
      "text/plain": [
       "(1000, 57)"
      ]
     },
     "execution_count": 40,
     "metadata": {},
     "output_type": "execute_result"
    }
   ],
   "source": [
    "df_ml_prepared.shape"
   ]
  },
  {
   "cell_type": "markdown",
   "metadata": {},
   "source": [
    "## 3. Build and Evaluate Models"
   ]
  },
  {
   "cell_type": "markdown",
   "metadata": {},
   "source": [
    "### 3.1 Train Many Models"
   ]
  },
  {
   "cell_type": "markdown",
   "metadata": {},
   "source": [
    "#### 3.1.1. Linear Regression"
   ]
  },
  {
   "cell_type": "code",
   "execution_count": 41,
   "metadata": {
    "scrolled": true
   },
   "outputs": [
    {
     "data": {
      "text/plain": [
       "LinearRegression(copy_X=True, fit_intercept=True, n_jobs=None, normalize=False)"
      ]
     },
     "execution_count": 41,
     "metadata": {},
     "output_type": "execute_result"
    }
   ],
   "source": [
    "from sklearn.linear_model import LinearRegression\n",
    "\n",
    "lin_reg = LinearRegression()\n",
    "lin_reg.fit(df_ml_prepared, df_ml_labels)"
   ]
  },
  {
   "cell_type": "code",
   "execution_count": 42,
   "metadata": {
    "scrolled": true
   },
   "outputs": [
    {
     "name": "stdout",
     "output_type": "stream",
     "text": [
      "Predictions: [9.73894854 6.85327438 8.98517365 9.30041047 5.44524801]\n"
     ]
    },
    {
     "name": "stderr",
     "output_type": "stream",
     "text": [
      "C:\\Users\\Jeeho\\Anaconda3\\lib\\site-packages\\sklearn\\compose\\_column_transformer.py:430: FutureWarning: Given feature/column names or counts do not match the ones for the data given during fit. This will fail from v0.24.\n",
      "  FutureWarning)\n"
     ]
    }
   ],
   "source": [
    "# let's try the full preprocessing pipeline on a few training instances\n",
    "some_data = df_ml.iloc[:5]\n",
    "some_labels = df_ml_labels.iloc[:5]\n",
    "some_data_prepared = full_pipeline.transform(some_data)\n",
    "\n",
    "print(\"Predictions:\", lin_reg.predict(some_data_prepared))"
   ]
  },
  {
   "cell_type": "code",
   "execution_count": 43,
   "metadata": {},
   "outputs": [
    {
     "name": "stdout",
     "output_type": "stream",
     "text": [
      "Labels: [3.6, 33.6, 3.6, 10.7, 3.8]\n"
     ]
    }
   ],
   "source": [
    "#Compare against the actual values:\n",
    "\n",
    "print(\"Labels:\", list(some_labels))"
   ]
  },
  {
   "cell_type": "markdown",
   "metadata": {},
   "source": [
    "It works, although the predictions are not exactly accurate. RMSE is used here to check the error instead of MSE since there are too many outliers."
   ]
  },
  {
   "cell_type": "code",
   "execution_count": 44,
   "metadata": {},
   "outputs": [
    {
     "data": {
      "text/plain": [
       "9.306906676729213"
      ]
     },
     "execution_count": 44,
     "metadata": {},
     "output_type": "execute_result"
    }
   ],
   "source": [
    "from sklearn.metrics import mean_squared_error\n",
    "df_ml_predictions = lin_reg.predict(df_ml_prepared)\n",
    "lin_mse = mean_squared_error(df_ml_labels, df_ml_predictions)\n",
    "lin_rmse = np.sqrt(lin_mse)\n",
    "lin_rmse"
   ]
  },
  {
   "cell_type": "code",
   "execution_count": 45,
   "metadata": {},
   "outputs": [
    {
     "data": {
      "text/plain": [
       "0.09698146859516887"
      ]
     },
     "execution_count": 45,
     "metadata": {},
     "output_type": "execute_result"
    }
   ],
   "source": [
    "lin_reg.score(df_ml_prepared, df_ml_labels)"
   ]
  },
  {
   "cell_type": "code",
   "execution_count": 46,
   "metadata": {
    "scrolled": true
   },
   "outputs": [],
   "source": [
    "# Check the mean of label feature\n",
    "t = train_set['profit_as_%_of_revenues'].astype(float)"
   ]
  },
  {
   "cell_type": "code",
   "execution_count": 47,
   "metadata": {},
   "outputs": [
    {
     "data": {
      "text/plain": [
       "6.939000000000002"
      ]
     },
     "execution_count": 47,
     "metadata": {},
     "output_type": "execute_result"
    }
   ],
   "source": [
    "t.mean()"
   ]
  },
  {
   "cell_type": "markdown",
   "metadata": {},
   "source": [
    "#### 3.1.2. Decision Tree Regressor"
   ]
  },
  {
   "cell_type": "code",
   "execution_count": 48,
   "metadata": {},
   "outputs": [
    {
     "data": {
      "text/plain": [
       "DecisionTreeRegressor(ccp_alpha=0.0, criterion='mse', max_depth=None,\n",
       "                      max_features=None, max_leaf_nodes=None,\n",
       "                      min_impurity_decrease=0.0, min_impurity_split=None,\n",
       "                      min_samples_leaf=1, min_samples_split=2,\n",
       "                      min_weight_fraction_leaf=0.0, presort='deprecated',\n",
       "                      random_state=None, splitter='best')"
      ]
     },
     "execution_count": 48,
     "metadata": {},
     "output_type": "execute_result"
    }
   ],
   "source": [
    "# Try Decision Tree Regressor\n",
    "from sklearn.tree import DecisionTreeRegressor\n",
    "\n",
    "tree_reg = DecisionTreeRegressor()\n",
    "tree_reg.fit(df_ml_prepared, df_ml_labels)"
   ]
  },
  {
   "cell_type": "code",
   "execution_count": 49,
   "metadata": {},
   "outputs": [
    {
     "data": {
      "text/plain": [
       "0.975689499789764"
      ]
     },
     "execution_count": 49,
     "metadata": {},
     "output_type": "execute_result"
    }
   ],
   "source": [
    "df_ml_tree_predictions = tree_reg.predict(df_ml_prepared)\n",
    "tree_mse = mean_squared_error(df_ml_labels, df_ml_tree_predictions)\n",
    "tree_rmse = np.sqrt(tree_mse)\n",
    "tree_rmse"
   ]
  },
  {
   "cell_type": "code",
   "execution_count": 50,
   "metadata": {},
   "outputs": [
    {
     "data": {
      "text/plain": [
       "0.9900754869531857"
      ]
     },
     "execution_count": 50,
     "metadata": {},
     "output_type": "execute_result"
    }
   ],
   "source": [
    "tree_reg.score(df_ml_prepared, df_ml_labels)"
   ]
  },
  {
   "cell_type": "markdown",
   "metadata": {},
   "source": [
    "#### 3.1.3. Lasso Regression"
   ]
  },
  {
   "cell_type": "code",
   "execution_count": 51,
   "metadata": {},
   "outputs": [],
   "source": [
    "from sklearn.linear_model import Lasso\n",
    "import matplotlib.pyplot as plt\n",
    "from matplotlib.pyplot import figure"
   ]
  },
  {
   "cell_type": "code",
   "execution_count": 52,
   "metadata": {
    "scrolled": true
   },
   "outputs": [
    {
     "data": {
      "text/plain": [
       "Lasso(alpha=0.1, copy_X=True, fit_intercept=True, max_iter=1000,\n",
       "      normalize=False, positive=False, precompute=False, random_state=None,\n",
       "      selection='cyclic', tol=0.0001, warm_start=False)"
      ]
     },
     "execution_count": 52,
     "metadata": {},
     "output_type": "execute_result"
    }
   ],
   "source": [
    "lasso_reg = Lasso(alpha=0.1)\n",
    "lasso_reg.fit(df_ml_prepared, df_ml_labels)"
   ]
  },
  {
   "cell_type": "code",
   "execution_count": 53,
   "metadata": {},
   "outputs": [
    {
     "data": {
      "text/plain": [
       "9.466951040700284"
      ]
     },
     "execution_count": 53,
     "metadata": {},
     "output_type": "execute_result"
    }
   ],
   "source": [
    "df_ml_lasso_predictions = lasso_reg.predict(df_ml_prepared)\n",
    "lasso_mse = mean_squared_error(df_ml_labels, df_ml_lasso_predictions)\n",
    "lasso_rmse = np.sqrt(lasso_mse)\n",
    "lasso_rmse"
   ]
  },
  {
   "cell_type": "code",
   "execution_count": 54,
   "metadata": {},
   "outputs": [
    {
     "data": {
      "text/plain": [
       "0.06565727844850267"
      ]
     },
     "execution_count": 54,
     "metadata": {},
     "output_type": "execute_result"
    }
   ],
   "source": [
    "lasso_reg.score(df_ml_prepared, df_ml_labels)"
   ]
  },
  {
   "cell_type": "markdown",
   "metadata": {},
   "source": [
    "#### 3.1.4. Elastic-Net Regression"
   ]
  },
  {
   "cell_type": "code",
   "execution_count": 55,
   "metadata": {
    "scrolled": true
   },
   "outputs": [
    {
     "data": {
      "text/plain": [
       "ElasticNet(alpha=1, copy_X=True, fit_intercept=True, l1_ratio=0.5,\n",
       "           max_iter=1000, normalize=False, positive=False, precompute=False,\n",
       "           random_state=None, selection='cyclic', tol=0.0001, warm_start=False)"
      ]
     },
     "execution_count": 55,
     "metadata": {},
     "output_type": "execute_result"
    }
   ],
   "source": [
    "from sklearn.linear_model import ElasticNet\n",
    "\n",
    "Elastic_reg = ElasticNet(alpha=1, l1_ratio=0.5)\n",
    "Elastic_reg.fit(df_ml_prepared, df_ml_labels)"
   ]
  },
  {
   "cell_type": "code",
   "execution_count": 56,
   "metadata": {},
   "outputs": [
    {
     "data": {
      "text/plain": [
       "9.677561751900443"
      ]
     },
     "execution_count": 56,
     "metadata": {},
     "output_type": "execute_result"
    }
   ],
   "source": [
    "df_ml_elastic_predictions = Elastic_reg.predict(df_ml_prepared)\n",
    "elastic_mse = mean_squared_error(df_ml_labels, df_ml_elastic_predictions)\n",
    "elastic_rmse = np.sqrt(elastic_mse)\n",
    "elastic_rmse"
   ]
  },
  {
   "cell_type": "code",
   "execution_count": 57,
   "metadata": {},
   "outputs": [
    {
     "data": {
      "text/plain": [
       "0.02362231077648369"
      ]
     },
     "execution_count": 57,
     "metadata": {},
     "output_type": "execute_result"
    }
   ],
   "source": [
    "Elastic_reg.score(df_ml_prepared, df_ml_labels)"
   ]
  },
  {
   "cell_type": "markdown",
   "metadata": {},
   "source": [
    "#### 3.1.5. Random Forest Regression"
   ]
  },
  {
   "cell_type": "code",
   "execution_count": 58,
   "metadata": {
    "scrolled": true
   },
   "outputs": [
    {
     "data": {
      "text/plain": [
       "RandomForestRegressor(bootstrap=True, ccp_alpha=0.0, criterion='mse',\n",
       "                      max_depth=None, max_features='auto', max_leaf_nodes=None,\n",
       "                      max_samples=None, min_impurity_decrease=0.0,\n",
       "                      min_impurity_split=None, min_samples_leaf=1,\n",
       "                      min_samples_split=2, min_weight_fraction_leaf=0.0,\n",
       "                      n_estimators=100, n_jobs=None, oob_score=False,\n",
       "                      random_state=None, verbose=0, warm_start=False)"
      ]
     },
     "execution_count": 58,
     "metadata": {},
     "output_type": "execute_result"
    }
   ],
   "source": [
    "from sklearn.ensemble import RandomForestRegressor\n",
    "\n",
    "forest_reg = RandomForestRegressor()\n",
    "forest_reg.fit(df_ml_prepared, df_ml_labels)"
   ]
  },
  {
   "cell_type": "code",
   "execution_count": 59,
   "metadata": {
    "scrolled": true
   },
   "outputs": [
    {
     "data": {
      "text/plain": [
       "9.466951040700284"
      ]
     },
     "execution_count": 59,
     "metadata": {},
     "output_type": "execute_result"
    }
   ],
   "source": [
    "df_ml_forest_predictions = forest_reg.predict(df_ml_prepared)\n",
    "forest_mse = mean_squared_error(df_ml_labels, df_ml_forest_predictions)\n",
    "forest_rmse = np.sqrt(lasso_mse)\n",
    "forest_rmse"
   ]
  },
  {
   "cell_type": "code",
   "execution_count": 60,
   "metadata": {
    "scrolled": true
   },
   "outputs": [
    {
     "data": {
      "text/plain": [
       "0.8571457755115948"
      ]
     },
     "execution_count": 60,
     "metadata": {},
     "output_type": "execute_result"
    }
   ],
   "source": [
    "forest_reg.score(df_ml_prepared, df_ml_labels)"
   ]
  },
  {
   "cell_type": "markdown",
   "metadata": {},
   "source": [
    "After training 5 different models, It shows that __Decision Tree Regressor__ and __Random Forest Regressor__ present the highest and second highest accuracy scores as __0.98__ and __0.85__ respectively. For errors, __Decision Tree Regressor__  shows the lowest RMSE as __0.990__, while __Random Forest Regression__ shows higher RMSE as __9.467__."
   ]
  },
  {
   "cell_type": "code",
   "execution_count": 61,
   "metadata": {
    "scrolled": true
   },
   "outputs": [
    {
     "data": {
      "text/plain": [
       "[(0.46135952372528377, 'industry'),\n",
       " (0.1628618590187202, 'BoY'),\n",
       " (0.1367076432925819, 'year'),\n",
       " (0.08387660776130022, 'sector'),\n",
       " (0.032726181610428125, 'Team-Oriented Global Leadership Dimension'),\n",
       " (0.016005007115004, 'Performance Orientation Societal Values'),\n",
       " (0.009876601642866769, 'Charismatic/Value-based Global Leadership Dimension'),\n",
       " (0.00678883061274633, 'Performance Orientation Societal Practices'),\n",
       " (0.00634176676863566, 'Charismatic 3: Self-sacrifice'),\n",
       " (0.006195905941021996, 'Self-centred')]"
      ]
     },
     "execution_count": 61,
     "metadata": {},
     "output_type": "execute_result"
    }
   ],
   "source": [
    "#Top 10 imfortant features of Decision Tree Regression model\n",
    "attribs = num_attribs + cat_attribs\n",
    "sorted(zip(tree_reg.feature_importances_, attribs), reverse=True)[:10]"
   ]
  },
  {
   "cell_type": "code",
   "execution_count": 62,
   "metadata": {},
   "outputs": [
    {
     "data": {
      "text/plain": [
       "[(0.3595354299551021, 'industry'),\n",
       " (0.17060137456230198, 'BoY'),\n",
       " (0.13484567494754277, 'year'),\n",
       " (0.07022648699788474, 'sector'),\n",
       " (0.02342872156821216, 'Team-Oriented Global Leadership Dimension'),\n",
       " (0.015414539153872642, 'ivr'),\n",
       " (0.011470250900535939, 'Performance Orientation Societal Values'),\n",
       " (0.008889318386182158, 'country'),\n",
       " (0.008314210466534192, 'Team 1: Collaborative Team Orientation'),\n",
       " (0.007898271091693991, 'Modesty')]"
      ]
     },
     "execution_count": 62,
     "metadata": {},
     "output_type": "execute_result"
    }
   ],
   "source": [
    "#Top 10 imfortant features of Random Forest Regression model\n",
    "sorted(zip(forest_reg.feature_importances_, attribs), reverse=True)[:10]"
   ]
  },
  {
   "cell_type": "markdown",
   "metadata": {},
   "source": [
    "While those two models show same order of categorical features, for cultural values, those two have different order of important features."
   ]
  },
  {
   "cell_type": "markdown",
   "metadata": {},
   "source": [
    "\n",
    "### 3.2 Measure and compare their performances using Cross-Validation"
   ]
  },
  {
   "cell_type": "markdown",
   "metadata": {},
   "source": [
    "#### 3.2.1. Decision Tree Regression"
   ]
  },
  {
   "cell_type": "code",
   "execution_count": 63,
   "metadata": {
    "scrolled": true
   },
   "outputs": [],
   "source": [
    "def display_scores(scores):\n",
    "    print(\"Scores:\", scores)\n",
    "    print(\"Mean:\", scores.mean())\n",
    "    print(\"Standard deviation:\", scores.std())   "
   ]
  },
  {
   "cell_type": "code",
   "execution_count": 64,
   "metadata": {
    "scrolled": true
   },
   "outputs": [
    {
     "name": "stdout",
     "output_type": "stream",
     "text": [
      "Scores: [11.2710991  10.84212272  9.89421801  8.90838229 21.11993194  9.65612759\n",
      " 12.39418412  8.09029357 10.37075214 10.47392596]\n",
      "Mean: 11.302103743042982\n",
      "Standard deviation: 3.465331655338891\n"
     ]
    }
   ],
   "source": [
    "from sklearn.model_selection import cross_val_score\n",
    "\n",
    "scores = cross_val_score(tree_reg, df_ml_prepared, df_ml_labels,\n",
    "        scoring=\"neg_mean_squared_error\", cv=10)\n",
    "\n",
    "rmse_scores = np.sqrt(-scores)\n",
    "\n",
    "display_scores(rmse_scores)"
   ]
  },
  {
   "cell_type": "code",
   "execution_count": 65,
   "metadata": {},
   "outputs": [
    {
     "data": {
      "text/plain": [
       "-0.7371539593526564"
      ]
     },
     "execution_count": 65,
     "metadata": {},
     "output_type": "execute_result"
    }
   ],
   "source": [
    "tree_r_squared = cross_val_score(tree_reg, df_ml_prepared, df_ml_labels, scoring='r2', cv=10).mean()\n",
    "\n",
    "tree_r_squared"
   ]
  },
  {
   "cell_type": "markdown",
   "metadata": {},
   "source": [
    "#### 3.2.2. Linear Regression"
   ]
  },
  {
   "cell_type": "code",
   "execution_count": 66,
   "metadata": {},
   "outputs": [
    {
     "name": "stdout",
     "output_type": "stream",
     "text": [
      "Scores: [ 9.03572984  9.4745749   6.52076354  7.03623154 19.68260993  8.70844333\n",
      "  6.40948454  6.50907049  9.98347471  9.19990529]\n",
      "Mean: 9.256028810437915\n",
      "Standard deviation: 3.7107928467202047\n"
     ]
    }
   ],
   "source": [
    "# Linear Regression\n",
    "lin_scores = cross_val_score(lin_reg, df_ml_prepared, df_ml_labels,\n",
    "            scoring=\"neg_mean_squared_error\", cv=10)\n",
    "\n",
    "lin_rmse_scores = np.sqrt(-lin_scores)\n",
    "display_scores(lin_rmse_scores)\n"
   ]
  },
  {
   "cell_type": "code",
   "execution_count": 67,
   "metadata": {},
   "outputs": [
    {
     "data": {
      "text/plain": [
       "-0.05520606195041976"
      ]
     },
     "execution_count": 67,
     "metadata": {},
     "output_type": "execute_result"
    }
   ],
   "source": [
    "lin_r_squared = cross_val_score(lin_reg, df_ml_prepared, df_ml_labels, scoring='r2', cv=10).mean()\n",
    "\n",
    "lin_r_squared"
   ]
  },
  {
   "cell_type": "markdown",
   "metadata": {},
   "source": [
    "#### 3.2.3 Lasso Regression"
   ]
  },
  {
   "cell_type": "code",
   "execution_count": 68,
   "metadata": {
    "scrolled": true
   },
   "outputs": [
    {
     "name": "stdout",
     "output_type": "stream",
     "text": [
      "Scores: [ 9.06283004  9.66428128  6.34157014  6.92022081 19.49185428  8.65695028\n",
      "  6.28021504  6.24077435  9.77412545  9.1924052 ]\n",
      "Mean: 9.162522686635963\n",
      "Standard deviation: 3.7069845904378735\n"
     ]
    }
   ],
   "source": [
    "# Lasso Regression\n",
    "\n",
    "lasso_scores = cross_val_score(lasso_reg, df_ml_prepared, df_ml_labels,\n",
    "            scoring=\"neg_mean_squared_error\", cv=10)\n",
    "\n",
    "lasso_rmse_scores = np.sqrt(-lasso_scores)\n",
    "display_scores(lasso_rmse_scores)\n"
   ]
  },
  {
   "cell_type": "code",
   "execution_count": 69,
   "metadata": {
    "scrolled": true
   },
   "outputs": [
    {
     "data": {
      "text/plain": [
       "-0.02929112830122521"
      ]
     },
     "execution_count": 69,
     "metadata": {},
     "output_type": "execute_result"
    }
   ],
   "source": [
    "lasso_r_squared = cross_val_score(lasso_reg, df_ml_prepared, df_ml_labels, scoring='r2', cv=10).mean()\n",
    "\n",
    "lasso_r_squared"
   ]
  },
  {
   "cell_type": "markdown",
   "metadata": {},
   "source": [
    "####  3.2.4. Elastic-Net Regression"
   ]
  },
  {
   "cell_type": "code",
   "execution_count": 70,
   "metadata": {
    "scrolled": true
   },
   "outputs": [
    {
     "name": "stdout",
     "output_type": "stream",
     "text": [
      "Scores: [ 8.99681977  9.60598349  6.30732227  6.70472925 19.58420963  8.42934961\n",
      "  6.21595038  6.28198357  9.1898949   9.30531638]\n",
      "Mean: 9.06215592646104\n",
      "Standard deviation: 3.74788384088017\n"
     ]
    }
   ],
   "source": [
    "elastic_scores = cross_val_score(Elastic_reg, df_ml_prepared, df_ml_labels,\n",
    "            scoring=\"neg_mean_squared_error\", cv=10)\n",
    "\n",
    "elastic_rmse_scores = np.sqrt(-elastic_scores)\n",
    "display_scores(elastic_rmse_scores)"
   ]
  },
  {
   "cell_type": "code",
   "execution_count": 71,
   "metadata": {},
   "outputs": [
    {
     "data": {
      "text/plain": [
       "-0.002803550720474346"
      ]
     },
     "execution_count": 71,
     "metadata": {},
     "output_type": "execute_result"
    }
   ],
   "source": [
    "elastic_r_squared = cross_val_score(Elastic_reg, df_ml_prepared, df_ml_labels, scoring='r2', cv=10).mean()\n",
    "\n",
    "elastic_r_squared"
   ]
  },
  {
   "cell_type": "markdown",
   "metadata": {},
   "source": [
    "#### 3.2.5. Random Forest Regression"
   ]
  },
  {
   "cell_type": "code",
   "execution_count": 72,
   "metadata": {},
   "outputs": [
    {
     "name": "stdout",
     "output_type": "stream",
     "text": [
      "Scores: [ 8.72700949  9.42382974  6.69693445  5.688807   19.70733261  6.92055152\n",
      "  7.88583473  6.17964336  9.09584255  8.44838295]\n",
      "Mean: 8.877416840326074\n",
      "Standard deviation: 3.805946923441379\n"
     ]
    }
   ],
   "source": [
    "forest_scores = cross_val_score(forest_reg, df_ml_prepared, df_ml_labels,\n",
    "            scoring=\"neg_mean_squared_error\", cv=10)\n",
    "\n",
    "forest_rmse_scores = np.sqrt(-forest_scores)\n",
    "display_scores(forest_rmse_scores)"
   ]
  },
  {
   "cell_type": "code",
   "execution_count": 73,
   "metadata": {
    "scrolled": false
   },
   "outputs": [
    {
     "data": {
      "text/plain": [
       "0.010854518664759217"
      ]
     },
     "execution_count": 73,
     "metadata": {},
     "output_type": "execute_result"
    }
   ],
   "source": [
    "forest_r_squared = cross_val_score(forest_reg, df_ml_prepared, df_ml_labels, scoring='r2', cv=10).mean()\n",
    "\n",
    "forest_r_squared"
   ]
  },
  {
   "cell_type": "markdown",
   "metadata": {},
   "source": [
    "All models have negative r squared values."
   ]
  },
  {
   "cell_type": "markdown",
   "metadata": {},
   "source": [
    "### 3.3 Analyze the most significant variables for each algorithm"
   ]
  },
  {
   "cell_type": "markdown",
   "metadata": {},
   "source": [
    "#### 3.3.1 Check standardized regression coefficients (which is after standardization of data)\n"
   ]
  },
  {
   "cell_type": "markdown",
   "metadata": {},
   "source": [
    "### 3.4 The most promising model\n",
    " "
   ]
  },
  {
   "cell_type": "markdown",
   "metadata": {},
   "source": [
    "Random Forest Regression model"
   ]
  },
  {
   "cell_type": "markdown",
   "metadata": {},
   "source": [
    "## 4. Fine-tune the models"
   ]
  },
  {
   "cell_type": "markdown",
   "metadata": {},
   "source": [
    "### 4.1. Fine-tune the hyperparameters using cross-validation\n",
    "- GridSearch CV "
   ]
  },
  {
   "cell_type": "code",
   "execution_count": 74,
   "metadata": {
    "scrolled": true
   },
   "outputs": [
    {
     "data": {
      "text/plain": [
       "GridSearchCV(cv=10, error_score=nan,\n",
       "             estimator=RandomForestRegressor(bootstrap=True, ccp_alpha=0.0,\n",
       "                                             criterion='mse', max_depth=None,\n",
       "                                             max_features='auto',\n",
       "                                             max_leaf_nodes=None,\n",
       "                                             max_samples=None,\n",
       "                                             min_impurity_decrease=0.0,\n",
       "                                             min_impurity_split=None,\n",
       "                                             min_samples_leaf=1,\n",
       "                                             min_samples_split=2,\n",
       "                                             min_weight_fraction_leaf=0.0,\n",
       "                                             n_estimators=100, n_jobs=None,\n",
       "                                             oob_score=False, random_state=42,\n",
       "                                             verbose=0, warm_start=False),\n",
       "             iid='deprecated', n_jobs=None,\n",
       "             param_grid=[{'max_features': [2, 4, 6, 8],\n",
       "                          'n_estimators': [3, 10, 30]},\n",
       "                         {'bootstrap': [False], 'max_features': [2, 3, 4],\n",
       "                          'n_estimators': [3, 10]}],\n",
       "             pre_dispatch='2*n_jobs', refit=True, return_train_score=True,\n",
       "             scoring='neg_mean_squared_error', verbose=0)"
      ]
     },
     "execution_count": 74,
     "metadata": {},
     "output_type": "execute_result"
    }
   ],
   "source": [
    "# GridSearch CV for Random Forest Regression\n",
    "from sklearn.model_selection import GridSearchCV\n",
    "\n",
    "param_grid = [\n",
    "    # try 12 (3×4) combinations of hyperparameters\n",
    "    {'n_estimators': [3, 10, 30], 'max_features': [2, 4, 6, 8]},\n",
    "    # then try 6 (2×3) combinations with bootstrap set as False\n",
    "    {'bootstrap': [False], 'n_estimators': [3, 10], 'max_features': [2, 3, 4]},\n",
    "  ]\n",
    "\n",
    "forest_reg = RandomForestRegressor(random_state=42)\n",
    "\n",
    "# train across 10 folds, that's a total of (12+6)*10=180 rounds of training \n",
    "grid_forest = GridSearchCV(forest_reg, param_grid, cv=10,\n",
    "                           scoring='neg_mean_squared_error', return_train_score=True)\n",
    "grid_forest.fit(df_ml_prepared, df_ml_labels)"
   ]
  },
  {
   "cell_type": "code",
   "execution_count": 75,
   "metadata": {},
   "outputs": [
    {
     "data": {
      "text/plain": [
       "{'max_features': 4, 'n_estimators': 30}"
      ]
     },
     "execution_count": 75,
     "metadata": {},
     "output_type": "execute_result"
    }
   ],
   "source": [
    "# The best parameters \n",
    "grid_forest.best_params_"
   ]
  },
  {
   "cell_type": "code",
   "execution_count": 76,
   "metadata": {},
   "outputs": [
    {
     "data": {
      "text/plain": [
       "RandomForestRegressor(bootstrap=True, ccp_alpha=0.0, criterion='mse',\n",
       "                      max_depth=None, max_features=4, max_leaf_nodes=None,\n",
       "                      max_samples=None, min_impurity_decrease=0.0,\n",
       "                      min_impurity_split=None, min_samples_leaf=1,\n",
       "                      min_samples_split=2, min_weight_fraction_leaf=0.0,\n",
       "                      n_estimators=30, n_jobs=None, oob_score=False,\n",
       "                      random_state=42, verbose=0, warm_start=False)"
      ]
     },
     "execution_count": 76,
     "metadata": {},
     "output_type": "execute_result"
    }
   ],
   "source": [
    "grid_forest.best_estimator_"
   ]
  },
  {
   "cell_type": "code",
   "execution_count": 77,
   "metadata": {},
   "outputs": [
    {
     "name": "stdout",
     "output_type": "stream",
     "text": [
      "10.772640918681143 {'max_features': 2, 'n_estimators': 3}\n",
      "10.166532189660442 {'max_features': 2, 'n_estimators': 10}\n",
      "10.099786042080307 {'max_features': 2, 'n_estimators': 30}\n",
      "10.840960317326681 {'max_features': 4, 'n_estimators': 3}\n",
      "10.166844841124508 {'max_features': 4, 'n_estimators': 10}\n",
      "9.91462852497834 {'max_features': 4, 'n_estimators': 30}\n",
      "10.890534976622337 {'max_features': 6, 'n_estimators': 3}\n",
      "10.126524272280783 {'max_features': 6, 'n_estimators': 10}\n",
      "9.940551513550645 {'max_features': 6, 'n_estimators': 30}\n",
      "10.69224755068761 {'max_features': 8, 'n_estimators': 3}\n",
      "10.109854692960615 {'max_features': 8, 'n_estimators': 10}\n",
      "9.97290580157285 {'max_features': 8, 'n_estimators': 30}\n",
      "11.549492232705873 {'bootstrap': False, 'max_features': 2, 'n_estimators': 3}\n",
      "10.574785032094033 {'bootstrap': False, 'max_features': 2, 'n_estimators': 10}\n",
      "10.48238543674313 {'bootstrap': False, 'max_features': 3, 'n_estimators': 3}\n",
      "10.228926215639646 {'bootstrap': False, 'max_features': 3, 'n_estimators': 10}\n",
      "10.446631354971165 {'bootstrap': False, 'max_features': 4, 'n_estimators': 3}\n",
      "10.163133180536034 {'bootstrap': False, 'max_features': 4, 'n_estimators': 10}\n"
     ]
    }
   ],
   "source": [
    "#Check the parameters\n",
    "cvres = grid_forest.cv_results_\n",
    "for mean_score, params in zip(cvres[\"mean_test_score\"], cvres[\"params\"]):\n",
    "    print(np.sqrt(-mean_score), params)"
   ]
  },
  {
   "cell_type": "code",
   "execution_count": 78,
   "metadata": {},
   "outputs": [
    {
     "data": {
      "text/plain": [
       "array([0.25698988, 0.01479378, 0.00183234, 0.00557651, 0.00142633,\n",
       "       0.00391601, 0.00201299, 0.00157027, 0.00118384, 0.00453499,\n",
       "       0.00247628, 0.00289893, 0.00069285, 0.00107619, 0.00093849,\n",
       "       0.00124784, 0.00126893, 0.00424576, 0.01229267, 0.00322947,\n",
       "       0.00133214, 0.00205531, 0.00290178, 0.00404491, 0.00074333,\n",
       "       0.00504833, 0.00633746, 0.0005075 , 0.00280763, 0.00186095,\n",
       "       0.00126003, 0.0014041 , 0.00169968, 0.00535985, 0.00394239,\n",
       "       0.00151609, 0.00262938, 0.00235933, 0.00143414, 0.00379341,\n",
       "       0.00426077, 0.00504192, 0.00373162, 0.0028472 , 0.00451653,\n",
       "       0.00161213, 0.00297532, 0.00291195, 0.00088326, 0.00208415,\n",
       "       0.00287922, 0.00291596, 0.15023072, 0.24165444, 0.00166652,\n",
       "       0.00083594, 0.19171025])"
      ]
     },
     "execution_count": 78,
     "metadata": {},
     "output_type": "execute_result"
    }
   ],
   "source": [
    "# The feature importances\n",
    "feature_importances = grid_forest.best_estimator_.feature_importances_\n",
    "feature_importances"
   ]
  },
  {
   "cell_type": "code",
   "execution_count": 79,
   "metadata": {
    "scrolled": true
   },
   "outputs": [],
   "source": [
    "# Feature importances including numeric features and categorical features\n",
    "cat_encoder = full_pipeline.named_transformers_[\"cat\"]\n",
    "cat_one_hot_attribs = list(cat_encoder.categories_[0])\n",
    "attributes = num_attribs + cat_one_hot_attribs\n"
   ]
  },
  {
   "cell_type": "code",
   "execution_count": 80,
   "metadata": {
    "scrolled": true
   },
   "outputs": [
    {
     "data": {
      "text/plain": [
       "[(0.2569898839325227, 'BoY'),\n",
       " (0.24165443766500502, 'Apparel'),\n",
       " (0.19171024822551752, 'Energy'),\n",
       " (0.15023072004469495, 'Aerospace & Defense'),\n",
       " (0.014793778480076965, 'Performance Oriented'),\n",
       " (0.012292665293815362, 'Malevolent'),\n",
       " (0.006337458957238241, 'Humane-Oriented Global Leadership Dimension'),\n",
       " (0.005576505059568426, 'Modesty'),\n",
       " (0.005359851706081211, 'Performance Orientation Societal Practices'),\n",
       " (0.005048327036355898, 'Participative Global Leadership Dimension'),\n",
       " (0.005041918134408647, 'Human Orientation Societal Values'),\n",
       " (0.004534988571224808, 'Charismatic 1: Visionary'),\n",
       " (0.0045165345496438565, 'Gender Egalitarianism Societal Values'),\n",
       " (0.004260774879688476,\n",
       "  'Collectivism I Societal Values (Institutional Collectivism)'),\n",
       " (0.004245758005782923, 'Charismatic 2: Inspirational'),\n",
       " (0.004044912417438393, 'Team-Oriented Global Leadership Dimension'),\n",
       " (0.003942388846319474,\n",
       "  'Collectivism II Societal Practices (In-group Collectivism)'),\n",
       " (0.0039160106495873285, 'Team 1: Collaborative Team Orientation'),\n",
       " (0.003793410046148556, 'Power Distance Societal Values'),\n",
       " (0.0037316242899923047, 'Performance Orientation Societal Values'),\n",
       " (0.003229466491497717, 'Team 2: Team Integrator'),\n",
       " (0.0029753225575228294, 'pdi'),\n",
       " (0.002915961723704732, 'ivr'),\n",
       " (0.0029119486800371483, 'idv'),\n",
       " (0.0029017800057028554,\n",
       "  'Charismatic/Value-based Global Leadership Dimension'),\n",
       " (0.0028989251869303125, 'Integrity'),\n",
       " (0.0028792234051384733, 'ltowvs'),\n",
       " (0.0028472015502759578,\n",
       "  'Collectivism II Societal Values (In-group Collectivism)'),\n",
       " (0.0028076295908698464, 'Uncertainty Avoidance Societal Practices'),\n",
       " (0.0026293848073094, 'Assertiveness Societal Practices'),\n",
       " (0.0024762785634795414, 'Humane-oriented'),\n",
       " (0.0023593345268799045, 'Uncertainty Avoidance Societal Values'),\n",
       " (0.002084153287563332, 'uai'),\n",
       " (0.0020553110533907694, 'Participative'),\n",
       " (0.002012987085063555, 'Decisive'),\n",
       " (0.0018609462733719878, 'Future Orientation Societal Practices'),\n",
       " (0.0018323430551841896, 'Autocratic'),\n",
       " (0.0016996818417799897, 'Humane Orientation Societal Practices'),\n",
       " (0.0016665191475672763, 'Business Services'),\n",
       " (0.0016121281044409873, 'Assertiveness Societal Values'),\n",
       " (0.0015702716188373122, 'Diplomatic'),\n",
       " (0.0015160874778685923, 'Gender Egalitarianism Societal Practices'),\n",
       " (0.0014341365922170672, 'Future Orientation Societal Values'),\n",
       " (0.0014263294622684274, 'Charismatic 3: Self-sacrifice'),\n",
       " (0.0014041038628916762,\n",
       "  'Collectivism I Societal Practices (Institutional Collectivism)'),\n",
       " (0.0013321403606462465,\n",
       "  'Internally Competitive, Originally Labeled ??Conflict Inducer??'),\n",
       " (0.00126893368951746, 'Status Conscious'),\n",
       " (0.0012600305337366574, 'Power Distance Societal Practices'),\n",
       " (0.0012478382645994964, 'Autonomous'),\n",
       " (0.001183840999695994, 'Face-saver'),\n",
       " (0.0010761881130280475, 'Administratively Competent'),\n",
       " (0.0009384889756300203, 'Self-centred'),\n",
       " (0.0008832633524251704, 'mas'),\n",
       " (0.0008359411397417907, 'Chemicals'),\n",
       " (0.0007433318187200935, 'Self-Protective Global Leadership Dimension'),\n",
       " (0.0006928483730144511, 'Bureaucratic, Originally Labeled ??Procedural??'),\n",
       " (0.0005075016363396452, 'Autonomous Global Leadership Dimension')]"
      ]
     },
     "execution_count": 80,
     "metadata": {},
     "output_type": "execute_result"
    }
   ],
   "source": [
    "sorted(zip(feature_importances, attributes), reverse=True)"
   ]
  },
  {
   "cell_type": "code",
   "execution_count": 83,
   "metadata": {
    "scrolled": true
   },
   "outputs": [],
   "source": [
    "final_model = grid_forest.best_estimator_\n",
    "\n",
    "X_test = test_set.drop(\"profit_as_%_of_revenues\", axis=1)\n",
    "y_test = test_set[\"profit_as_%_of_revenues\"].copy()\n",
    "\n",
    "X_test_prepared = full_pipeline.transform(X_test)\n",
    "final_predictions = final_model.predict(X_test_prepared)\n",
    "\n",
    "final_mse = mean_squared_error(y_test, final_predictions)\n",
    "final_rmse = np.sqrt(final_mse)"
   ]
  },
  {
   "cell_type": "code",
   "execution_count": 84,
   "metadata": {},
   "outputs": [
    {
     "data": {
      "text/plain": [
       "6.281349886427526"
      ]
     },
     "execution_count": 84,
     "metadata": {},
     "output_type": "execute_result"
    }
   ],
   "source": [
    "final_rmse"
   ]
  },
  {
   "cell_type": "code",
   "execution_count": 85,
   "metadata": {},
   "outputs": [
    {
     "data": {
      "text/plain": [
       "-0.10078244464049257"
      ]
     },
     "execution_count": 85,
     "metadata": {},
     "output_type": "execute_result"
    }
   ],
   "source": [
    "from sklearn.metrics import r2_score\n",
    "\n",
    "r2_score(y_test,final_predictions)"
   ]
  },
  {
   "cell_type": "code",
   "execution_count": 86,
   "metadata": {
    "scrolled": true
   },
   "outputs": [
    {
     "data": {
      "text/plain": [
       "RandomForestRegressor(bootstrap=True, ccp_alpha=0.0, criterion='mse',\n",
       "                      max_depth=None, max_features=4, max_leaf_nodes=None,\n",
       "                      max_samples=None, min_impurity_decrease=0.0,\n",
       "                      min_impurity_split=None, min_samples_leaf=1,\n",
       "                      min_samples_split=2, min_weight_fraction_leaf=0.0,\n",
       "                      n_estimators=30, n_jobs=None, oob_score=False,\n",
       "                      random_state=42, verbose=0, warm_start=False)"
      ]
     },
     "execution_count": 86,
     "metadata": {},
     "output_type": "execute_result"
    }
   ],
   "source": [
    "final_model"
   ]
  },
  {
   "cell_type": "code",
   "execution_count": 87,
   "metadata": {},
   "outputs": [
    {
     "data": {
      "image/png": "[encoded data removed]",
      "text/plain": [
       "<Figure size 432x288 with 1 Axes>"
      ]
     },
     "metadata": {},
     "output_type": "display_data"
    }
   ],
   "source": [
    "# show feature importance only includinig cultural features and Birth of Year\n",
    "coef = sorted(zip(feature_importances, attributes), reverse=True)\n",
    "\n",
    "final_coef = final_model.feature_importances_\n",
    "indices = np.argsort(final_coef)[::-1]\n",
    "\n",
    "plt.figure()\n",
    "plt.title(\"Feature importances (Final Model)\")\n",
    "plt.bar(range(10), final_coef[indices[:10]],\n",
    "       color=\"g\", align=\"center\")\n",
    "plt.xticks(range(10), coef, rotation=45, ha='right')\n",
    "plt.subplots_adjust(bottom=0.3)\n",
    "plt.ion(); plt.show()"
   ]
  }
 ],
 "metadata": {
  "kernelspec": {
   "display_name": "Python 3",
   "language": "python",
   "name": "python3"
  },
  "language_info": {
   "codemirror_mode": {
    "name": "ipython",
    "version": 3
   },
   "file_extension": ".py",
   "mimetype": "text/x-python",
   "name": "python",
   "nbconvert_exporter": "python",
   "pygments_lexer": "ipython3",
   "version": "3.6.5"
  }
 },
 "nbformat": 4,
 "nbformat_minor": 2
}
