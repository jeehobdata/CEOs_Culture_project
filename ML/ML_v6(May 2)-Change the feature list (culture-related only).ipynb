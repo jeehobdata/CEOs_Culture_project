{
 "cells": [
  {
   "cell_type": "code",
   "execution_count": 1,
   "metadata": {},
   "outputs": [],
   "source": [
    "import matplotlib\n",
    "import matplotlib.pyplot as plt\n",
    "import numpy as np\n",
    "import pandas as pd\n",
    "import sklearn"
   ]
  },
  {
   "cell_type": "markdown",
   "metadata": {},
   "source": [
    "## 1. Get the Data"
   ]
  },
  {
   "cell_type": "code",
   "execution_count": 2,
   "metadata": {},
   "outputs": [],
   "source": [
    "df = pd.read_csv(r'C:\\\\Users\\\\Jeeho\\\\Documents\\\\Python Scripts\\\\Capstone project\\\\Data\\\\full_data_set_v9(Apr18).csv', sep=';')"
   ]
  },
  {
   "cell_type": "code",
   "execution_count": 3,
   "metadata": {},
   "outputs": [],
   "source": [
    "pd.set_option('display.max_columns', None)"
   ]
  },
  {
   "cell_type": "code",
   "execution_count": 4,
   "metadata": {},
   "outputs": [],
   "source": [
    "#See the full contents of the rows of value\n",
    "pd.set_option('display.max_colwidth', -1)"
   ]
  },
  {
   "cell_type": "code",
   "execution_count": 5,
   "metadata": {},
   "outputs": [],
   "source": [
    "pd.set_option('display.max_rows', None)"
   ]
  },
  {
   "cell_type": "markdown",
   "metadata": {},
   "source": [
    "## 2. Prepare Data"
   ]
  },
  {
   "cell_type": "markdown",
   "metadata": {},
   "source": [
    "### 2.1 Data Cleaning"
   ]
  },
  {
   "cell_type": "code",
   "execution_count": 6,
   "metadata": {},
   "outputs": [],
   "source": [
    "# Replace '\\N' values with null value\n",
    "df = df.replace(r'\\N', np.nan)"
   ]
  },
  {
   "cell_type": "code",
   "execution_count": 7,
   "metadata": {},
   "outputs": [],
   "source": [
    "# Remove \"$\" sign\n",
    "df= df.replace(r'\\$','', regex=True) "
   ]
  },
  {
   "cell_type": "code",
   "execution_count": 8,
   "metadata": {},
   "outputs": [],
   "source": [
    "# Remove \"%\" Sign\n",
    "df= df.replace(r'\\%','', regex=True) "
   ]
  },
  {
   "cell_type": "code",
   "execution_count": 9,
   "metadata": {},
   "outputs": [],
   "source": [
    "# Remove \",\" Sign\n",
    "df= df.replace(r'\\,','', regex=True)"
   ]
  },
  {
   "cell_type": "code",
   "execution_count": 28,
   "metadata": {},
   "outputs": [],
   "source": [
    "# Remove Object \"#NULL!\" \n",
    "df= df.replace('#NULL!','', regex=False)"
   ]
  },
  {
   "cell_type": "code",
   "execution_count": 29,
   "metadata": {},
   "outputs": [],
   "source": [
    "# Remove \\r in BoY, Country  Cluster, ivr\n",
    "df= df.replace(r'\\r','', regex=True) "
   ]
  },
  {
   "cell_type": "markdown",
   "metadata": {},
   "source": [
    "### 2.2 Feature selection"
   ]
  },
  {
   "cell_type": "code",
   "execution_count": 30,
   "metadata": {},
   "outputs": [],
   "source": [
    "# drop rows with no values in 'country'\n",
    "df_ctry = df[(df['country'].notnull())]"
   ]
  },
  {
   "cell_type": "code",
   "execution_count": 31,
   "metadata": {},
   "outputs": [],
   "source": [
    "# Drop rows with no values for Globe project values\n",
    "df_c = df_ctry[(df_ctry['country.1'].notnull())]"
   ]
  },
  {
   "cell_type": "code",
   "execution_count": 32,
   "metadata": {},
   "outputs": [],
   "source": [
    "# Drop un necessary columns for ML process\n",
    "df_ml = df_c.drop(['company_info_id', 'change in rank 500', 'Years on Global 500 List', 'Website','Country Name', 'g_societal_culture_id', 'g_leadership_id',\n",
    "           'Country Name.1', 'Country Cluster.1', 'hofstede_id', 'ctr', 'country.1','company', 'HQ Location', 'ceo', 'Born', 'education', 'rank',\n",
    "            'employees', 'revenues_$m', 'profit_$m', 'assets_$m', 'profit_as_%_of_revenues', 'profits_as_%_of_assets', 'profits_as_%_of_stockholder_equity', 'BoY', 'sector', 'industry', 'country', 'Country Cluster'], axis = 1)"
   ]
  },
  {
   "cell_type": "code",
   "execution_count": 33,
   "metadata": {},
   "outputs": [],
   "source": [
    "# Drop rows if any of them have null cultural values\n",
    "df_ml = df_ml[(df_ml['ivr'].notnull())]"
   ]
  },
  {
   "cell_type": "code",
   "execution_count": 34,
   "metadata": {},
   "outputs": [],
   "source": [
    "df_ml2 = df_ml"
   ]
  },
  {
   "cell_type": "markdown",
   "metadata": {},
   "source": [
    "### 2.3 Split Dataset"
   ]
  },
  {
   "cell_type": "code",
   "execution_count": 35,
   "metadata": {},
   "outputs": [],
   "source": [
    "#Split data set\n",
    "from sklearn.model_selection import train_test_split\n",
    "train_set, test_set = train_test_split(df_ml2, test_size=0.1, random_state=42)"
   ]
  },
  {
   "cell_type": "code",
   "execution_count": 36,
   "metadata": {},
   "outputs": [],
   "source": [
    "#Drop Label(Target Variable) for training set\n",
    "df_ml3 = train_set.drop(\"total_stockholder_equity_$m\", axis=1) # drop labels for training set\n",
    "df_ml3_labels = train_set[\"total_stockholder_equity_$m\"].copy()"
   ]
  },
  {
   "cell_type": "code",
   "execution_count": 37,
   "metadata": {},
   "outputs": [],
   "source": [
    "# Cleaning numeric variables\n",
    "try:\n",
    "    from sklearn.impute import SimpleImputer # Scikit-Learn 0.20+\n",
    "except ImportError:\n",
    "    from sklearn.preprocessing import Imputer as SimpleImputer"
   ]
  },
  {
   "cell_type": "code",
   "execution_count": 38,
   "metadata": {},
   "outputs": [],
   "source": [
    "imputer = SimpleImputer(strategy=\"median\")  "
   ]
  },
  {
   "cell_type": "code",
   "execution_count": 39,
   "metadata": {
    "scrolled": true
   },
   "outputs": [
    {
     "data": {
      "text/html": [
       "<div>\n",
       "<style scoped>\n",
       "    .dataframe tbody tr th:only-of-type {\n",
       "        vertical-align: middle;\n",
       "    }\n",
       "\n",
       "    .dataframe tbody tr th {\n",
       "        vertical-align: top;\n",
       "    }\n",
       "\n",
       "    .dataframe thead th {\n",
       "        text-align: right;\n",
       "    }\n",
       "</style>\n",
       "<table border=\"1\" class=\"dataframe\">\n",
       "  <thead>\n",
       "    <tr style=\"text-align: right;\">\n",
       "      <th></th>\n",
       "      <th>Performance Oriented</th>\n",
       "      <th>Autocratic</th>\n",
       "      <th>Modesty</th>\n",
       "      <th>Charismatic 3: Self-sacrifice</th>\n",
       "      <th>Team 1: Collaborative Team Orientation</th>\n",
       "      <th>Decisive</th>\n",
       "      <th>Diplomatic</th>\n",
       "      <th>Face-saver</th>\n",
       "      <th>Charismatic 1: Visionary</th>\n",
       "      <th>Humane-oriented</th>\n",
       "      <th>Integrity</th>\n",
       "      <th>Bureaucratic, Originally Labeled ??Procedural??</th>\n",
       "      <th>Administratively Competent</th>\n",
       "      <th>Self-centred</th>\n",
       "      <th>Autonomous</th>\n",
       "      <th>Status Conscious</th>\n",
       "      <th>Charismatic 2: Inspirational</th>\n",
       "      <th>Malevolent</th>\n",
       "      <th>Team 2: Team Integrator</th>\n",
       "      <th>Internally Competitive, Originally Labeled ??Conflict Inducer??</th>\n",
       "      <th>Participative</th>\n",
       "      <th>Charismatic/Value-based Global Leadership Dimension</th>\n",
       "      <th>Team-Oriented Global Leadership Dimension</th>\n",
       "      <th>Self-Protective Global Leadership Dimension</th>\n",
       "      <th>Participative Global Leadership Dimension</th>\n",
       "      <th>Humane-Oriented Global Leadership Dimension</th>\n",
       "      <th>Autonomous Global Leadership Dimension</th>\n",
       "      <th>Uncertainty Avoidance Societal Practices</th>\n",
       "      <th>Future Orientation Societal Practices</th>\n",
       "      <th>Power Distance Societal Practices</th>\n",
       "      <th>Collectivism I Societal Practices (Institutional Collectivism)</th>\n",
       "      <th>Humane Orientation Societal Practices</th>\n",
       "      <th>Performance Orientation Societal Practices</th>\n",
       "      <th>Collectivism II Societal Practices (In-group Collectivism)</th>\n",
       "      <th>Gender Egalitarianism Societal Practices</th>\n",
       "      <th>Assertiveness Societal Practices</th>\n",
       "      <th>Uncertainty Avoidance Societal Values</th>\n",
       "      <th>Future Orientation Societal Values</th>\n",
       "      <th>Power Distance Societal Values</th>\n",
       "      <th>Collectivism I Societal Values (Institutional Collectivism)</th>\n",
       "      <th>Human Orientation Societal Values</th>\n",
       "      <th>Performance Orientation Societal Values</th>\n",
       "      <th>Collectivism II Societal Values (In-group Collectivism)</th>\n",
       "      <th>Gender Egalitarianism Societal Values</th>\n",
       "      <th>Assertiveness Societal Values</th>\n",
       "      <th>pdi</th>\n",
       "      <th>idv</th>\n",
       "      <th>mas</th>\n",
       "      <th>uai</th>\n",
       "      <th>ltowvs</th>\n",
       "      <th>ivr</th>\n",
       "    </tr>\n",
       "  </thead>\n",
       "  <tbody>\n",
       "    <tr>\n",
       "      <th>236</th>\n",
       "      <td>5.64</td>\n",
       "      <td>2.66</td>\n",
       "      <td>5.03</td>\n",
       "      <td>4.70</td>\n",
       "      <td>5.71</td>\n",
       "      <td>5.29</td>\n",
       "      <td>5.05</td>\n",
       "      <td>3.97</td>\n",
       "      <td>5.85</td>\n",
       "      <td>5.40</td>\n",
       "      <td>5.98</td>\n",
       "      <td>3.94</td>\n",
       "      <td>5.88</td>\n",
       "      <td>2.22</td>\n",
       "      <td>4.07</td>\n",
       "      <td>4.47</td>\n",
       "      <td>5.92</td>\n",
       "      <td>2.04</td>\n",
       "      <td>5.36</td>\n",
       "      <td>4.40</td>\n",
       "      <td>4.76</td>\n",
       "      <td>5.56</td>\n",
       "      <td>5.57</td>\n",
       "      <td>3.80</td>\n",
       "      <td>5.04</td>\n",
       "      <td>5.19</td>\n",
       "      <td>4.07</td>\n",
       "      <td>4.94</td>\n",
       "      <td>3.75</td>\n",
       "      <td>5.04</td>\n",
       "      <td>4.77</td>\n",
       "      <td>4.36</td>\n",
       "      <td>4.45</td>\n",
       "      <td>5.80</td>\n",
       "      <td>3.05</td>\n",
       "      <td>3.76</td>\n",
       "      <td>5.28</td>\n",
       "      <td>4.73</td>\n",
       "      <td>3.10</td>\n",
       "      <td>4.56</td>\n",
       "      <td>5.32</td>\n",
       "      <td>5.67</td>\n",
       "      <td>5.09</td>\n",
       "      <td>3.68</td>\n",
       "      <td>5.44</td>\n",
       "      <td>80</td>\n",
       "      <td>20</td>\n",
       "      <td>66</td>\n",
       "      <td>30</td>\n",
       "      <td>87</td>\n",
       "      <td>24</td>\n",
       "    </tr>\n",
       "  </tbody>\n",
       "</table>\n",
       "</div>"
      ],
      "text/plain": [
       "    Performance Oriented Autocratic Modesty Charismatic 3: Self-sacrifice  \\\n",
       "236  5.64                 2.66       5.03    4.70                           \n",
       "\n",
       "    Team 1: Collaborative Team Orientation Decisive Diplomatic Face-saver  \\\n",
       "236  5.71                                   5.29     5.05       3.97        \n",
       "\n",
       "    Charismatic 1: Visionary Humane-oriented Integrity  \\\n",
       "236  5.85                     5.40            5.98       \n",
       "\n",
       "    Bureaucratic, Originally Labeled ??Procedural??  \\\n",
       "236  3.94                                             \n",
       "\n",
       "    Administratively Competent Self-centred Autonomous Status Conscious  \\\n",
       "236  5.88                       2.22         4.07       4.47              \n",
       "\n",
       "    Charismatic 2: Inspirational Malevolent Team 2: Team Integrator  \\\n",
       "236  5.92                         2.04       5.36                     \n",
       "\n",
       "    Internally Competitive, Originally Labeled ??Conflict Inducer??  \\\n",
       "236  4.40                                                             \n",
       "\n",
       "    Participative Charismatic/Value-based Global Leadership Dimension  \\\n",
       "236  4.76          5.56                                                 \n",
       "\n",
       "    Team-Oriented Global Leadership Dimension  \\\n",
       "236  5.57                                       \n",
       "\n",
       "    Self-Protective Global Leadership Dimension  \\\n",
       "236  3.80                                         \n",
       "\n",
       "    Participative Global Leadership Dimension  \\\n",
       "236  5.04                                       \n",
       "\n",
       "    Humane-Oriented Global Leadership Dimension  \\\n",
       "236  5.19                                         \n",
       "\n",
       "    Autonomous Global Leadership Dimension  \\\n",
       "236  4.07                                    \n",
       "\n",
       "    Uncertainty Avoidance Societal Practices  \\\n",
       "236  4.94                                      \n",
       "\n",
       "    Future Orientation Societal Practices Power Distance Societal Practices  \\\n",
       "236  3.75                                  5.04                               \n",
       "\n",
       "    Collectivism I Societal Practices (Institutional Collectivism)  \\\n",
       "236  4.77                                                            \n",
       "\n",
       "    Humane Orientation Societal Practices  \\\n",
       "236  4.36                                   \n",
       "\n",
       "    Performance Orientation Societal Practices  \\\n",
       "236  4.45                                        \n",
       "\n",
       "    Collectivism II Societal Practices (In-group Collectivism)  \\\n",
       "236  5.80                                                        \n",
       "\n",
       "    Gender Egalitarianism Societal Practices Assertiveness Societal Practices  \\\n",
       "236  3.05                                     3.76                              \n",
       "\n",
       "    Uncertainty Avoidance Societal Values Future Orientation Societal Values  \\\n",
       "236  5.28                                  4.73                                \n",
       "\n",
       "    Power Distance Societal Values  \\\n",
       "236  3.10                            \n",
       "\n",
       "    Collectivism I Societal Values (Institutional Collectivism)  \\\n",
       "236  4.56                                                         \n",
       "\n",
       "    Human Orientation Societal Values Performance Orientation Societal Values  \\\n",
       "236  5.32                              5.67                                     \n",
       "\n",
       "    Collectivism II Societal Values (In-group Collectivism)  \\\n",
       "236  5.09                                                     \n",
       "\n",
       "    Gender Egalitarianism Societal Values Assertiveness Societal Values pdi  \\\n",
       "236  3.68                                  5.44                          80   \n",
       "\n",
       "    idv mas uai ltowvs ivr  \n",
       "236  20  66  30  87     24  "
      ]
     },
     "execution_count": 39,
     "metadata": {},
     "output_type": "execute_result"
    }
   ],
   "source": [
    "df_ml3.iloc[:1]"
   ]
  },
  {
   "cell_type": "code",
   "execution_count": 40,
   "metadata": {},
   "outputs": [
    {
     "ename": "ValueError",
     "evalue": "Cannot use median strategy with non-numeric data:\ncould not convert string to float: ",
     "output_type": "error",
     "traceback": [
      "\u001b[1;31m---------------------------------------------------------------------------\u001b[0m",
      "\u001b[1;31mValueError\u001b[0m                                Traceback (most recent call last)",
      "\u001b[1;32m<ipython-input-40-e7c3b8ec92e9>\u001b[0m in \u001b[0;36m<module>\u001b[1;34m()\u001b[0m\n\u001b[1;32m----> 1\u001b[1;33m \u001b[0mimputer\u001b[0m\u001b[1;33m.\u001b[0m\u001b[0mfit\u001b[0m\u001b[1;33m(\u001b[0m\u001b[0mdf_ml3\u001b[0m\u001b[1;33m)\u001b[0m\u001b[1;33m\u001b[0m\u001b[0m\n\u001b[0m",
      "\u001b[1;32m~\\Anaconda3\\lib\\site-packages\\sklearn\\impute\\_base.py\u001b[0m in \u001b[0;36mfit\u001b[1;34m(self, X, y)\u001b[0m\n\u001b[0;32m    266\u001b[0m         \u001b[0mself\u001b[0m \u001b[1;33m:\u001b[0m \u001b[0mSimpleImputer\u001b[0m\u001b[1;33m\u001b[0m\u001b[0m\n\u001b[0;32m    267\u001b[0m         \"\"\"\n\u001b[1;32m--> 268\u001b[1;33m         \u001b[0mX\u001b[0m \u001b[1;33m=\u001b[0m \u001b[0mself\u001b[0m\u001b[1;33m.\u001b[0m\u001b[0m_validate_input\u001b[0m\u001b[1;33m(\u001b[0m\u001b[0mX\u001b[0m\u001b[1;33m)\u001b[0m\u001b[1;33m\u001b[0m\u001b[0m\n\u001b[0m\u001b[0;32m    269\u001b[0m         \u001b[0msuper\u001b[0m\u001b[1;33m(\u001b[0m\u001b[1;33m)\u001b[0m\u001b[1;33m.\u001b[0m\u001b[0m_fit_indicator\u001b[0m\u001b[1;33m(\u001b[0m\u001b[0mX\u001b[0m\u001b[1;33m)\u001b[0m\u001b[1;33m\u001b[0m\u001b[0m\n\u001b[0;32m    270\u001b[0m \u001b[1;33m\u001b[0m\u001b[0m\n",
      "\u001b[1;32m~\\Anaconda3\\lib\\site-packages\\sklearn\\impute\\_base.py\u001b[0m in \u001b[0;36m_validate_input\u001b[1;34m(self, X)\u001b[0m\n\u001b[0;32m    238\u001b[0m                 new_ve = ValueError(\"Cannot use {} strategy with non-numeric \"\n\u001b[0;32m    239\u001b[0m                                     \"data:\\n{}\".format(self.strategy, ve))\n\u001b[1;32m--> 240\u001b[1;33m                 \u001b[1;32mraise\u001b[0m \u001b[0mnew_ve\u001b[0m \u001b[1;32mfrom\u001b[0m \u001b[1;32mNone\u001b[0m\u001b[1;33m\u001b[0m\u001b[0m\n\u001b[0m\u001b[0;32m    241\u001b[0m             \u001b[1;32melse\u001b[0m\u001b[1;33m:\u001b[0m\u001b[1;33m\u001b[0m\u001b[0m\n\u001b[0;32m    242\u001b[0m                 \u001b[1;32mraise\u001b[0m \u001b[0mve\u001b[0m\u001b[1;33m\u001b[0m\u001b[0m\n",
      "\u001b[1;31mValueError\u001b[0m: Cannot use median strategy with non-numeric data:\ncould not convert string to float: "
     ]
    }
   ],
   "source": [
    "imputer.fit(df_ml3)"
   ]
  },
  {
   "cell_type": "code",
   "execution_count": 41,
   "metadata": {},
   "outputs": [
    {
     "ename": "NotFittedError",
     "evalue": "This SimpleImputer instance is not fitted yet. Call 'fit' with appropriate arguments before using this estimator.",
     "output_type": "error",
     "traceback": [
      "\u001b[1;31m---------------------------------------------------------------------------\u001b[0m",
      "\u001b[1;31mNotFittedError\u001b[0m                            Traceback (most recent call last)",
      "\u001b[1;32m<ipython-input-41-791217ef7140>\u001b[0m in \u001b[0;36m<module>\u001b[1;34m()\u001b[0m\n\u001b[1;32m----> 1\u001b[1;33m \u001b[0mX\u001b[0m \u001b[1;33m=\u001b[0m \u001b[0mimputer\u001b[0m\u001b[1;33m.\u001b[0m\u001b[0mtransform\u001b[0m\u001b[1;33m(\u001b[0m\u001b[0mdf_ml3\u001b[0m\u001b[1;33m)\u001b[0m\u001b[1;33m\u001b[0m\u001b[0m\n\u001b[0m",
      "\u001b[1;32m~\\Anaconda3\\lib\\site-packages\\sklearn\\impute\\_base.py\u001b[0m in \u001b[0;36mtransform\u001b[1;34m(self, X)\u001b[0m\n\u001b[0;32m    402\u001b[0m             \u001b[0mThe\u001b[0m \u001b[0minput\u001b[0m \u001b[0mdata\u001b[0m \u001b[0mto\u001b[0m \u001b[0mcomplete\u001b[0m\u001b[1;33m.\u001b[0m\u001b[1;33m\u001b[0m\u001b[0m\n\u001b[0;32m    403\u001b[0m         \"\"\"\n\u001b[1;32m--> 404\u001b[1;33m         \u001b[0mcheck_is_fitted\u001b[0m\u001b[1;33m(\u001b[0m\u001b[0mself\u001b[0m\u001b[1;33m)\u001b[0m\u001b[1;33m\u001b[0m\u001b[0m\n\u001b[0m\u001b[0;32m    405\u001b[0m \u001b[1;33m\u001b[0m\u001b[0m\n\u001b[0;32m    406\u001b[0m         \u001b[0mX\u001b[0m \u001b[1;33m=\u001b[0m \u001b[0mself\u001b[0m\u001b[1;33m.\u001b[0m\u001b[0m_validate_input\u001b[0m\u001b[1;33m(\u001b[0m\u001b[0mX\u001b[0m\u001b[1;33m)\u001b[0m\u001b[1;33m\u001b[0m\u001b[0m\n",
      "\u001b[1;32m~\\Anaconda3\\lib\\site-packages\\sklearn\\utils\\validation.py\u001b[0m in \u001b[0;36mcheck_is_fitted\u001b[1;34m(estimator, attributes, msg, all_or_any)\u001b[0m\n\u001b[0;32m    965\u001b[0m \u001b[1;33m\u001b[0m\u001b[0m\n\u001b[0;32m    966\u001b[0m     \u001b[1;32mif\u001b[0m \u001b[1;32mnot\u001b[0m \u001b[0mattrs\u001b[0m\u001b[1;33m:\u001b[0m\u001b[1;33m\u001b[0m\u001b[0m\n\u001b[1;32m--> 967\u001b[1;33m         \u001b[1;32mraise\u001b[0m \u001b[0mNotFittedError\u001b[0m\u001b[1;33m(\u001b[0m\u001b[0mmsg\u001b[0m \u001b[1;33m%\u001b[0m \u001b[1;33m{\u001b[0m\u001b[1;34m'name'\u001b[0m\u001b[1;33m:\u001b[0m \u001b[0mtype\u001b[0m\u001b[1;33m(\u001b[0m\u001b[0mestimator\u001b[0m\u001b[1;33m)\u001b[0m\u001b[1;33m.\u001b[0m\u001b[0m__name__\u001b[0m\u001b[1;33m}\u001b[0m\u001b[1;33m)\u001b[0m\u001b[1;33m\u001b[0m\u001b[0m\n\u001b[0m\u001b[0;32m    968\u001b[0m \u001b[1;33m\u001b[0m\u001b[0m\n\u001b[0;32m    969\u001b[0m \u001b[1;33m\u001b[0m\u001b[0m\n",
      "\u001b[1;31mNotFittedError\u001b[0m: This SimpleImputer instance is not fitted yet. Call 'fit' with appropriate arguments before using this estimator."
     ]
    }
   ],
   "source": [
    "X = imputer.transform(df_ml3)"
   ]
  },
  {
   "cell_type": "code",
   "execution_count": 24,
   "metadata": {},
   "outputs": [],
   "source": [
    "df_ml_tr = pd.DataFrame(X, columns=df_ml3.columns)"
   ]
  },
  {
   "cell_type": "markdown",
   "metadata": {},
   "source": [
    "### 2.4 Feature Engineering (X)\n",
    "- Categorical variables"
   ]
  },
  {
   "cell_type": "markdown",
   "metadata": {},
   "source": [
    "### 2.5 Feature Scaling (Included in 2.6)\n",
    "\n",
    "-  Standardization"
   ]
  },
  {
   "cell_type": "markdown",
   "metadata": {},
   "source": [
    "### 2.6 All in One Pipeline \n",
    "    i. Feature Scaling: Standardization (StandardScaler)\n",
    "    ii. 1)numeric pipeline=> 3) Full pipeline\n"
   ]
  },
  {
   "cell_type": "code",
   "execution_count": 25,
   "metadata": {},
   "outputs": [],
   "source": [
    "# Import the necessary modules for scaling\n",
    "from sklearn.preprocessing import StandardScaler\n",
    "from sklearn.pipeline import Pipeline"
   ]
  },
  {
   "cell_type": "code",
   "execution_count": 26,
   "metadata": {},
   "outputs": [],
   "source": [
    "#Pipeline for numeric features\n",
    "\n",
    "num_pipeline = Pipeline([\n",
    "                        ('imputer', SimpleImputer(strategy=\"median\")),\n",
    "                        ('std_scaler', StandardScaler())\n",
    "                        ])\n",
    "\n",
    "df_ml_prepared = num_pipeline.fit_transform(df_ml3)"
   ]
  },
  {
   "cell_type": "code",
   "execution_count": 27,
   "metadata": {},
   "outputs": [
    {
     "data": {
      "text/plain": [
       "array([[-0.64503631,  2.05708417, -0.01166315, ...,  1.54505538,\n",
       "         1.38246544, -0.58542386],\n",
       "       [ 0.19501753, -0.99746042, -0.9567545 , ...,  0.34485568,\n",
       "         1.18267985, -0.70273278],\n",
       "       [-2.03775714,  0.02072111, -1.96091405, ...,  1.27834434,\n",
       "         0.38353745, -0.23349707],\n",
       "       ...,\n",
       "       [ 0.96875132, -0.79879085,  0.90389409, ..., -0.49972929,\n",
       "        -1.09487598,  0.93959221],\n",
       "       [-0.15868935, -0.67462237, -0.66141345, ..., -0.18856641,\n",
       "         0.54336593,  0.93959221],\n",
       "       [-2.03775714,  0.02072111, -1.96091405, ...,  1.27834434,\n",
       "         0.38353745, -0.23349707]])"
      ]
     },
     "execution_count": 27,
     "metadata": {},
     "output_type": "execute_result"
    }
   ],
   "source": [
    "df_ml_prepared"
   ]
  },
  {
   "cell_type": "markdown",
   "metadata": {},
   "source": [
    "## 3. Build and Evaluate Models"
   ]
  },
  {
   "cell_type": "markdown",
   "metadata": {},
   "source": [
    "### 3.1 Train Many Models"
   ]
  },
  {
   "cell_type": "markdown",
   "metadata": {},
   "source": [
    "#### 3.1.1. Linear Regression"
   ]
  },
  {
   "cell_type": "code",
   "execution_count": 28,
   "metadata": {
    "scrolled": true
   },
   "outputs": [
    {
     "data": {
      "text/plain": [
       "LinearRegression(copy_X=True, fit_intercept=True, n_jobs=None, normalize=False)"
      ]
     },
     "execution_count": 28,
     "metadata": {},
     "output_type": "execute_result"
    }
   ],
   "source": [
    "from sklearn.linear_model import LinearRegression\n",
    "\n",
    "lin_reg = LinearRegression()\n",
    "lin_reg.fit(df_ml_prepared, df_ml3_labels)"
   ]
  },
  {
   "cell_type": "code",
   "execution_count": 29,
   "metadata": {},
   "outputs": [
    {
     "name": "stdout",
     "output_type": "stream",
     "text": [
      "Predictions: [31971.35754106 51393.03873191 11223.08265759 13624.18219145\n",
      " 72660.57681635]\n"
     ]
    }
   ],
   "source": [
    "# let's try the full preprocessing pipeline on a few training instances\n",
    "some_data = df_ml3.iloc[:5]\n",
    "some_labels = df_ml3_labels.iloc[:5]\n",
    "some_data_prepared = num_pipeline.transform(some_data)\n",
    "\n",
    "print(\"Predictions:\", lin_reg.predict(some_data_prepared))"
   ]
  },
  {
   "cell_type": "code",
   "execution_count": 30,
   "metadata": {},
   "outputs": [
    {
     "name": "stdout",
     "output_type": "stream",
     "text": [
      "Labels: ['174827.40', '15533.40', '43686.00', '21786.00', '22894.00']\n"
     ]
    }
   ],
   "source": [
    "#Compare against the actual values:\n",
    "\n",
    "print(\"Labels:\", list(some_labels))"
   ]
  },
  {
   "cell_type": "markdown",
   "metadata": {},
   "source": [
    "It works, although the predictions are not exactly accurate. Let’s measure this regression model’s RMSE on the whole training set using Scikit-Learn’s mean_squared_error function:"
   ]
  },
  {
   "cell_type": "code",
   "execution_count": 31,
   "metadata": {},
   "outputs": [
    {
     "data": {
      "text/plain": [
       "52846.780883013824"
      ]
     },
     "execution_count": 31,
     "metadata": {},
     "output_type": "execute_result"
    }
   ],
   "source": [
    "from sklearn.metrics import mean_squared_error\n",
    "df_ml_predictions = lin_reg.predict(df_ml_prepared)\n",
    "lin_mse = mean_squared_error(df_ml3_labels, df_ml_predictions)\n",
    "lin_rmse = np.sqrt(lin_mse)\n",
    "lin_rmse"
   ]
  },
  {
   "cell_type": "markdown",
   "metadata": {},
   "source": [
    "The RMSE is too high."
   ]
  },
  {
   "cell_type": "code",
   "execution_count": 70,
   "metadata": {
    "scrolled": true
   },
   "outputs": [],
   "source": [
    "# Check the mean of label feature\n",
    "t = train_set['total_stockholder_equity_$m'].astype(float)"
   ]
  },
  {
   "cell_type": "code",
   "execution_count": 71,
   "metadata": {},
   "outputs": [
    {
     "data": {
      "text/plain": [
       "44111.13949044587"
      ]
     },
     "execution_count": 71,
     "metadata": {},
     "output_type": "execute_result"
    }
   ],
   "source": [
    "t.mean()"
   ]
  },
  {
   "cell_type": "markdown",
   "metadata": {},
   "source": [
    "#### 3.1.2. Decision Tree Regressor"
   ]
  },
  {
   "cell_type": "code",
   "execution_count": 32,
   "metadata": {},
   "outputs": [
    {
     "data": {
      "text/plain": [
       "DecisionTreeRegressor(ccp_alpha=0.0, criterion='mse', max_depth=None,\n",
       "                      max_features=None, max_leaf_nodes=None,\n",
       "                      min_impurity_decrease=0.0, min_impurity_split=None,\n",
       "                      min_samples_leaf=1, min_samples_split=2,\n",
       "                      min_weight_fraction_leaf=0.0, presort='deprecated',\n",
       "                      random_state=None, splitter='best')"
      ]
     },
     "execution_count": 32,
     "metadata": {},
     "output_type": "execute_result"
    }
   ],
   "source": [
    "# Try Decision Tree Regressor\n",
    "from sklearn.tree import DecisionTreeRegressor\n",
    "\n",
    "tree_reg = DecisionTreeRegressor()\n",
    "tree_reg.fit(df_ml_prepared, df_ml3_labels)"
   ]
  },
  {
   "cell_type": "code",
   "execution_count": 33,
   "metadata": {},
   "outputs": [
    {
     "data": {
      "text/plain": [
       "50410.230996432954"
      ]
     },
     "execution_count": 33,
     "metadata": {},
     "output_type": "execute_result"
    }
   ],
   "source": [
    "df_ml_tree_predictions = tree_reg.predict(df_ml_prepared)\n",
    "tree_mse = mean_squared_error(df_ml3_labels, df_ml_tree_predictions)\n",
    "tree_rmse = np.sqrt(tree_mse)\n",
    "tree_rmse"
   ]
  },
  {
   "cell_type": "markdown",
   "metadata": {},
   "source": [
    "#### 3.1.3. Lasso Regression"
   ]
  },
  {
   "cell_type": "code",
   "execution_count": 62,
   "metadata": {},
   "outputs": [],
   "source": [
    "from sklearn.linear_model import Lasso\n",
    "import matplotlib.pyplot as plt\n",
    "from matplotlib.pyplot import figure"
   ]
  },
  {
   "cell_type": "code",
   "execution_count": 94,
   "metadata": {
    "scrolled": true
   },
   "outputs": [
    {
     "name": "stderr",
     "output_type": "stream",
     "text": [
      "C:\\Users\\Jeeho\\Anaconda3\\lib\\site-packages\\sklearn\\linear_model\\_coordinate_descent.py:476: ConvergenceWarning: Objective did not converge. You might want to increase the number of iterations. Duality gap: 40745794861.7558, tolerance: 44736129.36160352\n",
      "  positive)\n"
     ]
    },
    {
     "data": {
      "text/plain": [
       "Lasso(alpha=0.1, copy_X=True, fit_intercept=True, max_iter=1000,\n",
       "      normalize=False, positive=False, precompute=False, random_state=None,\n",
       "      selection='cyclic', tol=0.0001, warm_start=False)"
      ]
     },
     "execution_count": 94,
     "metadata": {},
     "output_type": "execute_result"
    }
   ],
   "source": [
    "lasso_reg = Lasso(alpha=0.1)\n",
    "lasso_reg.fit(df_ml_prepared, df_ml3_labels)"
   ]
  },
  {
   "cell_type": "code",
   "execution_count": 95,
   "metadata": {},
   "outputs": [
    {
     "data": {
      "text/plain": [
       "50410.231151418695"
      ]
     },
     "execution_count": 95,
     "metadata": {},
     "output_type": "execute_result"
    }
   ],
   "source": [
    "df_ml_lasso_predictions = lasso_reg.predict(df_ml_prepared)\n",
    "lasso_mse = mean_squared_error(df_ml3_labels, df_ml_lasso_predictions)\n",
    "lasso_rmse = np.sqrt(lasso_mse)\n",
    "lasso_rmse"
   ]
  },
  {
   "cell_type": "markdown",
   "metadata": {},
   "source": [
    "Lasso regression's RMSE also too high"
   ]
  },
  {
   "cell_type": "markdown",
   "metadata": {},
   "source": [
    "#### 3.1.4. Elastic-Net Regression"
   ]
  },
  {
   "cell_type": "code",
   "execution_count": 104,
   "metadata": {
    "scrolled": true
   },
   "outputs": [
    {
     "data": {
      "text/plain": [
       "ElasticNet(alpha=1, copy_X=True, fit_intercept=True, l1_ratio=0.5,\n",
       "           max_iter=1000, normalize=False, positive=False, precompute=False,\n",
       "           random_state=None, selection='cyclic', tol=0.0001, warm_start=False)"
      ]
     },
     "execution_count": 104,
     "metadata": {},
     "output_type": "execute_result"
    }
   ],
   "source": [
    "from sklearn.linear_model import ElasticNet\n",
    "\n",
    "Elastic_reg = ElasticNet(alpha=1, l1_ratio=0.5)\n",
    "Elastic_reg.fit(df_ml_prepared, df_ml3_labels)"
   ]
  },
  {
   "cell_type": "code",
   "execution_count": 105,
   "metadata": {},
   "outputs": [
    {
     "data": {
      "text/plain": [
       "51387.51555428522"
      ]
     },
     "execution_count": 105,
     "metadata": {},
     "output_type": "execute_result"
    }
   ],
   "source": [
    "df_ml_elastic_predictions = Elastic_reg.predict(df_ml_prepared)\n",
    "elastic_mse = mean_squared_error(df_ml3_labels, df_ml_elastic_predictions)\n",
    "elastic_rmse = np.sqrt(elastic_mse)\n",
    "elastic_rmse"
   ]
  },
  {
   "cell_type": "markdown",
   "metadata": {},
   "source": [
    "#### 3.1.5. Random Forest Regression"
   ]
  },
  {
   "cell_type": "code",
   "execution_count": 80,
   "metadata": {
    "scrolled": true
   },
   "outputs": [
    {
     "data": {
      "text/plain": [
       "RandomForestRegressor(bootstrap=True, ccp_alpha=0.0, criterion='mse',\n",
       "                      max_depth=None, max_features='auto', max_leaf_nodes=None,\n",
       "                      max_samples=None, min_impurity_decrease=0.0,\n",
       "                      min_impurity_split=None, min_samples_leaf=1,\n",
       "                      min_samples_split=2, min_weight_fraction_leaf=0.0,\n",
       "                      n_estimators=100, n_jobs=None, oob_score=False,\n",
       "                      random_state=None, verbose=0, warm_start=False)"
      ]
     },
     "execution_count": 80,
     "metadata": {},
     "output_type": "execute_result"
    }
   ],
   "source": [
    "from sklearn.ensemble import RandomForestRegressor\n",
    "\n",
    "forest_reg = RandomForestRegressor()\n",
    "forest_reg.fit(df_ml_prepared, df_ml3_labels)"
   ]
  },
  {
   "cell_type": "code",
   "execution_count": 81,
   "metadata": {},
   "outputs": [
    {
     "data": {
      "text/plain": [
       "50410.231151418695"
      ]
     },
     "execution_count": 81,
     "metadata": {},
     "output_type": "execute_result"
    }
   ],
   "source": [
    "df_ml_forest_predictions = forest_reg.predict(df_ml_prepared)\n",
    "forest_mse = mean_squared_error(df_ml3_labels, df_ml_forest_predictions)\n",
    "forest_rmse = np.sqrt(lasso_mse)\n",
    "forest_rmse"
   ]
  },
  {
   "cell_type": "markdown",
   "metadata": {},
   "source": [
    "This clearly shows more error than a model with other features. "
   ]
  },
  {
   "cell_type": "markdown",
   "metadata": {},
   "source": [
    "### 3.2 Measure and compare their performances using Cross-Validation"
   ]
  },
  {
   "cell_type": "markdown",
   "metadata": {},
   "source": [
    "#### 3.2.1. Decision Tree Regression"
   ]
  },
  {
   "cell_type": "code",
   "execution_count": 73,
   "metadata": {
    "scrolled": true
   },
   "outputs": [],
   "source": [
    "def display_scores(scores):\n",
    "    print(\"Scores:\", scores)\n",
    "    print(\"Mean:\", scores.mean())\n",
    "    print(\"Standard deviation:\", scores.std())   "
   ]
  },
  {
   "cell_type": "code",
   "execution_count": 72,
   "metadata": {},
   "outputs": [
    {
     "name": "stdout",
     "output_type": "stream",
     "text": [
      "Scores: [51281.55153446 47421.61050553 56578.14693839 64840.54038544\n",
      " 33972.04622108 60581.47095319 79169.20169398 53004.67130733\n",
      " 62805.88055226 48639.52513086]\n",
      "Mean: 55829.46452225316\n",
      "Standard deviation: 11517.60492560637\n"
     ]
    }
   ],
   "source": [
    "from sklearn.model_selection import cross_val_score\n",
    "\n",
    "scores = cross_val_score(tree_reg, df_ml_prepared, df_ml3_labels,\n",
    "        scoring=\"neg_mean_squared_error\", cv=10)\n",
    "\n",
    "rmse_scores = np.sqrt(-scores)\n",
    "\n",
    "display_scores(rmse_scores)"
   ]
  },
  {
   "cell_type": "markdown",
   "metadata": {},
   "source": [
    "#### 3.2.2. Linear Regression"
   ]
  },
  {
   "cell_type": "code",
   "execution_count": 60,
   "metadata": {},
   "outputs": [
    {
     "name": "stdout",
     "output_type": "stream",
     "text": [
      "Scores: [5.71129495e+17 2.37371398e+18 3.92641960e+16 7.61473911e+15\n",
      " 2.50228669e+17 6.02778663e+04 8.12412334e+04 5.44090916e+16\n",
      " 6.28268559e+04 4.88570071e+04]\n",
      "Mean: 3.2963601735280755e+17\n",
      "Standard deviation: 7.029425531625446e+17\n"
     ]
    }
   ],
   "source": [
    "# Linear Regression\n",
    "lin_scores = cross_val_score(lin_reg, df_ml_prepared, df_ml3_labels,\n",
    "            scoring=\"neg_mean_squared_error\", cv=10)\n",
    "\n",
    "lin_rmse_scores = np.sqrt(-lin_scores)\n",
    "display_scores(lin_rmse_scores)\n"
   ]
  },
  {
   "cell_type": "code",
   "execution_count": 127,
   "metadata": {},
   "outputs": [
    {
     "data": {
      "text/plain": [
       "-4.1712145261680686e+26"
      ]
     },
     "execution_count": 127,
     "metadata": {},
     "output_type": "execute_result"
    }
   ],
   "source": [
    "lin_r_squared = cross_val_score(lin_reg, df_ml_prepared, df_ml3_labels, scoring='r2', cv=10).mean()\n",
    "\n",
    "lin_r_squared"
   ]
  },
  {
   "cell_type": "markdown",
   "metadata": {},
   "source": [
    "The result is >1.0 which does not make sense. Maybe because of the too small sample size or because of overfitting"
   ]
  },
  {
   "cell_type": "code",
   "execution_count": 122,
   "metadata": {},
   "outputs": [
    {
     "data": {
      "text/plain": [
       "0.019882096507877645"
      ]
     },
     "execution_count": 122,
     "metadata": {},
     "output_type": "execute_result"
    }
   ],
   "source": [
    "lin_reg.score(df_ml_prepared, df_ml3_labels)"
   ]
  },
  {
   "cell_type": "code",
   "execution_count": 128,
   "metadata": {
    "scrolled": true
   },
   "outputs": [
    {
     "name": "stderr",
     "output_type": "stream",
     "text": [
      "C:\\Users\\Jeeho\\Anaconda3\\lib\\site-packages\\sklearn\\linear_model\\_coordinate_descent.py:476: ConvergenceWarning: Objective did not converge. You might want to increase the number of iterations. Duality gap: 63343966899.598785, tolerance: 41844521.494450316\n",
      "  positive)\n",
      "C:\\Users\\Jeeho\\Anaconda3\\lib\\site-packages\\sklearn\\linear_model\\_coordinate_descent.py:476: ConvergenceWarning: Objective did not converge. You might want to increase the number of iterations. Duality gap: 25836871069.292267, tolerance: 42317578.24210376\n",
      "  positive)\n",
      "C:\\Users\\Jeeho\\Anaconda3\\lib\\site-packages\\sklearn\\linear_model\\_coordinate_descent.py:476: ConvergenceWarning: Objective did not converge. You might want to increase the number of iterations. Duality gap: 66723763817.430786, tolerance: 39931475.17416074\n",
      "  positive)\n",
      "C:\\Users\\Jeeho\\Anaconda3\\lib\\site-packages\\sklearn\\linear_model\\_coordinate_descent.py:476: ConvergenceWarning: Objective did not converge. You might want to increase the number of iterations. Duality gap: 38908726202.64667, tolerance: 37774092.099989116\n",
      "  positive)\n",
      "C:\\Users\\Jeeho\\Anaconda3\\lib\\site-packages\\sklearn\\linear_model\\_coordinate_descent.py:476: ConvergenceWarning: Objective did not converge. You might want to increase the number of iterations. Duality gap: 60077526233.09454, tolerance: 43834149.9878675\n",
      "  positive)\n",
      "C:\\Users\\Jeeho\\Anaconda3\\lib\\site-packages\\sklearn\\linear_model\\_coordinate_descent.py:476: ConvergenceWarning: Objective did not converge. You might want to increase the number of iterations. Duality gap: 75592920564.65755, tolerance: 38972788.63768456\n",
      "  positive)\n",
      "C:\\Users\\Jeeho\\Anaconda3\\lib\\site-packages\\sklearn\\linear_model\\_coordinate_descent.py:476: ConvergenceWarning: Objective did not converge. You might want to increase the number of iterations. Duality gap: 66061629255.1759, tolerance: 34467907.23724665\n",
      "  positive)\n",
      "C:\\Users\\Jeeho\\Anaconda3\\lib\\site-packages\\sklearn\\linear_model\\_coordinate_descent.py:476: ConvergenceWarning: Objective did not converge. You might want to increase the number of iterations. Duality gap: 65614015334.98782, tolerance: 42039164.084871545\n",
      "  positive)\n",
      "C:\\Users\\Jeeho\\Anaconda3\\lib\\site-packages\\sklearn\\linear_model\\_coordinate_descent.py:476: ConvergenceWarning: Objective did not converge. You might want to increase the number of iterations. Duality gap: 53198542313.96933, tolerance: 38923533.55723297\n",
      "  positive)\n",
      "C:\\Users\\Jeeho\\Anaconda3\\lib\\site-packages\\sklearn\\linear_model\\_coordinate_descent.py:476: ConvergenceWarning: Objective did not converge. You might want to increase the number of iterations. Duality gap: 49862869242.44693, tolerance: 42298075.74684508\n",
      "  positive)\n"
     ]
    },
    {
     "data": {
      "text/plain": [
       "-0.5905307639141494"
      ]
     },
     "execution_count": 128,
     "metadata": {},
     "output_type": "execute_result"
    }
   ],
   "source": [
    "lasso_r_squared = cross_val_score(lasso, df_ml_prepared, df_ml3_labels, scoring='r2', cv=10).mean()\n",
    "\n",
    "lasso_r_squared"
   ]
  },
  {
   "cell_type": "code",
   "execution_count": 124,
   "metadata": {},
   "outputs": [
    {
     "data": {
      "text/plain": [
       "0.108177090335123"
      ]
     },
     "execution_count": 124,
     "metadata": {},
     "output_type": "execute_result"
    }
   ],
   "source": [
    "lasso.score(df_ml_prepared, df_ml3_labels)"
   ]
  },
  {
   "cell_type": "markdown",
   "metadata": {},
   "source": [
    "#### 3.2.3 Lasso Regression"
   ]
  },
  {
   "cell_type": "code",
   "execution_count": 96,
   "metadata": {
    "scrolled": true
   },
   "outputs": [
    {
     "name": "stderr",
     "output_type": "stream",
     "text": [
      "C:\\Users\\Jeeho\\Anaconda3\\lib\\site-packages\\sklearn\\linear_model\\_coordinate_descent.py:476: ConvergenceWarning: Objective did not converge. You might want to increase the number of iterations. Duality gap: 63343966899.598785, tolerance: 41844521.494450316\n",
      "  positive)\n",
      "C:\\Users\\Jeeho\\Anaconda3\\lib\\site-packages\\sklearn\\linear_model\\_coordinate_descent.py:476: ConvergenceWarning: Objective did not converge. You might want to increase the number of iterations. Duality gap: 25836871069.292267, tolerance: 42317578.24210376\n",
      "  positive)\n",
      "C:\\Users\\Jeeho\\Anaconda3\\lib\\site-packages\\sklearn\\linear_model\\_coordinate_descent.py:476: ConvergenceWarning: Objective did not converge. You might want to increase the number of iterations. Duality gap: 66723763817.430786, tolerance: 39931475.17416074\n",
      "  positive)\n",
      "C:\\Users\\Jeeho\\Anaconda3\\lib\\site-packages\\sklearn\\linear_model\\_coordinate_descent.py:476: ConvergenceWarning: Objective did not converge. You might want to increase the number of iterations. Duality gap: 38908726202.64667, tolerance: 37774092.099989116\n",
      "  positive)\n",
      "C:\\Users\\Jeeho\\Anaconda3\\lib\\site-packages\\sklearn\\linear_model\\_coordinate_descent.py:476: ConvergenceWarning: Objective did not converge. You might want to increase the number of iterations. Duality gap: 60077526233.09454, tolerance: 43834149.9878675\n",
      "  positive)\n",
      "C:\\Users\\Jeeho\\Anaconda3\\lib\\site-packages\\sklearn\\linear_model\\_coordinate_descent.py:476: ConvergenceWarning: Objective did not converge. You might want to increase the number of iterations. Duality gap: 75592920564.65755, tolerance: 38972788.63768456\n",
      "  positive)\n",
      "C:\\Users\\Jeeho\\Anaconda3\\lib\\site-packages\\sklearn\\linear_model\\_coordinate_descent.py:476: ConvergenceWarning: Objective did not converge. You might want to increase the number of iterations. Duality gap: 66061629255.1759, tolerance: 34467907.23724665\n",
      "  positive)\n",
      "C:\\Users\\Jeeho\\Anaconda3\\lib\\site-packages\\sklearn\\linear_model\\_coordinate_descent.py:476: ConvergenceWarning: Objective did not converge. You might want to increase the number of iterations. Duality gap: 65614015334.98782, tolerance: 42039164.084871545\n",
      "  positive)\n",
      "C:\\Users\\Jeeho\\Anaconda3\\lib\\site-packages\\sklearn\\linear_model\\_coordinate_descent.py:476: ConvergenceWarning: Objective did not converge. You might want to increase the number of iterations. Duality gap: 53198542313.96933, tolerance: 38923533.55723297\n",
      "  positive)\n"
     ]
    },
    {
     "name": "stdout",
     "output_type": "stream",
     "text": [
      "Scores: [52364.99312807 47575.72455089 60649.84824631 64474.56445795\n",
      " 34051.59114206 60577.06682884 78578.55987761 54891.38204639\n",
      " 62804.73955895 48639.99501753]\n",
      "Mean: 56460.84648546002\n",
      "Standard deviation: 11356.381352822562\n"
     ]
    },
    {
     "name": "stderr",
     "output_type": "stream",
     "text": [
      "C:\\Users\\Jeeho\\Anaconda3\\lib\\site-packages\\sklearn\\linear_model\\_coordinate_descent.py:476: ConvergenceWarning: Objective did not converge. You might want to increase the number of iterations. Duality gap: 49862869242.44693, tolerance: 42298075.74684508\n",
      "  positive)\n"
     ]
    }
   ],
   "source": [
    "# Lasso Regression\n",
    "\n",
    "lasso_scores = cross_val_score(lasso, df_ml_prepared, df_ml3_labels,\n",
    "            scoring=\"neg_mean_squared_error\", cv=10)\n",
    "\n",
    "lasso_rmse_scores = np.sqrt(-lasso_scores)\n",
    "display_scores(lasso_rmse_scores)\n"
   ]
  },
  {
   "cell_type": "markdown",
   "metadata": {},
   "source": [
    "####  3.2.4. Elastic-Net Regression"
   ]
  },
  {
   "cell_type": "code",
   "execution_count": 106,
   "metadata": {},
   "outputs": [
    {
     "name": "stdout",
     "output_type": "stream",
     "text": [
      "Scores: [48526.06206326 43918.84343694 54590.88039496 64371.4178794\n",
      " 30286.22104555 57463.45468945 78327.12586671 44077.61925263\n",
      " 63213.77143922 44097.50125869]\n",
      "Mean: 52887.28973268176\n",
      "Standard deviation: 12940.952476679075\n"
     ]
    }
   ],
   "source": [
    "elastic_scores = cross_val_score(Elastic_reg, df_ml_prepared, df_ml3_labels,\n",
    "            scoring=\"neg_mean_squared_error\", cv=10)\n",
    "\n",
    "elastic_rmse_scores = np.sqrt(-elastic_scores)\n",
    "display_scores(elastic_rmse_scores)"
   ]
  },
  {
   "cell_type": "markdown",
   "metadata": {},
   "source": [
    "#### 3.2.5. Random Forest Regression"
   ]
  },
  {
   "cell_type": "code",
   "execution_count": 82,
   "metadata": {},
   "outputs": [
    {
     "name": "stdout",
     "output_type": "stream",
     "text": [
      "Scores: [50808.96934486 48141.38855608 56254.72017958 64672.48848171\n",
      " 35757.67822158 59504.09893327 78133.53092187 53338.75679959\n",
      " 62617.59221379 48672.54443234]\n",
      "Mean: 55790.17680846636\n",
      "Standard deviation: 10862.923606321718\n"
     ]
    }
   ],
   "source": [
    "forest_scores = cross_val_score(forest_reg, df_ml_prepared, df_ml3_labels,\n",
    "            scoring=\"neg_mean_squared_error\", cv=10)\n",
    "\n",
    "forest_rmse_scores = np.sqrt(-forest_scores)\n",
    "display_scores(forest_rmse_scores)"
   ]
  },
  {
   "cell_type": "markdown",
   "metadata": {},
   "source": [
    "after a cross-validation, the RMSE of linear regression model shows only Mean as 3.3 and Std as 7.03 which is significantly lower than decision tree regressions(Mean: 55915.5 / Std: 11270.5), Lasso regression(Mean: 56460.8 / Std: 11356.4), EleasticNet regression(Mean: 52887.3/ Std:12940.9) and Random Forest Regression(Mean:55790.2 / Std:10862.9) comparing the mean of 'total_stockholder_equity_$m' in train set 44111.14."
   ]
  },
  {
   "cell_type": "markdown",
   "metadata": {},
   "source": [
    "### 3.3 Analyze the most significant variables for each algorithm"
   ]
  },
  {
   "cell_type": "markdown",
   "metadata": {},
   "source": [
    "#### 3.3.1 Check standardized regression coefficients (which is after standardization of data)\n"
   ]
  },
  {
   "cell_type": "code",
   "execution_count": 79,
   "metadata": {
    "scrolled": false
   },
   "outputs": [
    {
     "data": {
      "image/png": "[encoded data removed]",
      "text/plain": [
       "<Figure size 1440x720 with 1 Axes>"
      ]
     },
     "metadata": {},
     "output_type": "display_data"
    }
   ],
   "source": [
    "from pandas import Series\n",
    "predictors = df_ml3.columns\n",
    "\n",
    "coef = Series(lin_reg.coef_,predictors).sort_values()\n",
    "\n",
    "coef.plot(kind='bar', title='Variable Coefficients')\n",
    "plt.gcf().set_size_inches(20, 10)"
   ]
  },
  {
   "cell_type": "markdown",
   "metadata": {},
   "source": [
    "#### 3.3.2 Check the absolute value of the t-statistics for each model parameter\n"
   ]
  },
  {
   "cell_type": "markdown",
   "metadata": {},
   "source": [
    "### 3.4 Short-list the top three to five most promising models\n",
    " "
   ]
  },
  {
   "cell_type": "markdown",
   "metadata": {},
   "source": [
    "## 4. Fine-tune the models"
   ]
  },
  {
   "cell_type": "markdown",
   "metadata": {},
   "source": [
    "### 4.1. Fine-tune the hyperparameters using cross-validation\n",
    "- GridSearch CV "
   ]
  },
  {
   "cell_type": "code",
   "execution_count": 114,
   "metadata": {
    "scrolled": true
   },
   "outputs": [
    {
     "name": "stdout",
     "output_type": "stream",
     "text": [
      "Fitting 5 folds for each of 8 candidates, totalling 40 fits\n"
     ]
    },
    {
     "name": "stderr",
     "output_type": "stream",
     "text": [
      "[Parallel(n_jobs=1)]: Using backend SequentialBackend with 1 concurrent workers.\n",
      "C:\\Users\\Jeeho\\Anaconda3\\lib\\site-packages\\sklearn\\linear_model\\_coordinate_descent.py:476: ConvergenceWarning: Objective did not converge. You might want to increase the number of iterations. Duality gap: 133226661788.83194, tolerance: 39404863.498401895\n",
      "  positive)\n",
      "C:\\Users\\Jeeho\\Anaconda3\\lib\\site-packages\\sklearn\\linear_model\\_coordinate_descent.py:476: ConvergenceWarning: Objective did not converge. You might want to increase the number of iterations. Duality gap: 28851049081.41156, tolerance: 32907022.59277405\n",
      "  positive)\n",
      "C:\\Users\\Jeeho\\Anaconda3\\lib\\site-packages\\sklearn\\linear_model\\_coordinate_descent.py:476: ConvergenceWarning: Objective did not converge. You might want to increase the number of iterations. Duality gap: 165167331676.74597, tolerance: 38163716.60140286\n",
      "  positive)\n",
      "C:\\Users\\Jeeho\\Anaconda3\\lib\\site-packages\\sklearn\\linear_model\\_coordinate_descent.py:476: ConvergenceWarning: Objective did not converge. You might want to increase the number of iterations. Duality gap: 66790019310.16809, tolerance: 31701645.331038356\n",
      "  positive)\n",
      "C:\\Users\\Jeeho\\Anaconda3\\lib\\site-packages\\sklearn\\linear_model\\_coordinate_descent.py:476: ConvergenceWarning: Objective did not converge. You might want to increase the number of iterations. Duality gap: 58232013432.911316, tolerance: 36521543.56629604\n",
      "  positive)\n",
      "C:\\Users\\Jeeho\\Anaconda3\\lib\\site-packages\\sklearn\\linear_model\\_coordinate_descent.py:476: ConvergenceWarning: Objective did not converge. You might want to increase the number of iterations. Duality gap: 20390867672.93225, tolerance: 39404863.498401895\n",
      "  positive)\n",
      "C:\\Users\\Jeeho\\Anaconda3\\lib\\site-packages\\sklearn\\linear_model\\_coordinate_descent.py:476: ConvergenceWarning: Objective did not converge. You might want to increase the number of iterations. Duality gap: 26330350369.35074, tolerance: 32907022.59277405\n",
      "  positive)\n",
      "C:\\Users\\Jeeho\\Anaconda3\\lib\\site-packages\\sklearn\\linear_model\\_coordinate_descent.py:476: ConvergenceWarning: Objective did not converge. You might want to increase the number of iterations. Duality gap: 158001491762.62518, tolerance: 38163716.60140286\n",
      "  positive)\n",
      "C:\\Users\\Jeeho\\Anaconda3\\lib\\site-packages\\sklearn\\linear_model\\_coordinate_descent.py:476: ConvergenceWarning: Objective did not converge. You might want to increase the number of iterations. Duality gap: 62254710482.07355, tolerance: 31701645.331038356\n",
      "  positive)\n",
      "C:\\Users\\Jeeho\\Anaconda3\\lib\\site-packages\\sklearn\\linear_model\\_coordinate_descent.py:476: ConvergenceWarning: Objective did not converge. You might want to increase the number of iterations. Duality gap: 58026706020.60652, tolerance: 36521543.56629604\n",
      "  positive)\n",
      "C:\\Users\\Jeeho\\Anaconda3\\lib\\site-packages\\sklearn\\linear_model\\_coordinate_descent.py:476: ConvergenceWarning: Objective did not converge. You might want to increase the number of iterations. Duality gap: 23883527440.61734, tolerance: 39404863.498401895\n",
      "  positive)\n",
      "C:\\Users\\Jeeho\\Anaconda3\\lib\\site-packages\\sklearn\\linear_model\\_coordinate_descent.py:476: ConvergenceWarning: Objective did not converge. You might want to increase the number of iterations. Duality gap: 26960968959.78778, tolerance: 32907022.59277405\n",
      "  positive)\n",
      "C:\\Users\\Jeeho\\Anaconda3\\lib\\site-packages\\sklearn\\linear_model\\_coordinate_descent.py:476: ConvergenceWarning: Objective did not converge. You might want to increase the number of iterations. Duality gap: 101075167500.32065, tolerance: 38163716.60140286\n",
      "  positive)\n",
      "C:\\Users\\Jeeho\\Anaconda3\\lib\\site-packages\\sklearn\\linear_model\\_coordinate_descent.py:476: ConvergenceWarning: Objective did not converge. You might want to increase the number of iterations. Duality gap: 61774371695.02748, tolerance: 31701645.331038356\n",
      "  positive)\n",
      "C:\\Users\\Jeeho\\Anaconda3\\lib\\site-packages\\sklearn\\linear_model\\_coordinate_descent.py:476: ConvergenceWarning: Objective did not converge. You might want to increase the number of iterations. Duality gap: 69440044091.67278, tolerance: 36521543.56629604\n",
      "  positive)\n",
      "C:\\Users\\Jeeho\\Anaconda3\\lib\\site-packages\\sklearn\\linear_model\\_coordinate_descent.py:476: ConvergenceWarning: Objective did not converge. You might want to increase the number of iterations. Duality gap: 36025562441.4465, tolerance: 39404863.498401895\n",
      "  positive)\n",
      "C:\\Users\\Jeeho\\Anaconda3\\lib\\site-packages\\sklearn\\linear_model\\_coordinate_descent.py:476: ConvergenceWarning: Objective did not converge. You might want to increase the number of iterations. Duality gap: 47488338637.81062, tolerance: 32907022.59277405\n",
      "  positive)\n",
      "C:\\Users\\Jeeho\\Anaconda3\\lib\\site-packages\\sklearn\\linear_model\\_coordinate_descent.py:476: ConvergenceWarning: Objective did not converge. You might want to increase the number of iterations. Duality gap: 64591147065.42894, tolerance: 38163716.60140286\n",
      "  positive)\n",
      "C:\\Users\\Jeeho\\Anaconda3\\lib\\site-packages\\sklearn\\linear_model\\_coordinate_descent.py:476: ConvergenceWarning: Objective did not converge. You might want to increase the number of iterations. Duality gap: 48066696500.39563, tolerance: 31701645.331038356\n",
      "  positive)\n",
      "C:\\Users\\Jeeho\\Anaconda3\\lib\\site-packages\\sklearn\\linear_model\\_coordinate_descent.py:476: ConvergenceWarning: Objective did not converge. You might want to increase the number of iterations. Duality gap: 75179619733.47029, tolerance: 36521543.56629604\n",
      "  positive)\n",
      "C:\\Users\\Jeeho\\Anaconda3\\lib\\site-packages\\sklearn\\linear_model\\_coordinate_descent.py:476: ConvergenceWarning: Objective did not converge. You might want to increase the number of iterations. Duality gap: 33677704182.090363, tolerance: 39404863.498401895\n",
      "  positive)\n",
      "C:\\Users\\Jeeho\\Anaconda3\\lib\\site-packages\\sklearn\\linear_model\\_coordinate_descent.py:476: ConvergenceWarning: Objective did not converge. You might want to increase the number of iterations. Duality gap: 40578782952.45648, tolerance: 32907022.59277405\n",
      "  positive)\n",
      "C:\\Users\\Jeeho\\Anaconda3\\lib\\site-packages\\sklearn\\linear_model\\_coordinate_descent.py:476: ConvergenceWarning: Objective did not converge. You might want to increase the number of iterations. Duality gap: 47269623833.210205, tolerance: 38163716.60140286\n",
      "  positive)\n",
      "C:\\Users\\Jeeho\\Anaconda3\\lib\\site-packages\\sklearn\\linear_model\\_coordinate_descent.py:476: ConvergenceWarning: Objective did not converge. You might want to increase the number of iterations. Duality gap: 16226061797.42746, tolerance: 31701645.331038356\n",
      "  positive)\n",
      "C:\\Users\\Jeeho\\Anaconda3\\lib\\site-packages\\sklearn\\linear_model\\_coordinate_descent.py:476: ConvergenceWarning: Objective did not converge. You might want to increase the number of iterations. Duality gap: 27184125934.79178, tolerance: 36521543.56629604\n",
      "  positive)\n",
      "[Parallel(n_jobs=1)]: Done  40 out of  40 | elapsed:    0.5s finished\n"
     ]
    },
    {
     "name": "stdout",
     "output_type": "stream",
     "text": [
      "Best Score:  -0.10598488286832106\n",
      "Best Params:  {'alpha': 1500}\n"
     ]
    }
   ],
   "source": [
    "# find optimal alpha with grid search\n",
    "#Lasso regression\n",
    "alpha = [0.001, 0.01, 0.1, 1, 10, 500, 1000, 1500]\n",
    "param_grid = dict(alpha=alpha)\n",
    "grid_lasso = GridSearchCV(estimator=lasso, param_grid=param_grid, scoring='r2', verbose=1, cv=5) #n_jobs=-1)\n",
    "grid_lasso_result = grid_lasso.fit(df_ml_prepared, df_ml3_labels,)\n",
    "print('Best Score: ', grid_lasso_result.best_score_)\n",
    "print('Best Params: ', grid_lasso_result.best_params_)"
   ]
  },
  {
   "cell_type": "code",
   "execution_count": 115,
   "metadata": {},
   "outputs": [
    {
     "name": "stdout",
     "output_type": "stream",
     "text": [
      "Fitting 5 folds for each of 88 candidates, totalling 440 fits\n"
     ]
    },
    {
     "name": "stderr",
     "output_type": "stream",
     "text": [
      "[Parallel(n_jobs=-1)]: Using backend LokyBackend with 4 concurrent workers.\n",
      "[Parallel(n_jobs=-1)]: Done 200 tasks      | elapsed:    1.2s\n"
     ]
    },
    {
     "name": "stdout",
     "output_type": "stream",
     "text": [
      "Best Score:  -0.0360369709679643\n",
      "Best Params:  {'alpha': 1500, 'l1_ratio': 0}\n"
     ]
    },
    {
     "name": "stderr",
     "output_type": "stream",
     "text": [
      "[Parallel(n_jobs=-1)]: Done 440 out of 440 | elapsed:    1.7s finished\n",
      "C:\\Users\\Jeeho\\Anaconda3\\lib\\site-packages\\sklearn\\linear_model\\_coordinate_descent.py:476: ConvergenceWarning: Objective did not converge. You might want to increase the number of iterations. Duality gap: 223618130752.81146, tolerance: 44736129.36160352\n",
      "  positive)\n"
     ]
    }
   ],
   "source": [
    "# find optimal alpha with grid search\n",
    "#Elastic-Net regression\n",
    "alpha = [0.001, 0.01, 0.1, 1, 10, 500, 1000, 1500]\n",
    "l1_ratio = [0, 0.1, 0.2, 0.3, 0.4, 0.5, 0.6, 0.7, 0.8, 0.9, 1]\n",
    "param_grid = dict(alpha=alpha, l1_ratio=l1_ratio)\n",
    "\n",
    "grid_elastic = GridSearchCV(estimator=Elastic_reg, param_grid=param_grid, scoring='r2', verbose=1, n_jobs=-1)\n",
    "grid_elastic_result = grid_elastic.fit(df_ml_prepared, df_ml3_labels,)\n",
    "print('Best Score: ', grid_elastic_result.best_score_)\n",
    "print('Best Params: ', grid_elastic_result.best_params_)"
   ]
  },
  {
   "cell_type": "code",
   "execution_count": 116,
   "metadata": {},
   "outputs": [
    {
     "data": {
      "text/plain": [
       "Lasso(alpha=1500, copy_X=True, fit_intercept=True, max_iter=1000,\n",
       "      normalize=False, positive=False, precompute=False, random_state=None,\n",
       "      selection='cyclic', tol=0.0001, warm_start=False)"
      ]
     },
     "execution_count": 116,
     "metadata": {},
     "output_type": "execute_result"
    }
   ],
   "source": [
    "grid_lasso.best_estimator_"
   ]
  },
  {
   "cell_type": "code",
   "execution_count": 119,
   "metadata": {},
   "outputs": [
    {
     "data": {
      "text/plain": [
       "ElasticNet(alpha=1500, copy_X=True, fit_intercept=True, l1_ratio=0,\n",
       "           max_iter=1000, normalize=False, positive=False, precompute=False,\n",
       "           random_state=None, selection='cyclic', tol=0.0001, warm_start=False)"
      ]
     },
     "execution_count": 119,
     "metadata": {},
     "output_type": "execute_result"
    }
   ],
   "source": [
    "grid_elastic.best_estimator_\n"
   ]
  },
  {
   "cell_type": "code",
   "execution_count": null,
   "metadata": {},
   "outputs": [],
   "source": []
  }
 ],
 "metadata": {
  "kernelspec": {
   "display_name": "Python 3",
   "language": "python",
   "name": "python3"
  },
  "language_info": {
   "codemirror_mode": {
    "name": "ipython",
    "version": 3
   },
   "file_extension": ".py",
   "mimetype": "text/x-python",
   "name": "python",
   "nbconvert_exporter": "python",
   "pygments_lexer": "ipython3",
   "version": "3.6.5"
  }
 },
 "nbformat": 4,
 "nbformat_minor": 2
}
