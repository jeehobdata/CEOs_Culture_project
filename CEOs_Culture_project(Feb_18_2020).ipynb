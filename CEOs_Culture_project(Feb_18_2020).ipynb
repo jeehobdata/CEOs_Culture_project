{
 "cells": [
  {
   "cell_type": "code",
   "execution_count": 1,
   "metadata": {},
   "outputs": [],
   "source": [
    "import awscli\n",
    "import sys\n",
    "import selenium\n",
    "import unittest\n",
    "import boto3\n",
    "import pandas as pd\n",
    "import tabulate\n",
    "import time\n",
    "import requests\n",
    "import csv\n",
    "import dataframe\n",
    "from bs4 import BeautifulSoup\n",
    "from tabulate import tabulate\n",
    "from selenium import webdriver"
   ]
  },
  {
   "cell_type": "code",
   "execution_count": 2,
   "metadata": {},
   "outputs": [],
   "source": [
    "browser = webdriver.Chrome(r\"C:\\Users\\Jeeho\\AppData\\Local\\Programs\\Python\\Python36\\chromedriver.exe\")\n",
    "browser.get('https://fortune.com/global500/2019/search/')"
   ]
  },
  {
   "cell_type": "code",
   "execution_count": 3,
   "metadata": {},
   "outputs": [],
   "source": [
    "#Find EIN filed\n",
    "inputElement = browser.find_element_by_xpath(\"//*[@id='content']/div/div[2]/div/div[2]/div/div[2]/span[2]/select\")\n",
    "inputElement.send_keys('100 Rows')"
   ]
  },
  {
   "cell_type": "code",
   "execution_count": 25,
   "metadata": {},
   "outputs": [],
   "source": [
    "#identify the table to scrape\n",
    "table = browser.find_element_by_css_selector('div.rt-tbody')"
   ]
  },
  {
   "cell_type": "code",
   "execution_count": 48,
   "metadata": {},
   "outputs": [],
   "source": [
    "datetime = time.strftime(\"%Y%m%d-%H%M%S\")\n",
    "filedirectory = 'C:/Users/Jeeho/Documents/Python Scripts/Capstone project/Web_Scrap/'\n",
    "filename = 'fg500'\n",
    "datetime = time.strftime(\"%Y%m%d%H%M%S\")\n",
    "file = \"%s%s%s.csv\"%(filedirectory,filename,datetime)"
   ]
  },
  {
   "cell_type": "code",
   "execution_count": 28,
   "metadata": {
    "scrolled": true
   },
   "outputs": [
    {
     "name": "stdout",
     "output_type": "stream",
     "text": [
      "[['1', 'Walmart', '$514,405.00', '2.8%', '$6,670.00', '$219,295.00', '-32.4%', '2,200,000', '-', 'U.S.'], ['2', 'Sinopec Group', '$414,649.90', '26.8%', '$5,845.00', '$329,186.30', '280.1%', '619,151', '1', 'China'], ['3', 'Royal Dutch Shell', '$396,556.00', '27.2%', '$23,352.00', '$399,194.00', '79.9%', '81,000', '2', 'Netherlands'], ['4', 'China National Petroleum', '$392,976.60', '20.5%', '$2,270.50', '$601,899.90', '-', '1,382,401', '-', 'China'], ['5', 'State Grid', '$387,056.00', '10.9%', '$8,174.80', '$572,309.50', '-14.3%', '917,717', '-3', 'China'], ['6', 'Saudi Aramco', '$355,905.00', '35.3%', '$110,974.50', '$358,872.90', '46.9%', '76,418', '-', 'Saudi Arabia'], ['7', 'BP', '$303,738.00', '24.2%', '$9,383.00', '$282,176.00', '176.9%', '73,000', '1', 'Britain'], ['8', 'Exxon Mobil', '$290,212.00', '18.8%', '$20,840.00', '$346,196.00', '5.7%', '71,000', '1', 'U.S.'], ['9', 'Volkswagen', '$278,341.50', '7%', '$14,322.50', '$523,672.30', '9.3%', '664,496', '-2', 'Germany'], ['10', 'Toyota Motor', '$272,612.00', '2.8%', '$16,982.00', '$469,295.60', '-24.6%', '370,870', '-4', 'Japan'], ['11', 'Apple', '$265,595.00', '15.9%', '$59,531.00', '$365,725.00', '23.1%', '132,000', '-', 'U.S.'], ['12', 'Berkshire Hathaway', '$247,837.00', '2.4%', '$4,021.00', '$707,794.00', '-91.1%', '389,000', '-2', 'U.S.'], ['13', 'Amazon.com', '$232,887.00', '30.9%', '$10,073.00', '$162,648.00', '232.1%', '647,500', '5', 'U.S.'], ['14', 'UnitedHealth Group', '$226,247.00', '12.5%', '$11,986.00', '$152,221.00', '13.5%', '300,000', '1', 'U.S.'], ['15', 'Samsung Electronics', '$221,579.40', '4.5%', '$39,895.20', '$304,165.30', '9.1%', '309,630', '-3', 'South Korea'], ['16', 'Glencore', '$219,754.00', '6.9%', '$3,408.00', '$128,672.00', '-41%', '85,504', '-2', 'Switzerland'], ['17', 'McKesson', '$214,319.00', '2.9%', '$34', '$59,672.00', '-49.3%', '70,000', '-4', 'U.S.'], ['18', 'Daimler', '$197,515.30', '6.6%', '$8,555.00', '$321,890.50', '-27.9%', '298,683', '-2', 'Germany'], ['19', 'CVS Health', '$194,579.00', '5.3%', '$-594', '$196,456.00', '-109%', '295,000', '-2', 'U.S.'], ['20', 'Total', '$184,106.00', '23.5%', '$11,446.00', '$256,762.00', '32.6%', '104,460', '8', 'France'], ['21', 'China State Construction Engineering', '$181,524.50', '16.3%', '$3,159.50', '$272,768.80', '18.1%', '302,827', '2', 'China'], ['22', 'Trafigura Group', '$180,744.10', '32.5%', '$849.2', '$53,801.00', '0.2%', '4,316', '10', 'Singapore'], ['23', 'Hon Hai Precision Industry', '$175,617.00', '13.5%', '$4,281.60', '$110,012.90', '-6.1%', '667,680', '1', 'Taiwan'], ['24', 'EXOR Group', '$175,009.50', '8.2%', '$1,589.70', '$190,052.30', '1.3%', '314,790', '-5', 'Netherlands'], ['25', 'AT&T', '$170,756.00', '6.4%', '$19,370.00', '$531,864.00', '-34.2%', '268,220', '-5', 'U.S.'], ['26', 'Industrial & Commercial Bank of China', '$168,979.00', '10.4%', '$45,002.30', '$4,034,481.60', '6.3%', '449,296', '-', 'China'], ['27', 'AmerisourceBergen', '$167,939.60', '9.7%', '$1,658.40', '$37,669.80', '355%', '20,500', '-2', 'U.S.'], ['28', 'Chevron', '$166,339.00', '23.6%', '$14,824.00', '$253,863.00', '61.2%', '48,600', '5', 'U.S.'], ['29', 'Ping An Insurance', '$163,597.40', '13.5%', '$16,237.20', '$1,040,383.40', '23.2%', '376,900', '-', 'China'], ['30', 'Ford Motor', '$160,338.00', '2.3%', '$3,677.00', '$256,540.00', '-51.6%', '199,000', '-8', 'U.S.'], ['31', 'China Construction Bank', '$151,110.80', '9%', '$38,498.40', '$3,382,421.70', '7.4%', '366,996', '-', 'China'], ['32', 'General Motors', '$147,049.00', '-6.5%', '$8,014.00', '$227,339.00', '-', '173,000', '-11', 'U.S.'], ['33', 'Mitsubishi', '$145,243.30', '112.7%', '$5,328.00', '$149,388.30', '5.4%', '79,994', '96', 'Japan'], ['34', 'Honda Motor', '$143,302.90', '3.4%', '$5,504.60', '$184,504.60', '-42.4%', '219,722', '-4', 'Japan'], ['35', 'Costco Wholesale', '$141,576.00', '9.7%', '$3,134.00', '$40,830.00', '17%', '194,000', '-', 'U.S.'], ['36', 'Agricultural Bank of China', '$139,523.60', '14%', '$30,656.50', '$3,293,105.00', '7.4%', '477,526', '4', 'China'], ['37', 'Alphabet', '$136,819.00', '23.4%', '$30,736.00', '$232,792.00', '142.7%', '98,771', '15', 'U.S.'], ['38', 'Cardinal Health', '$136,809.00', '5.3%', '$256', '$39,951.00', '-80.1%', '50,200', '-4', 'U.S.'], ['39', 'SAIC Motor', '$136,392.50', '5.9%', '$5,443.80', '$114,011.70', '6.9%', '147,738', '-3', 'China'], ['40', 'Walgreens Boots Alliance', '$131,537.00', '11.3%', '$5,024.00', '$68,124.00', '23.2%', '299,000', '3', 'U.S.'], ['41', 'JPMorgan Chase & Co.', '$131,412.00', '15.4%', '$32,474.00', '$2,622,532.00', '32.9%', '256,105', '6', 'U.S.'], ['42', 'Gazprom', '$131,302.00', '17.3%', '$23,199.10', '$300,354.80', '89.4%', '466,100', '7', 'Russia'], ['43', 'Verizon Communications', '$130,863.00', '3.8%', '$15,528.00', '$264,829.00', '-48.4%', '144,500', '-6', 'U.S.'], ['44', 'Bank of China', '$127,714.10', '10.6%', '$27,225.20', '$3,097,612.00', '6.7%', '310,119', '2', 'China'], ['45', 'Allianz', '$126,799.60', '2.6%', '$8,806.40', '$1,025,919.10', '14.8%', '142,460', '-7', 'Germany'], ['46', 'AXA', '$125,578.20', '-16%', '$2,525.60', '$1,063,784.40', '-63.9%', '104,065', '-19', 'France'], ['47', 'Kroger', '$121,162.00', '-1.2%', '$3,110.00', '$38,118.00', '63.1%', '453,000', '-8', 'U.S.'], ['48', 'General Electric', '$120,268.00', '-1.6%', '$-22,355.00', '$309,129.00', '-', '283,000', '-7', 'U.S.'], ['49', 'Fannie Mae', '$120,101.00', '6.9%', '$15,959.00', '$3,418,318.00', '547.9%', '7,400', '-1', 'U.S.'], ['50', 'Lukoil', '$119,145.00', '26.9%', '$9,863.70', '$82,734.80', '37.3%', '102,500', '13', 'Russia'], ['51', 'China Life Insurance', '$116,171.50', '-3.4%', '$-2,566.90', '$580,331.60', '-1063.10%', '175,077', '-9', 'China'], ['52', 'Japan Post Holdings', '$115,220.50', '-1.2%', '$4,324.00', '$2,585,802.00', '4%', '245,922', '-7', 'Japan'], ['53', 'BMW Group', '$115,042.80', '3.4%', '$8,399.30', '$238,864.10', '-13.6%', '134,682', '-2', 'Germany'], ['54', 'Phillips 66', '$114,217.00', '24.7%', '$5,595.00', '$54,302.00', '9.6%', '14,200', '13', 'U.S.'], ['55', 'China Railway Engineering Group', '$112,132.70', '9.1%', '$1,240.90', '$137,914.20', '6.1%', '307,992', '1', 'China'], ['56', 'China Mobile Communications', '$112,096.00', '1.8%', '$11,745.30', '$255,216.60', '7.4%', '462,046', '-3', 'China'], ['57', 'Valero Energy', '$111,407.00', '26%', '$3,122.00', '$50,155.00', '-23.2%', '10,261', '17', 'U.S.'], ['58', 'Bank of America Corp.', '$110,584.00', '10.3%', '$28,147.00', '$2,354,507.00', '54.4%', '204,489', '2', 'U.S.'], ['59', 'China Railway Construction', '$110,455.90', '9.5%', '$1,186.90', '$134,180.20', '-9.3%', '356,326', '-1', 'China'], ['60', 'Microsoft', '$110,360.00', '22.7%', '$16,571.00', '$258,848.00', '-21.8%', '131,000', '11', 'U.S.'], ['61', 'Huawei Investment & Holding', '$109,030.40', '22.1%', '$8,953.90', '$96,973.70', '27.5%', '188,000', '11', 'China'], ['62', 'Home Depot', '$108,203.00', '7.2%', '$11,121.00', '$44,003.00', '28.9%', '413,000', '-5', 'U.S.'], ['63', 'China National Offshore Oil', '$108,130.40', '32.7%', '$7,331.10', '$177,193.60', '142.9%', '93,601', '24', 'China'], ['64', 'Nippon Telegraph & Telephone', '$107,146.90', '0.6%', '$7,707.50', '$201,456.10', '-6.1%', '303,351', '-9', 'Japan'], ['65', 'Itochu', '$104,627.30', '110.4%', '$4,514.30', '$91,250.60', '24.9%', '139,157', '139', 'Japan'], ['66', 'Nissan Motor', '$104,390.60', '-3.2%', '$2,878.40', '$171,251.00', '-57.3%', '148,513', '-12', 'Japan'], ['67', 'China Development Bank', '$103,072.90', '28.3%', '$16,744.30', '$2,356,616.20', '0.7%', '9,507', '-', 'China'], ['68', 'Boeing', '$101,127.00', '8.3%', '$10,460.00', '$117,359.00', '27.6%', '153,000', '-4', 'U.S.'], ['69', 'Wells Fargo', '$101,060.00', '3.4%', '$22,393.00', '$1,895,883.00', '0.9%', '258,700', '-7', 'U.S.'], ['70', 'Siemens', '$98,802.00', '7.9%', '$6,908.90', '$161,335.90', '3.6%', '379,000', '-4', 'Germany'], ['71', 'Citigroup', '$97,120.00', '10.4%', '$18,045.00', '$1,917,383.00', '-', '204,000', '5', 'U.S.'], ['72', 'Marathon Petroleum', '$97,102.00', '43.6%', '$2,780.00', '$92,940.00', '-19%', '60,350', '59', 'U.S.'], ['73', 'SK Holdings', '$95,904.50', '14.8%', '$2,048.00', '$107,069.10', '38%', '104,374', '11', 'South Korea'], ['74', 'Petrobras', '$95,584.00', '7.6%', '$7,173.00', '$222,068.00', '-', '63,361', '-1', 'Brazil'], ['75', 'Comcast', '$94,507.00', '11.8%', '$11,731.00', '$251,684.00', '-48.4%', '184,000', '5', 'U.S.'], ['76', 'Nestlé', '$93,512.50', '2.5%', '$10,364.80', '$139,045.10', '42%', '308,000', '-7', 'Switzerland'], ['77', 'Bosch Group', '$92,601.90', '5.2%', '$3,596.00', '$95,616.50', '15.9%', '409,881', '-2', 'Germany'], ['78', 'Uniper', '$92,260.80', '13.3%', '$-533.4', '$57,841.50', '-', '11,828', '10', 'Germany'], ['79', 'Anthem', '$92,105.00', '2.3%', '$3,750.00', '$71,571.00', '-2.4%', '63,900', '-9', 'U.S.'], ['80', 'China Resources', '$91,986.00', '11.9%', '$3,474.60', '$209,651.50', '10.2%', '421,274', '6', 'China'], ['81', 'Carrefour', '$91,955.20', '0.7%', '$-662.1', '$54,153.10', '-', '363,862', '-13', 'France'], ['82', 'Dongfeng Motor', '$90,934.20', '-2.5%', '$1,599.70', '$66,397.10', '14.3%', '167,528', '-17', 'China'], ['83', 'ENI', '$90,799.80', '13.5%', '$4,869.40', '$135,300.30', '28%', '31,701', '6', 'Italy'], ['84', 'Dell Technologies', '$90,621.00', '15.2%', '$-2,310.00', '$111,820.00', '-', '157,000', '9', 'U.S.'], ['85', 'Banco Santander', '$90,531.90', '3.6%', '$9,217.10', '$1,667,946.80', '23.5%', '194,015', '-8', 'Spain'], ['86', 'Rosneft Oil', '$90,055.00', '25%', '$8,745.80', '$189,980.10', '129.7%', '308,000', '29', 'Russia'], ['87', 'China FAW Group', '$89,804.70', '29.2%', '$2,660.30', '$66,682.90', '-6.8%', '142,451', '38', 'China'], ['88', 'Sinochem Group', '$89,358.10', '16.4%', '$701.4', '$71,332.70', '-6.9%', '66,713', '10', 'China'], ['89', 'Enel', '$89,305.70', '6.1%', '$5,651.80', '$189,079.60', '32.7%', '69,272', '-6', 'Italy'], ['90', 'Deutsche Telekom', '$89,286.80', '5.7%', '$2,556.20', '$166,163.60', '-34.5%', '215,675', '-9', 'Germany'], ['91', 'Crédit Agricole', '$88,325.00', '4.9%', '$5,192.70', '$1,856,682.30', '26.2%', '73,346', '-9', 'France'], ['92', 'Assicurazioni Generali', '$88,157.40', '-12.3%', '$2,725.00', '$589,590.30', '14.6%', '70,734', '-33', 'Italy'], ['93', 'China Communications Construction', '$88,140.90', '11%', '$1,585.20', '$198,943.70', '2.6%', '178,572', '-2', 'China'], ['94', 'Hyundai Motor', '$87,999.20', '3.2%', '$1,370.80', '$161,921.40', '-61.6%', '122,217', '-16', 'South Korea'], ['95', 'Pemex', '$87,403.30', '18.4%', '$-9,377.90', '$105,384.40', '-', '131,108', '12', 'Mexico'], ['96', 'Peugeot', '$87,364.30', '18.9%', '$3,336.30', '$70,811.10', '53.4%', '216,539', '12', 'France'], ['97', 'Pacific Construction Group', '$86,622.60', '12.2%', '$3,390.90', '$58,175.00', '7.9%', '387,525', '-1', 'China'], ['98', 'SoftBank Group', '$86,604.70', '4.8%', '$12,727.90', '$326,163.20', '35.7%', '76,866', '-13', 'Japan'], ['99', 'HSBC Holdings', '$86,131.00', '8.2%', '$13,727.00', '$2,558,124.00', '27.1%', '235,217', '-9', 'Britain'], ['100', 'DuPont', '$85,977.00', '37.2%', '$3,844.00', '$188,030.00', '163.3%', '98,000', '47', 'U.S.']]\n"
     ]
    }
   ],
   "source": [
    "#create empty dataframe\n",
    "data =[]\n",
    "\n",
    "#loop through dataframe to export table\n",
    "for row in table.find_elements_by_css_selector('div.rt-tr'):\n",
    "      cols = data.append([cell.text for cell in row.find_elements_by_css_selector('div.rt-td.searchResults__cell--2Y7Ce')])"
   ]
  },
  {
   "cell_type": "code",
   "execution_count": 29,
   "metadata": {
    "scrolled": true
   },
   "outputs": [
    {
     "name": "stdout",
     "output_type": "stream",
     "text": [
      "   rank                     company     revenues revenue % change profits($M)  \\\n",
      "0     1                     Walmart  $514,405.00             2.8%   $6,670.00   \n",
      "1     2               Sinopec Group  $414,649.90            26.8%   $5,845.00   \n",
      "2     3           Royal Dutch Shell  $396,556.00            27.2%  $23,352.00   \n",
      "3     4    China National Petroleum  $392,976.60            20.5%   $2,270.50   \n",
      "4     5                  State Grid  $387,056.00            10.9%   $8,174.80   \n",
      "..  ...                         ...          ...              ...         ...   \n",
      "95   96                     Peugeot   $87,364.30            18.9%   $3,336.30   \n",
      "96   97  Pacific Construction Group   $86,622.60            12.2%   $3,390.90   \n",
      "97   98              SoftBank Group   $86,604.70             4.8%  $12,727.90   \n",
      "98   99               HSBC Holdings   $86,131.00             8.2%  $13,727.00   \n",
      "99  100                      DuPont   $85,977.00            37.2%   $3,844.00   \n",
      "\n",
      "       assets($M) profits % change  employees change in rank 500  \\\n",
      "0     $219,295.00           -32.4%  2,200,000                  -   \n",
      "1     $329,186.30           280.1%    619,151                  1   \n",
      "2     $399,194.00            79.9%     81,000                  2   \n",
      "3     $601,899.90                -  1,382,401                  -   \n",
      "4     $572,309.50           -14.3%    917,717                 -3   \n",
      "..            ...              ...        ...                ...   \n",
      "95     $70,811.10            53.4%    216,539                 12   \n",
      "96     $58,175.00             7.9%    387,525                 -1   \n",
      "97    $326,163.20            35.7%     76,866                -13   \n",
      "98  $2,558,124.00            27.1%    235,217                 -9   \n",
      "99    $188,030.00           163.3%     98,000                 47   \n",
      "\n",
      "   country/territory  \n",
      "0               U.S.  \n",
      "1              China  \n",
      "2        Netherlands  \n",
      "3              China  \n",
      "4              China  \n",
      "..               ...  \n",
      "95            France  \n",
      "96             China  \n",
      "97             Japan  \n",
      "98           Britain  \n",
      "99              U.S.  \n",
      "\n",
      "[100 rows x 10 columns]\n"
     ]
    }
   ],
   "source": [
    "data = pd.DataFrame(data, columns = ['rank','company','revenues','revenue % change', 'profits($M)','assets($M)','profits % change','employees','change in rank 500','country/territory'])\n",
    "\n",
    "print(data)"
   ]
  },
  {
   "cell_type": "code",
   "execution_count": 49,
   "metadata": {},
   "outputs": [],
   "source": [
    "data.to_csv(file, header=True, line_terminator='\\n')"
   ]
  },
  {
   "cell_type": "code",
   "execution_count": 71,
   "metadata": {},
   "outputs": [
    {
     "ename": "KeyboardInterrupt",
     "evalue": "",
     "output_type": "error",
     "traceback": [
      "\u001b[1;31m---------------------------------------------------------------------------\u001b[0m",
      "\u001b[1;31mKeyboardInterrupt\u001b[0m                         Traceback (most recent call last)",
      "\u001b[1;32m<ipython-input-71-6c9b17df7dfb>\u001b[0m in \u001b[0;36m<module>\u001b[1;34m\u001b[0m\n\u001b[0;32m      8\u001b[0m     \u001b[0mcols\u001b[0m \u001b[1;33m=\u001b[0m \u001b[0mdata\u001b[0m\u001b[1;33m.\u001b[0m\u001b[0mappend\u001b[0m\u001b[1;33m(\u001b[0m\u001b[1;33m[\u001b[0m\u001b[0mcell\u001b[0m\u001b[1;33m.\u001b[0m\u001b[0mtext\u001b[0m \u001b[1;32mfor\u001b[0m \u001b[0mcell\u001b[0m \u001b[1;32min\u001b[0m \u001b[0mrow\u001b[0m\u001b[1;33m.\u001b[0m\u001b[0mfind_elements_by_css_selector\u001b[0m\u001b[1;33m(\u001b[0m\u001b[1;34m'div.rt-td.searchResults__cell--2Y7Ce'\u001b[0m\u001b[1;33m)\u001b[0m\u001b[1;33m]\u001b[0m\u001b[1;33m)\u001b[0m\u001b[1;33m\u001b[0m\u001b[1;33m\u001b[0m\u001b[0m\n\u001b[0;32m      9\u001b[0m \u001b[1;33m\u001b[0m\u001b[0m\n\u001b[1;32m---> 10\u001b[1;33m     \u001b[0mtime\u001b[0m\u001b[1;33m.\u001b[0m\u001b[0msleep\u001b[0m\u001b[1;33m(\u001b[0m\u001b[1;36m3\u001b[0m\u001b[1;33m)\u001b[0m\u001b[1;33m\u001b[0m\u001b[1;33m\u001b[0m\u001b[0m\n\u001b[0m\u001b[0;32m     11\u001b[0m     \u001b[1;31m#next_button = browser.find_element_by_css_selector('div.-next')\u001b[0m\u001b[1;33m\u001b[0m\u001b[1;33m\u001b[0m\u001b[1;33m\u001b[0m\u001b[0m\n\u001b[0;32m     12\u001b[0m     \u001b[0mnext_button\u001b[0m \u001b[1;33m=\u001b[0m \u001b[0mbrowser\u001b[0m\u001b[1;33m.\u001b[0m\u001b[0mfind_element_by_xpath\u001b[0m\u001b[1;33m(\u001b[0m\u001b[1;34m'//*[@id=\"content\"]/div/div[2]/div/div[2]/div/div[3]'\u001b[0m\u001b[1;33m)\u001b[0m\u001b[1;33m\u001b[0m\u001b[1;33m\u001b[0m\u001b[0m\n",
      "\u001b[1;31mKeyboardInterrupt\u001b[0m: "
     ]
    }
   ],
   "source": [
    "#create empty dataframe Test 2 : Included For Loop for next pages \n",
    "data =[]\n",
    "\n",
    "#Use For Loop for Indices\n",
    "\n",
    "\n",
    "for row in table.find_elements_by_css_selector('div.rt-tr'):\n",
    "    cols = data.append([cell.text for cell in row.find_elements_by_css_selector('div.rt-td.searchResults__cell--2Y7Ce')])\n",
    "\n",
    "    time.sleep(3)\n",
    "    #next_button = browser.find_element_by_css_selector('div.-next')\n",
    "    next_button = browser.find_element_by_xpath('//*[@id=\"content\"]/div/div[2]/div/div[2]/div/div[3]')\n",
    "    next_button.click()\n"
   ]
  },
  {
   "cell_type": "code",
   "execution_count": 66,
   "metadata": {
    "scrolled": true
   },
   "outputs": [
    {
     "name": "stdout",
     "output_type": "stream",
     "text": [
      "   rank                          company    revenues revenue % change  \\\n",
      "0   101                 China Post Group  $85,627.90            18.6%   \n",
      "1   102                          Hitachi  $85,507.80             1.1%   \n",
      "2   103                            Tesco  $84,270.60            11.8%   \n",
      "3   104                      BNP Paribas  $83,973.70           -28.5%   \n",
      "4   105                    JXTG Holdings  $82,733.30               8%   \n",
      "..  ...                              ...         ...              ...   \n",
      "95  196                    América Móvil  $53,977.60            -0.1%   \n",
      "96  197                  Lockheed Martin  $53,762.00             5.3%   \n",
      "97  198                           Pfizer  $53,647.00             2.1%   \n",
      "98  199  China Pacific Insurance (Group)  $53,572.10            13.2%   \n",
      "99  200                           Repsol  $53,176.00              27%   \n",
      "\n",
      "   profits($M)     assets($M) profits % change employees change in rank 500  \\\n",
      "0    $4,133.60  $1,429,122.30           -16.7%   935,191                 12   \n",
      "1    $2,007.20     $86,984.70           -38.7%   295,941                -23   \n",
      "2    $1,743.10     $65,227.60            10.2%   321,490                 -1   \n",
      "3    $8,881.90  $2,332,675.50             1.6%   197,162                -60   \n",
      "4    $2,907.10     $76,604.40             -11%    40,695                 -6   \n",
      "..         ...            ...              ...       ...                ...   \n",
      "95   $2,733.00     $72,580.00            76.3%   194,431                -16   \n",
      "96   $5,046.00     $44,876.00             152%   105,000                  3   \n",
      "97  $11,153.00    $159,422.00           -47.7%    92,400                -11   \n",
      "98   $2,724.10    $194,584.50            25.6%   107,741                 21   \n",
      "99   $2,762.80     $69,469.30            15.6%    22,735                 62   \n",
      "\n",
      "   country/territory  \n",
      "0              China  \n",
      "1              Japan  \n",
      "2            Britain  \n",
      "3             France  \n",
      "4              Japan  \n",
      "..               ...  \n",
      "95            Mexico  \n",
      "96              U.S.  \n",
      "97              U.S.  \n",
      "98             China  \n",
      "99             Spain  \n",
      "\n",
      "[100 rows x 10 columns]\n"
     ]
    }
   ],
   "source": [
    "data1 = pd.DataFrame(data, columns = ['rank','company','revenues','revenue % change', 'profits($M)','assets($M)','profits % change','employees','change in rank 500','country/territory'])\n",
    "\n",
    "print(data1)"
   ]
  },
  {
   "cell_type": "code",
   "execution_count": null,
   "metadata": {},
   "outputs": [],
   "source": [
    "data1.to_csv(file, header=True, line_terminator='\\n')"
   ]
  }
 ],
 "metadata": {
  "kernelspec": {
   "display_name": "Python 3",
   "language": "python",
   "name": "python3"
  },
  "language_info": {
   "codemirror_mode": {
    "name": "ipython",
    "version": 3
   },
   "file_extension": ".py",
   "mimetype": "text/x-python",
   "name": "python",
   "nbconvert_exporter": "python",
   "pygments_lexer": "ipython3",
   "version": "3.6.9"
  }
 },
 "nbformat": 4,
 "nbformat_minor": 2
}
